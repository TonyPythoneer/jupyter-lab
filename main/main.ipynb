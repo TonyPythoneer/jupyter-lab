{
 "cells": [
  {
   "cell_type": "code",
   "execution_count": 1,
   "metadata": {},
   "outputs": [],
   "source": [
    "# Import basic packages\n",
    "\n",
    "from pprint import pprint\n",
    "\n",
    "import pandas as pd\n",
    "import numpy as np\n",
    "import matplotlib.pyplot as plt\n",
    "from pandas.tools.plotting import scatter_matrix\n",
    "\n",
    "import seaborn as sns\n",
    "\n",
    "pd.set_option('display.max_rows', 10)"
   ]
  },
  {
   "cell_type": "code",
   "execution_count": 2,
   "metadata": {},
   "outputs": [],
   "source": [
    "# Files\n",
    "\n",
    "train_file = '../input/train.csv'\n",
    "test_file = '../input/test.csv'"
   ]
  },
  {
   "cell_type": "code",
   "execution_count": 3,
   "metadata": {},
   "outputs": [],
   "source": [
    "train_and_test_files = (train_file, test_file)\n",
    "train_df, test_df = [pd.read_csv(f, index_col='PassengerId') for f in (train_file, test_file)]"
   ]
  },
  {
   "cell_type": "code",
   "execution_count": 4,
   "metadata": {},
   "outputs": [
    {
     "name": "stdout",
     "output_type": "stream",
     "text": [
      "train_df:\n",
      "<class 'pandas.core.frame.DataFrame'>\n",
      "Int64Index: 891 entries, 1 to 891\n",
      "Data columns (total 11 columns):\n",
      "Survived    891 non-null int64\n",
      "Pclass      891 non-null int64\n",
      "Name        891 non-null object\n",
      "Sex         891 non-null object\n",
      "Age         714 non-null float64\n",
      "SibSp       891 non-null int64\n",
      "Parch       891 non-null int64\n",
      "Ticket      891 non-null object\n",
      "Fare        891 non-null float64\n",
      "Cabin       204 non-null object\n",
      "Embarked    889 non-null object\n",
      "dtypes: float64(2), int64(4), object(5)\n",
      "memory usage: 83.5+ KB\n",
      "---\n",
      "test_df:\n",
      "<class 'pandas.core.frame.DataFrame'>\n",
      "Int64Index: 418 entries, 892 to 1309\n",
      "Data columns (total 10 columns):\n",
      "Pclass      418 non-null int64\n",
      "Name        418 non-null object\n",
      "Sex         418 non-null object\n",
      "Age         332 non-null float64\n",
      "SibSp       418 non-null int64\n",
      "Parch       418 non-null int64\n",
      "Ticket      418 non-null object\n",
      "Fare        417 non-null float64\n",
      "Cabin       91 non-null object\n",
      "Embarked    418 non-null object\n",
      "dtypes: float64(2), int64(3), object(5)\n",
      "memory usage: 35.9+ KB\n"
     ]
    }
   ],
   "source": [
    "print('train_df:')\n",
    "train_df.info()\n",
    "print('---')\n",
    "print('test_df:')\n",
    "test_df.info()"
   ]
  },
  {
   "cell_type": "code",
   "execution_count": 5,
   "metadata": {},
   "outputs": [
    {
     "name": "stdout",
     "output_type": "stream",
     "text": [
      "          Survived    Pclass       Age     SibSp     Parch      Fare\n",
      "Survived  1.000000 -0.338481 -0.077221 -0.035322  0.081629  0.257307\n",
      "Pclass   -0.338481  1.000000 -0.369226  0.083081  0.018443 -0.549500\n",
      "Age      -0.077221 -0.369226  1.000000 -0.308247 -0.189119  0.096067\n",
      "SibSp    -0.035322  0.083081 -0.308247  1.000000  0.414838  0.159651\n",
      "Parch     0.081629  0.018443 -0.189119  0.414838  1.000000  0.216225\n",
      "Fare      0.257307 -0.549500  0.096067  0.159651  0.216225  1.000000\n",
      "          Survived\n",
      "Survived  1.000000\n",
      "Pclass   -0.338481\n",
      "Age      -0.077221\n",
      "SibSp    -0.035322\n",
      "Parch     0.081629\n",
      "Fare      0.257307\n"
     ]
    }
   ],
   "source": [
    "Correlation=train_df.corr()\n",
    "print(pd.DataFrame(Correlation))\n",
    "\n",
    "correlation_Y = pd.DataFrame(Correlation[\"Survived\"])\n",
    "correlation_Y.sort_values(by = \"Survived\", ascending = False)\n",
    "print(correlation_Y)"
   ]
  },
  {
   "cell_type": "code",
   "execution_count": 6,
   "metadata": {},
   "outputs": [
    {
     "data": {
      "text/plain": [
       "array([[<matplotlib.axes._subplots.AxesSubplot object at 0x7f71ce0a81d0>,\n",
       "        <matplotlib.axes._subplots.AxesSubplot object at 0x7f71cc0231d0>],\n",
       "       [<matplotlib.axes._subplots.AxesSubplot object at 0x7f71cc04b828>,\n",
       "        <matplotlib.axes._subplots.AxesSubplot object at 0x7f71cbff4eb8>],\n",
       "       [<matplotlib.axes._subplots.AxesSubplot object at 0x7f71cbfa2588>,\n",
       "        <matplotlib.axes._subplots.AxesSubplot object at 0x7f71cbfa25c0>]],\n",
       "      dtype=object)"
      ]
     },
     "execution_count": 6,
     "metadata": {},
     "output_type": "execute_result"
    },
    {
     "data": {
      "image/png": "[encoded data removed]",
      "text/plain": [
       "<Figure size 432x288 with 6 Axes>"
      ]
     },
     "metadata": {},
     "output_type": "display_data"
    }
   ],
   "source": [
    "test_df.hist()"
   ]
  },
  {
   "cell_type": "markdown",
   "metadata": {},
   "source": [
    "# Check which columns are missing\n",
    "To enhance the completion of data. We should fill the missing data."
   ]
  },
  {
   "cell_type": "code",
   "execution_count": 7,
   "metadata": {},
   "outputs": [
    {
     "name": "stderr",
     "output_type": "stream",
     "text": [
      "/app/.venv/lib/python3.6/site-packages/pandas/core/frame.py:6201: FutureWarning: Sorting because non-concatenation axis is not aligned. A future version\n",
      "of pandas will change to not sort by default.\n",
      "\n",
      "To accept the future behavior, pass 'sort=True'.\n",
      "\n",
      "To retain the current behavior and silence the warning, pass sort=False\n",
      "\n",
      "  sort=sort)\n"
     ]
    }
   ],
   "source": [
    "unnecessary_columns = ['Ticket', 'Cabin']\n",
    "train_df = train_df.drop(columns=unnecessary_columns)\n",
    "test_df = test_df.drop(columns=unnecessary_columns)\n",
    "merged_df = train_df.append(test_df)"
   ]
  },
  {
   "cell_type": "code",
   "execution_count": 8,
   "metadata": {},
   "outputs": [
    {
     "data": {
      "text/plain": [
       "['Age', 'Embarked', 'Fare', 'Survived']"
      ]
     },
     "execution_count": 8,
     "metadata": {},
     "output_type": "execute_result"
    }
   ],
   "source": [
    "# Sould check what columns are including NaN\n",
    "columns_series = merged_df.isnull().any()\n",
    "columns_with_nan_series = columns_series[columns_series == True]\n",
    "columns_with_nan = columns_with_nan_series.index.values.tolist()\n",
    "columns_with_nan"
   ]
  },
  {
   "cell_type": "code",
   "execution_count": null,
   "metadata": {},
   "outputs": [],
   "source": []
  },
  {
   "cell_type": "markdown",
   "metadata": {},
   "source": [
    "# Fill nan value of Fare column"
   ]
  },
  {
   "cell_type": "code",
   "execution_count": 9,
   "metadata": {},
   "outputs": [
    {
     "name": "stdout",
     "output_type": "stream",
     "text": [
      "Age column has 263 of row count of NaN data \n",
      "Embarked column has 2 of row count of NaN data \n",
      "Fare column has 1 of row count of NaN data \n",
      "Survived column has 418 of row count of NaN data \n"
     ]
    }
   ],
   "source": [
    "for c in columns_with_nan:\n",
    "    subset_df = merged_df[merged_df[c].isnull()]\n",
    "    row_count = len(subset_df.index)\n",
    "    print('{} column has {} of row count of NaN data '.format(c, row_count))\n",
    "    subset_df.head()"
   ]
  },
  {
   "cell_type": "code",
   "execution_count": 10,
   "metadata": {},
   "outputs": [
    {
     "name": "stdout",
     "output_type": "stream",
     "text": [
      "Median fare of 1 Pclass is: 60.0\n",
      "Median fare of 2 Pclass is: 15.0458\n",
      "Median fare of 3 Pclass is: 8.05\n"
     ]
    }
   ],
   "source": [
    "p_class_types = merged_df['Pclass'].unique()\n",
    "p_class_types.sort()\n",
    "for p_class_type in p_class_types:\n",
    "    fare_series = merged_df[merged_df['Pclass'] == p_class_type]['Fare']\n",
    "    median = fare_series.median()\n",
    "    print('Median fare of {} Pclass is: {}'.format(p_class_type, median))"
   ]
  },
  {
   "cell_type": "code",
   "execution_count": 11,
   "metadata": {},
   "outputs": [],
   "source": [
    "for p_class_type in p_class_types:\n",
    "    fare_series = merged_df[merged_df['Pclass'] == p_class_type]['Fare']\n",
    "    has_any_null = fare_series.isnull().any()\n",
    "    if not has_any_null:\n",
    "        continue\n",
    "\n",
    "    s = fare_series.isnull()\n",
    "    filled_series = s[s == True]\n",
    "    merged_df.loc[filled_series.index, ['Fare']] = fare_series.median()"
   ]
  },
  {
   "cell_type": "code",
   "execution_count": 12,
   "metadata": {},
   "outputs": [],
   "source": [
    "embarked_count_series = merged_df['Embarked'].value_counts()\n"
   ]
  },
  {
   "cell_type": "markdown",
   "metadata": {},
   "source": [
    "# Fill nan value of Age column"
   ]
  },
  {
   "cell_type": "code",
   "execution_count": 13,
   "metadata": {},
   "outputs": [],
   "source": [
    "median_age = merged_df['Age'].median()\n",
    "merged_df['Age'] = merged_df['Age'].fillna(median_age)"
   ]
  },
  {
   "cell_type": "markdown",
   "metadata": {},
   "source": [
    "# Fill nan value of Embarked column"
   ]
  },
  {
   "cell_type": "code",
   "execution_count": 14,
   "metadata": {},
   "outputs": [
    {
     "name": "stdout",
     "output_type": "stream",
     "text": [
      "Embarked 最常出現: S\n"
     ]
    }
   ],
   "source": [
    "idxmax = merged_df['Embarked'].value_counts().idxmax()\n",
    "print(\"Embarked 最常出現:\", idxmax)\n",
    "merged_df['Embarked'] = merged_df['Embarked'].fillna(idxmax)"
   ]
  },
  {
   "cell_type": "markdown",
   "metadata": {},
   "source": [
    "# Feature engineering about Name"
   ]
  },
  {
   "cell_type": "code",
   "execution_count": 15,
   "metadata": {},
   "outputs": [
    {
     "data": {
      "text/plain": [
       "PassengerId\n",
       "1                               Mr. Owen Harris\n",
       "2    Mrs. John Bradley (Florence Briggs Thayer)\n",
       "3                                   Miss. Laina\n",
       "4            Mrs. Jacques Heath (Lily May Peel)\n",
       "5                             Mr. William Henry\n",
       "Name: 1, dtype: object"
      ]
     },
     "execution_count": 15,
     "metadata": {},
     "output_type": "execute_result"
    }
   ],
   "source": [
    "last_name_series = merged_df['Name'].str.split(\", \", expand=True)[1]\n",
    "last_name_series.head(5)"
   ]
  },
  {
   "cell_type": "code",
   "execution_count": 16,
   "metadata": {},
   "outputs": [],
   "source": [
    "title_series = last_name_series.str.split('.', expand=True)[0]"
   ]
  },
  {
   "cell_type": "code",
   "execution_count": 17,
   "metadata": {},
   "outputs": [
    {
     "data": {
      "text/html": [
       "<div>\n",
       "<style scoped>\n",
       "    .dataframe tbody tr th:only-of-type {\n",
       "        vertical-align: middle;\n",
       "    }\n",
       "\n",
       "    .dataframe tbody tr th {\n",
       "        vertical-align: top;\n",
       "    }\n",
       "\n",
       "    .dataframe thead th {\n",
       "        text-align: right;\n",
       "    }\n",
       "</style>\n",
       "<table border=\"1\" class=\"dataframe\">\n",
       "  <thead>\n",
       "    <tr style=\"text-align: right;\">\n",
       "      <th></th>\n",
       "      <th>Age</th>\n",
       "      <th>Embarked</th>\n",
       "      <th>Fare</th>\n",
       "      <th>Parch</th>\n",
       "      <th>Pclass</th>\n",
       "      <th>Sex</th>\n",
       "      <th>SibSp</th>\n",
       "      <th>Survived</th>\n",
       "      <th>title</th>\n",
       "    </tr>\n",
       "    <tr>\n",
       "      <th>PassengerId</th>\n",
       "      <th></th>\n",
       "      <th></th>\n",
       "      <th></th>\n",
       "      <th></th>\n",
       "      <th></th>\n",
       "      <th></th>\n",
       "      <th></th>\n",
       "      <th></th>\n",
       "      <th></th>\n",
       "    </tr>\n",
       "  </thead>\n",
       "  <tbody>\n",
       "    <tr>\n",
       "      <th>1</th>\n",
       "      <td>22.0</td>\n",
       "      <td>S</td>\n",
       "      <td>7.2500</td>\n",
       "      <td>0</td>\n",
       "      <td>3</td>\n",
       "      <td>male</td>\n",
       "      <td>1</td>\n",
       "      <td>0.0</td>\n",
       "      <td>Mr</td>\n",
       "    </tr>\n",
       "    <tr>\n",
       "      <th>2</th>\n",
       "      <td>38.0</td>\n",
       "      <td>C</td>\n",
       "      <td>71.2833</td>\n",
       "      <td>0</td>\n",
       "      <td>1</td>\n",
       "      <td>female</td>\n",
       "      <td>1</td>\n",
       "      <td>1.0</td>\n",
       "      <td>Mrs</td>\n",
       "    </tr>\n",
       "    <tr>\n",
       "      <th>3</th>\n",
       "      <td>26.0</td>\n",
       "      <td>S</td>\n",
       "      <td>7.9250</td>\n",
       "      <td>0</td>\n",
       "      <td>3</td>\n",
       "      <td>female</td>\n",
       "      <td>0</td>\n",
       "      <td>1.0</td>\n",
       "      <td>Miss</td>\n",
       "    </tr>\n",
       "    <tr>\n",
       "      <th>4</th>\n",
       "      <td>35.0</td>\n",
       "      <td>S</td>\n",
       "      <td>53.1000</td>\n",
       "      <td>0</td>\n",
       "      <td>1</td>\n",
       "      <td>female</td>\n",
       "      <td>1</td>\n",
       "      <td>1.0</td>\n",
       "      <td>Mrs</td>\n",
       "    </tr>\n",
       "    <tr>\n",
       "      <th>5</th>\n",
       "      <td>35.0</td>\n",
       "      <td>S</td>\n",
       "      <td>8.0500</td>\n",
       "      <td>0</td>\n",
       "      <td>3</td>\n",
       "      <td>male</td>\n",
       "      <td>0</td>\n",
       "      <td>0.0</td>\n",
       "      <td>Mr</td>\n",
       "    </tr>\n",
       "  </tbody>\n",
       "</table>\n",
       "</div>"
      ],
      "text/plain": [
       "              Age Embarked     Fare  Parch  Pclass     Sex  SibSp  Survived  \\\n",
       "PassengerId                                                                   \n",
       "1            22.0        S   7.2500      0       3    male      1       0.0   \n",
       "2            38.0        C  71.2833      0       1  female      1       1.0   \n",
       "3            26.0        S   7.9250      0       3  female      0       1.0   \n",
       "4            35.0        S  53.1000      0       1  female      1       1.0   \n",
       "5            35.0        S   8.0500      0       3    male      0       0.0   \n",
       "\n",
       "            title  \n",
       "PassengerId        \n",
       "1              Mr  \n",
       "2             Mrs  \n",
       "3            Miss  \n",
       "4             Mrs  \n",
       "5              Mr  "
      ]
     },
     "execution_count": 17,
     "metadata": {},
     "output_type": "execute_result"
    }
   ],
   "source": [
    "merged_df['title'] = title_series\n",
    "merged_df = merged_df.drop(columns=['Name'])\n",
    "merged_df.head(5)"
   ]
  },
  {
   "cell_type": "code",
   "execution_count": 18,
   "metadata": {},
   "outputs": [
    {
     "data": {
      "text/html": [
       "<style  type=\"text/css\" >\n",
       "    #T_42ebae18_6ee4_11e8_9ac5_0242ac120002row0_col0 {\n",
       "            background-color:  #ffff66;\n",
       "        }    #T_42ebae18_6ee4_11e8_9ac5_0242ac120002row0_col1 {\n",
       "            background-color:  #ffff66;\n",
       "        }    #T_42ebae18_6ee4_11e8_9ac5_0242ac120002row0_col2 {\n",
       "            background-color:  #ffff66;\n",
       "        }    #T_42ebae18_6ee4_11e8_9ac5_0242ac120002row0_col3 {\n",
       "            background-color:  #008066;\n",
       "        }    #T_42ebae18_6ee4_11e8_9ac5_0242ac120002row0_col4 {\n",
       "            background-color:  #ffff66;\n",
       "        }    #T_42ebae18_6ee4_11e8_9ac5_0242ac120002row0_col5 {\n",
       "            background-color:  #ffff66;\n",
       "        }    #T_42ebae18_6ee4_11e8_9ac5_0242ac120002row0_col6 {\n",
       "            background-color:  #008066;\n",
       "        }    #T_42ebae18_6ee4_11e8_9ac5_0242ac120002row0_col7 {\n",
       "            background-color:  #ffff66;\n",
       "        }    #T_42ebae18_6ee4_11e8_9ac5_0242ac120002row0_col8 {\n",
       "            background-color:  #ffff66;\n",
       "        }    #T_42ebae18_6ee4_11e8_9ac5_0242ac120002row0_col9 {\n",
       "            background-color:  #008066;\n",
       "        }    #T_42ebae18_6ee4_11e8_9ac5_0242ac120002row0_col10 {\n",
       "            background-color:  #008066;\n",
       "        }    #T_42ebae18_6ee4_11e8_9ac5_0242ac120002row0_col11 {\n",
       "            background-color:  #008066;\n",
       "        }    #T_42ebae18_6ee4_11e8_9ac5_0242ac120002row0_col12 {\n",
       "            background-color:  #ffff66;\n",
       "        }    #T_42ebae18_6ee4_11e8_9ac5_0242ac120002row0_col13 {\n",
       "            background-color:  #008066;\n",
       "        }    #T_42ebae18_6ee4_11e8_9ac5_0242ac120002row0_col14 {\n",
       "            background-color:  #008066;\n",
       "        }    #T_42ebae18_6ee4_11e8_9ac5_0242ac120002row0_col15 {\n",
       "            background-color:  #ffff66;\n",
       "        }    #T_42ebae18_6ee4_11e8_9ac5_0242ac120002row0_col16 {\n",
       "            background-color:  #ffff66;\n",
       "        }    #T_42ebae18_6ee4_11e8_9ac5_0242ac120002row0_col17 {\n",
       "            background-color:  #008066;\n",
       "        }    #T_42ebae18_6ee4_11e8_9ac5_0242ac120002row1_col0 {\n",
       "            background-color:  #008066;\n",
       "        }    #T_42ebae18_6ee4_11e8_9ac5_0242ac120002row1_col1 {\n",
       "            background-color:  #008066;\n",
       "        }    #T_42ebae18_6ee4_11e8_9ac5_0242ac120002row1_col2 {\n",
       "            background-color:  #008066;\n",
       "        }    #T_42ebae18_6ee4_11e8_9ac5_0242ac120002row1_col3 {\n",
       "            background-color:  #ffff66;\n",
       "        }    #T_42ebae18_6ee4_11e8_9ac5_0242ac120002row1_col4 {\n",
       "            background-color:  #008066;\n",
       "        }    #T_42ebae18_6ee4_11e8_9ac5_0242ac120002row1_col5 {\n",
       "            background-color:  #008066;\n",
       "        }    #T_42ebae18_6ee4_11e8_9ac5_0242ac120002row1_col6 {\n",
       "            background-color:  #ffff66;\n",
       "        }    #T_42ebae18_6ee4_11e8_9ac5_0242ac120002row1_col7 {\n",
       "            background-color:  #008066;\n",
       "        }    #T_42ebae18_6ee4_11e8_9ac5_0242ac120002row1_col8 {\n",
       "            background-color:  #008066;\n",
       "        }    #T_42ebae18_6ee4_11e8_9ac5_0242ac120002row1_col9 {\n",
       "            background-color:  #ffff66;\n",
       "        }    #T_42ebae18_6ee4_11e8_9ac5_0242ac120002row1_col10 {\n",
       "            background-color:  #ffff66;\n",
       "        }    #T_42ebae18_6ee4_11e8_9ac5_0242ac120002row1_col11 {\n",
       "            background-color:  #ffff66;\n",
       "        }    #T_42ebae18_6ee4_11e8_9ac5_0242ac120002row1_col12 {\n",
       "            background-color:  #008066;\n",
       "        }    #T_42ebae18_6ee4_11e8_9ac5_0242ac120002row1_col13 {\n",
       "            background-color:  #ffff66;\n",
       "        }    #T_42ebae18_6ee4_11e8_9ac5_0242ac120002row1_col14 {\n",
       "            background-color:  #ffff66;\n",
       "        }    #T_42ebae18_6ee4_11e8_9ac5_0242ac120002row1_col15 {\n",
       "            background-color:  #008066;\n",
       "        }    #T_42ebae18_6ee4_11e8_9ac5_0242ac120002row1_col16 {\n",
       "            background-color:  #008066;\n",
       "        }    #T_42ebae18_6ee4_11e8_9ac5_0242ac120002row1_col17 {\n",
       "            background-color:  #ffff66;\n",
       "        }</style>  \n",
       "<table id=\"T_42ebae18_6ee4_11e8_9ac5_0242ac120002\" > \n",
       "<thead>    <tr> \n",
       "        <th class=\"index_name level0\" >title</th> \n",
       "        <th class=\"col_heading level0 col0\" >Capt</th> \n",
       "        <th class=\"col_heading level0 col1\" >Col</th> \n",
       "        <th class=\"col_heading level0 col2\" >Don</th> \n",
       "        <th class=\"col_heading level0 col3\" >Dona</th> \n",
       "        <th class=\"col_heading level0 col4\" >Dr</th> \n",
       "        <th class=\"col_heading level0 col5\" >Jonkheer</th> \n",
       "        <th class=\"col_heading level0 col6\" >Lady</th> \n",
       "        <th class=\"col_heading level0 col7\" >Major</th> \n",
       "        <th class=\"col_heading level0 col8\" >Master</th> \n",
       "        <th class=\"col_heading level0 col9\" >Miss</th> \n",
       "        <th class=\"col_heading level0 col10\" >Mlle</th> \n",
       "        <th class=\"col_heading level0 col11\" >Mme</th> \n",
       "        <th class=\"col_heading level0 col12\" >Mr</th> \n",
       "        <th class=\"col_heading level0 col13\" >Mrs</th> \n",
       "        <th class=\"col_heading level0 col14\" >Ms</th> \n",
       "        <th class=\"col_heading level0 col15\" >Rev</th> \n",
       "        <th class=\"col_heading level0 col16\" >Sir</th> \n",
       "        <th class=\"col_heading level0 col17\" >the Countess</th> \n",
       "    </tr>    <tr> \n",
       "        <th class=\"index_name level0\" >Sex</th> \n",
       "        <th class=\"blank\" ></th> \n",
       "        <th class=\"blank\" ></th> \n",
       "        <th class=\"blank\" ></th> \n",
       "        <th class=\"blank\" ></th> \n",
       "        <th class=\"blank\" ></th> \n",
       "        <th class=\"blank\" ></th> \n",
       "        <th class=\"blank\" ></th> \n",
       "        <th class=\"blank\" ></th> \n",
       "        <th class=\"blank\" ></th> \n",
       "        <th class=\"blank\" ></th> \n",
       "        <th class=\"blank\" ></th> \n",
       "        <th class=\"blank\" ></th> \n",
       "        <th class=\"blank\" ></th> \n",
       "        <th class=\"blank\" ></th> \n",
       "        <th class=\"blank\" ></th> \n",
       "        <th class=\"blank\" ></th> \n",
       "        <th class=\"blank\" ></th> \n",
       "        <th class=\"blank\" ></th> \n",
       "    </tr></thead> \n",
       "<tbody>    <tr> \n",
       "        <th id=\"T_42ebae18_6ee4_11e8_9ac5_0242ac120002level0_row0\" class=\"row_heading level0 row0\" >female</th> \n",
       "        <td id=\"T_42ebae18_6ee4_11e8_9ac5_0242ac120002row0_col0\" class=\"data row0 col0\" >0</td> \n",
       "        <td id=\"T_42ebae18_6ee4_11e8_9ac5_0242ac120002row0_col1\" class=\"data row0 col1\" >0</td> \n",
       "        <td id=\"T_42ebae18_6ee4_11e8_9ac5_0242ac120002row0_col2\" class=\"data row0 col2\" >0</td> \n",
       "        <td id=\"T_42ebae18_6ee4_11e8_9ac5_0242ac120002row0_col3\" class=\"data row0 col3\" >1</td> \n",
       "        <td id=\"T_42ebae18_6ee4_11e8_9ac5_0242ac120002row0_col4\" class=\"data row0 col4\" >1</td> \n",
       "        <td id=\"T_42ebae18_6ee4_11e8_9ac5_0242ac120002row0_col5\" class=\"data row0 col5\" >0</td> \n",
       "        <td id=\"T_42ebae18_6ee4_11e8_9ac5_0242ac120002row0_col6\" class=\"data row0 col6\" >1</td> \n",
       "        <td id=\"T_42ebae18_6ee4_11e8_9ac5_0242ac120002row0_col7\" class=\"data row0 col7\" >0</td> \n",
       "        <td id=\"T_42ebae18_6ee4_11e8_9ac5_0242ac120002row0_col8\" class=\"data row0 col8\" >0</td> \n",
       "        <td id=\"T_42ebae18_6ee4_11e8_9ac5_0242ac120002row0_col9\" class=\"data row0 col9\" >260</td> \n",
       "        <td id=\"T_42ebae18_6ee4_11e8_9ac5_0242ac120002row0_col10\" class=\"data row0 col10\" >2</td> \n",
       "        <td id=\"T_42ebae18_6ee4_11e8_9ac5_0242ac120002row0_col11\" class=\"data row0 col11\" >1</td> \n",
       "        <td id=\"T_42ebae18_6ee4_11e8_9ac5_0242ac120002row0_col12\" class=\"data row0 col12\" >0</td> \n",
       "        <td id=\"T_42ebae18_6ee4_11e8_9ac5_0242ac120002row0_col13\" class=\"data row0 col13\" >197</td> \n",
       "        <td id=\"T_42ebae18_6ee4_11e8_9ac5_0242ac120002row0_col14\" class=\"data row0 col14\" >2</td> \n",
       "        <td id=\"T_42ebae18_6ee4_11e8_9ac5_0242ac120002row0_col15\" class=\"data row0 col15\" >0</td> \n",
       "        <td id=\"T_42ebae18_6ee4_11e8_9ac5_0242ac120002row0_col16\" class=\"data row0 col16\" >0</td> \n",
       "        <td id=\"T_42ebae18_6ee4_11e8_9ac5_0242ac120002row0_col17\" class=\"data row0 col17\" >1</td> \n",
       "    </tr>    <tr> \n",
       "        <th id=\"T_42ebae18_6ee4_11e8_9ac5_0242ac120002level0_row1\" class=\"row_heading level0 row1\" >male</th> \n",
       "        <td id=\"T_42ebae18_6ee4_11e8_9ac5_0242ac120002row1_col0\" class=\"data row1 col0\" >1</td> \n",
       "        <td id=\"T_42ebae18_6ee4_11e8_9ac5_0242ac120002row1_col1\" class=\"data row1 col1\" >4</td> \n",
       "        <td id=\"T_42ebae18_6ee4_11e8_9ac5_0242ac120002row1_col2\" class=\"data row1 col2\" >1</td> \n",
       "        <td id=\"T_42ebae18_6ee4_11e8_9ac5_0242ac120002row1_col3\" class=\"data row1 col3\" >0</td> \n",
       "        <td id=\"T_42ebae18_6ee4_11e8_9ac5_0242ac120002row1_col4\" class=\"data row1 col4\" >7</td> \n",
       "        <td id=\"T_42ebae18_6ee4_11e8_9ac5_0242ac120002row1_col5\" class=\"data row1 col5\" >1</td> \n",
       "        <td id=\"T_42ebae18_6ee4_11e8_9ac5_0242ac120002row1_col6\" class=\"data row1 col6\" >0</td> \n",
       "        <td id=\"T_42ebae18_6ee4_11e8_9ac5_0242ac120002row1_col7\" class=\"data row1 col7\" >2</td> \n",
       "        <td id=\"T_42ebae18_6ee4_11e8_9ac5_0242ac120002row1_col8\" class=\"data row1 col8\" >61</td> \n",
       "        <td id=\"T_42ebae18_6ee4_11e8_9ac5_0242ac120002row1_col9\" class=\"data row1 col9\" >0</td> \n",
       "        <td id=\"T_42ebae18_6ee4_11e8_9ac5_0242ac120002row1_col10\" class=\"data row1 col10\" >0</td> \n",
       "        <td id=\"T_42ebae18_6ee4_11e8_9ac5_0242ac120002row1_col11\" class=\"data row1 col11\" >0</td> \n",
       "        <td id=\"T_42ebae18_6ee4_11e8_9ac5_0242ac120002row1_col12\" class=\"data row1 col12\" >757</td> \n",
       "        <td id=\"T_42ebae18_6ee4_11e8_9ac5_0242ac120002row1_col13\" class=\"data row1 col13\" >0</td> \n",
       "        <td id=\"T_42ebae18_6ee4_11e8_9ac5_0242ac120002row1_col14\" class=\"data row1 col14\" >0</td> \n",
       "        <td id=\"T_42ebae18_6ee4_11e8_9ac5_0242ac120002row1_col15\" class=\"data row1 col15\" >8</td> \n",
       "        <td id=\"T_42ebae18_6ee4_11e8_9ac5_0242ac120002row1_col16\" class=\"data row1 col16\" >1</td> \n",
       "        <td id=\"T_42ebae18_6ee4_11e8_9ac5_0242ac120002row1_col17\" class=\"data row1 col17\" >0</td> \n",
       "    </tr></tbody> \n",
       "</table> "
      ],
      "text/plain": [
       "<pandas.io.formats.style.Styler at 0x7f71cbcdf5f8>"
      ]
     },
     "execution_count": 18,
     "metadata": {},
     "output_type": "execute_result"
    }
   ],
   "source": [
    "pd.crosstab(merged_df['title'], merged_df['Sex']).T.style.background_gradient(cmap='summer_r')"
   ]
  },
  {
   "cell_type": "code",
   "execution_count": 19,
   "metadata": {},
   "outputs": [],
   "source": [
    "'''\n",
    "Please refer here:\n",
    "Mr. on wiki: https://en.wikipedia.org/wiki/Mr.\n",
    "Miss on wiki: https://en.wikipedia.org/wiki/Miss\n",
    "Ms on wiki: https://en.wikipedia.org/wiki/Ms.\n",
    "'''\n",
    "title_map = {\n",
    "    'Capt': 'Mr',\n",
    "    'Col': 'Mr',\n",
    "    'Don': 'Mr',\n",
    "    'Dona': 'Mrs',\n",
    "    'Dr': 'Mr',\n",
    "    'Jonkheer': 'Mr',\n",
    "    'Lady': 'Mrs',\n",
    "    'Major': 'Mr',\n",
    "    'Mlle': 'Miss',\n",
    "    'Mme': 'Mrs',\n",
    "    'Ms': 'Miss',\n",
    "    'Rev': 'Mr',\n",
    "    'Sir': 'Mr',\n",
    "    'the Countess': 'Mrs',\n",
    "    'Master': 'Mr'}\n",
    "merged_df['title'] = merged_df['title'].replace(title_map)"
   ]
  },
  {
   "cell_type": "code",
   "execution_count": 20,
   "metadata": {},
   "outputs": [],
   "source": [
    "dummy = pd.get_dummies(merged_df['title'])\n",
    "merged_df = pd.concat([merged_df, dummy], axis=1)\n",
    "merged_df = merged_df.drop(columns=['title'])"
   ]
  },
  {
   "cell_type": "code",
   "execution_count": 21,
   "metadata": {},
   "outputs": [
    {
     "data": {
      "text/html": [
       "<div>\n",
       "<style scoped>\n",
       "    .dataframe tbody tr th:only-of-type {\n",
       "        vertical-align: middle;\n",
       "    }\n",
       "\n",
       "    .dataframe tbody tr th {\n",
       "        vertical-align: top;\n",
       "    }\n",
       "\n",
       "    .dataframe thead th {\n",
       "        text-align: right;\n",
       "    }\n",
       "</style>\n",
       "<table border=\"1\" class=\"dataframe\">\n",
       "  <thead>\n",
       "    <tr style=\"text-align: right;\">\n",
       "      <th></th>\n",
       "      <th>Age</th>\n",
       "      <th>Embarked</th>\n",
       "      <th>Fare</th>\n",
       "      <th>Parch</th>\n",
       "      <th>Pclass</th>\n",
       "      <th>Sex</th>\n",
       "      <th>SibSp</th>\n",
       "      <th>Survived</th>\n",
       "      <th>Miss</th>\n",
       "      <th>Mr</th>\n",
       "      <th>Mrs</th>\n",
       "    </tr>\n",
       "    <tr>\n",
       "      <th>PassengerId</th>\n",
       "      <th></th>\n",
       "      <th></th>\n",
       "      <th></th>\n",
       "      <th></th>\n",
       "      <th></th>\n",
       "      <th></th>\n",
       "      <th></th>\n",
       "      <th></th>\n",
       "      <th></th>\n",
       "      <th></th>\n",
       "      <th></th>\n",
       "    </tr>\n",
       "  </thead>\n",
       "  <tbody>\n",
       "    <tr>\n",
       "      <th>1</th>\n",
       "      <td>22.0</td>\n",
       "      <td>S</td>\n",
       "      <td>7.2500</td>\n",
       "      <td>0</td>\n",
       "      <td>3</td>\n",
       "      <td>male</td>\n",
       "      <td>1</td>\n",
       "      <td>0.0</td>\n",
       "      <td>0</td>\n",
       "      <td>1</td>\n",
       "      <td>0</td>\n",
       "    </tr>\n",
       "    <tr>\n",
       "      <th>2</th>\n",
       "      <td>38.0</td>\n",
       "      <td>C</td>\n",
       "      <td>71.2833</td>\n",
       "      <td>0</td>\n",
       "      <td>1</td>\n",
       "      <td>female</td>\n",
       "      <td>1</td>\n",
       "      <td>1.0</td>\n",
       "      <td>0</td>\n",
       "      <td>0</td>\n",
       "      <td>1</td>\n",
       "    </tr>\n",
       "    <tr>\n",
       "      <th>3</th>\n",
       "      <td>26.0</td>\n",
       "      <td>S</td>\n",
       "      <td>7.9250</td>\n",
       "      <td>0</td>\n",
       "      <td>3</td>\n",
       "      <td>female</td>\n",
       "      <td>0</td>\n",
       "      <td>1.0</td>\n",
       "      <td>1</td>\n",
       "      <td>0</td>\n",
       "      <td>0</td>\n",
       "    </tr>\n",
       "    <tr>\n",
       "      <th>4</th>\n",
       "      <td>35.0</td>\n",
       "      <td>S</td>\n",
       "      <td>53.1000</td>\n",
       "      <td>0</td>\n",
       "      <td>1</td>\n",
       "      <td>female</td>\n",
       "      <td>1</td>\n",
       "      <td>1.0</td>\n",
       "      <td>0</td>\n",
       "      <td>0</td>\n",
       "      <td>1</td>\n",
       "    </tr>\n",
       "    <tr>\n",
       "      <th>5</th>\n",
       "      <td>35.0</td>\n",
       "      <td>S</td>\n",
       "      <td>8.0500</td>\n",
       "      <td>0</td>\n",
       "      <td>3</td>\n",
       "      <td>male</td>\n",
       "      <td>0</td>\n",
       "      <td>0.0</td>\n",
       "      <td>0</td>\n",
       "      <td>1</td>\n",
       "      <td>0</td>\n",
       "    </tr>\n",
       "  </tbody>\n",
       "</table>\n",
       "</div>"
      ],
      "text/plain": [
       "              Age Embarked     Fare  Parch  Pclass     Sex  SibSp  Survived  \\\n",
       "PassengerId                                                                   \n",
       "1            22.0        S   7.2500      0       3    male      1       0.0   \n",
       "2            38.0        C  71.2833      0       1  female      1       1.0   \n",
       "3            26.0        S   7.9250      0       3  female      0       1.0   \n",
       "4            35.0        S  53.1000      0       1  female      1       1.0   \n",
       "5            35.0        S   8.0500      0       3    male      0       0.0   \n",
       "\n",
       "             Miss  Mr  Mrs  \n",
       "PassengerId                 \n",
       "1               0   1    0  \n",
       "2               0   0    1  \n",
       "3               1   0    0  \n",
       "4               0   0    1  \n",
       "5               0   1    0  "
      ]
     },
     "execution_count": 21,
     "metadata": {},
     "output_type": "execute_result"
    }
   ],
   "source": [
    "merged_df.head()"
   ]
  },
  {
   "cell_type": "markdown",
   "metadata": {},
   "source": [
    "# Convert Sex, Embarked and Pclass to 0/1 variables\n",
    "\n",
    "We should use get_dummies to handle this<br>\n",
    "Convert categorical variable into dummy/indicator variables"
   ]
  },
  {
   "cell_type": "code",
   "execution_count": 22,
   "metadata": {},
   "outputs": [],
   "source": [
    "for column in ['Sex', 'Embarked']:\n",
    "    dummy = pd.get_dummies(merged_df[column])\n",
    "    merged_df = pd.concat([merged_df, dummy.astype(bool)], axis=1)\n",
    "    merged_df = merged_df.drop([column], axis=1)\n",
    "    \n",
    "dummy = pd.get_dummies(merged_df['Pclass'], prefix='pclass')\n",
    "merged_df = pd.concat([merged_df, dummy.astype(bool)], axis=1)\n",
    "merged_df = merged_df.drop(['Pclass'], axis=1)"
   ]
  },
  {
   "cell_type": "code",
   "execution_count": 23,
   "metadata": {},
   "outputs": [
    {
     "data": {
      "text/html": [
       "<div>\n",
       "<style scoped>\n",
       "    .dataframe tbody tr th:only-of-type {\n",
       "        vertical-align: middle;\n",
       "    }\n",
       "\n",
       "    .dataframe tbody tr th {\n",
       "        vertical-align: top;\n",
       "    }\n",
       "\n",
       "    .dataframe thead th {\n",
       "        text-align: right;\n",
       "    }\n",
       "</style>\n",
       "<table border=\"1\" class=\"dataframe\">\n",
       "  <thead>\n",
       "    <tr style=\"text-align: right;\">\n",
       "      <th></th>\n",
       "      <th>Age</th>\n",
       "      <th>Fare</th>\n",
       "      <th>Parch</th>\n",
       "      <th>SibSp</th>\n",
       "      <th>Survived</th>\n",
       "      <th>Miss</th>\n",
       "      <th>Mr</th>\n",
       "      <th>Mrs</th>\n",
       "      <th>female</th>\n",
       "      <th>male</th>\n",
       "      <th>C</th>\n",
       "      <th>Q</th>\n",
       "      <th>S</th>\n",
       "      <th>pclass_1</th>\n",
       "      <th>pclass_2</th>\n",
       "      <th>pclass_3</th>\n",
       "    </tr>\n",
       "    <tr>\n",
       "      <th>PassengerId</th>\n",
       "      <th></th>\n",
       "      <th></th>\n",
       "      <th></th>\n",
       "      <th></th>\n",
       "      <th></th>\n",
       "      <th></th>\n",
       "      <th></th>\n",
       "      <th></th>\n",
       "      <th></th>\n",
       "      <th></th>\n",
       "      <th></th>\n",
       "      <th></th>\n",
       "      <th></th>\n",
       "      <th></th>\n",
       "      <th></th>\n",
       "      <th></th>\n",
       "    </tr>\n",
       "  </thead>\n",
       "  <tbody>\n",
       "    <tr>\n",
       "      <th>1</th>\n",
       "      <td>22.0</td>\n",
       "      <td>7.2500</td>\n",
       "      <td>0</td>\n",
       "      <td>1</td>\n",
       "      <td>0.0</td>\n",
       "      <td>0</td>\n",
       "      <td>1</td>\n",
       "      <td>0</td>\n",
       "      <td>False</td>\n",
       "      <td>True</td>\n",
       "      <td>False</td>\n",
       "      <td>False</td>\n",
       "      <td>True</td>\n",
       "      <td>False</td>\n",
       "      <td>False</td>\n",
       "      <td>True</td>\n",
       "    </tr>\n",
       "    <tr>\n",
       "      <th>2</th>\n",
       "      <td>38.0</td>\n",
       "      <td>71.2833</td>\n",
       "      <td>0</td>\n",
       "      <td>1</td>\n",
       "      <td>1.0</td>\n",
       "      <td>0</td>\n",
       "      <td>0</td>\n",
       "      <td>1</td>\n",
       "      <td>True</td>\n",
       "      <td>False</td>\n",
       "      <td>True</td>\n",
       "      <td>False</td>\n",
       "      <td>False</td>\n",
       "      <td>True</td>\n",
       "      <td>False</td>\n",
       "      <td>False</td>\n",
       "    </tr>\n",
       "    <tr>\n",
       "      <th>3</th>\n",
       "      <td>26.0</td>\n",
       "      <td>7.9250</td>\n",
       "      <td>0</td>\n",
       "      <td>0</td>\n",
       "      <td>1.0</td>\n",
       "      <td>1</td>\n",
       "      <td>0</td>\n",
       "      <td>0</td>\n",
       "      <td>True</td>\n",
       "      <td>False</td>\n",
       "      <td>False</td>\n",
       "      <td>False</td>\n",
       "      <td>True</td>\n",
       "      <td>False</td>\n",
       "      <td>False</td>\n",
       "      <td>True</td>\n",
       "    </tr>\n",
       "    <tr>\n",
       "      <th>4</th>\n",
       "      <td>35.0</td>\n",
       "      <td>53.1000</td>\n",
       "      <td>0</td>\n",
       "      <td>1</td>\n",
       "      <td>1.0</td>\n",
       "      <td>0</td>\n",
       "      <td>0</td>\n",
       "      <td>1</td>\n",
       "      <td>True</td>\n",
       "      <td>False</td>\n",
       "      <td>False</td>\n",
       "      <td>False</td>\n",
       "      <td>True</td>\n",
       "      <td>True</td>\n",
       "      <td>False</td>\n",
       "      <td>False</td>\n",
       "    </tr>\n",
       "    <tr>\n",
       "      <th>5</th>\n",
       "      <td>35.0</td>\n",
       "      <td>8.0500</td>\n",
       "      <td>0</td>\n",
       "      <td>0</td>\n",
       "      <td>0.0</td>\n",
       "      <td>0</td>\n",
       "      <td>1</td>\n",
       "      <td>0</td>\n",
       "      <td>False</td>\n",
       "      <td>True</td>\n",
       "      <td>False</td>\n",
       "      <td>False</td>\n",
       "      <td>True</td>\n",
       "      <td>False</td>\n",
       "      <td>False</td>\n",
       "      <td>True</td>\n",
       "    </tr>\n",
       "  </tbody>\n",
       "</table>\n",
       "</div>"
      ],
      "text/plain": [
       "              Age     Fare  Parch  SibSp  Survived  Miss  Mr  Mrs  female  \\\n",
       "PassengerId                                                                 \n",
       "1            22.0   7.2500      0      1       0.0     0   1    0   False   \n",
       "2            38.0  71.2833      0      1       1.0     0   0    1    True   \n",
       "3            26.0   7.9250      0      0       1.0     1   0    0    True   \n",
       "4            35.0  53.1000      0      1       1.0     0   0    1    True   \n",
       "5            35.0   8.0500      0      0       0.0     0   1    0   False   \n",
       "\n",
       "              male      C      Q      S  pclass_1  pclass_2  pclass_3  \n",
       "PassengerId                                                            \n",
       "1             True  False  False   True     False     False      True  \n",
       "2            False   True  False  False      True     False     False  \n",
       "3            False  False  False   True     False     False      True  \n",
       "4            False  False  False   True      True     False     False  \n",
       "5             True  False  False   True     False     False      True  "
      ]
     },
     "execution_count": 23,
     "metadata": {},
     "output_type": "execute_result"
    }
   ],
   "source": [
    "merged_df.head()"
   ]
  },
  {
   "cell_type": "markdown",
   "metadata": {},
   "source": [
    "# Merge Parch and SibSp into family"
   ]
  },
  {
   "cell_type": "code",
   "execution_count": 24,
   "metadata": {},
   "outputs": [
    {
     "data": {
      "text/html": [
       "<div>\n",
       "<style scoped>\n",
       "    .dataframe tbody tr th:only-of-type {\n",
       "        vertical-align: middle;\n",
       "    }\n",
       "\n",
       "    .dataframe tbody tr th {\n",
       "        vertical-align: top;\n",
       "    }\n",
       "\n",
       "    .dataframe thead th {\n",
       "        text-align: right;\n",
       "    }\n",
       "</style>\n",
       "<table border=\"1\" class=\"dataframe\">\n",
       "  <thead>\n",
       "    <tr style=\"text-align: right;\">\n",
       "      <th></th>\n",
       "      <th>Age</th>\n",
       "      <th>Fare</th>\n",
       "      <th>Survived</th>\n",
       "      <th>Miss</th>\n",
       "      <th>Mr</th>\n",
       "      <th>Mrs</th>\n",
       "      <th>female</th>\n",
       "      <th>male</th>\n",
       "      <th>C</th>\n",
       "      <th>Q</th>\n",
       "      <th>S</th>\n",
       "      <th>pclass_1</th>\n",
       "      <th>pclass_2</th>\n",
       "      <th>pclass_3</th>\n",
       "      <th>family</th>\n",
       "    </tr>\n",
       "    <tr>\n",
       "      <th>PassengerId</th>\n",
       "      <th></th>\n",
       "      <th></th>\n",
       "      <th></th>\n",
       "      <th></th>\n",
       "      <th></th>\n",
       "      <th></th>\n",
       "      <th></th>\n",
       "      <th></th>\n",
       "      <th></th>\n",
       "      <th></th>\n",
       "      <th></th>\n",
       "      <th></th>\n",
       "      <th></th>\n",
       "      <th></th>\n",
       "      <th></th>\n",
       "    </tr>\n",
       "  </thead>\n",
       "  <tbody>\n",
       "    <tr>\n",
       "      <th>1</th>\n",
       "      <td>22.0</td>\n",
       "      <td>7.2500</td>\n",
       "      <td>0.0</td>\n",
       "      <td>0</td>\n",
       "      <td>1</td>\n",
       "      <td>0</td>\n",
       "      <td>False</td>\n",
       "      <td>True</td>\n",
       "      <td>False</td>\n",
       "      <td>False</td>\n",
       "      <td>True</td>\n",
       "      <td>False</td>\n",
       "      <td>False</td>\n",
       "      <td>True</td>\n",
       "      <td>1</td>\n",
       "    </tr>\n",
       "    <tr>\n",
       "      <th>2</th>\n",
       "      <td>38.0</td>\n",
       "      <td>71.2833</td>\n",
       "      <td>1.0</td>\n",
       "      <td>0</td>\n",
       "      <td>0</td>\n",
       "      <td>1</td>\n",
       "      <td>True</td>\n",
       "      <td>False</td>\n",
       "      <td>True</td>\n",
       "      <td>False</td>\n",
       "      <td>False</td>\n",
       "      <td>True</td>\n",
       "      <td>False</td>\n",
       "      <td>False</td>\n",
       "      <td>1</td>\n",
       "    </tr>\n",
       "    <tr>\n",
       "      <th>3</th>\n",
       "      <td>26.0</td>\n",
       "      <td>7.9250</td>\n",
       "      <td>1.0</td>\n",
       "      <td>1</td>\n",
       "      <td>0</td>\n",
       "      <td>0</td>\n",
       "      <td>True</td>\n",
       "      <td>False</td>\n",
       "      <td>False</td>\n",
       "      <td>False</td>\n",
       "      <td>True</td>\n",
       "      <td>False</td>\n",
       "      <td>False</td>\n",
       "      <td>True</td>\n",
       "      <td>0</td>\n",
       "    </tr>\n",
       "    <tr>\n",
       "      <th>4</th>\n",
       "      <td>35.0</td>\n",
       "      <td>53.1000</td>\n",
       "      <td>1.0</td>\n",
       "      <td>0</td>\n",
       "      <td>0</td>\n",
       "      <td>1</td>\n",
       "      <td>True</td>\n",
       "      <td>False</td>\n",
       "      <td>False</td>\n",
       "      <td>False</td>\n",
       "      <td>True</td>\n",
       "      <td>True</td>\n",
       "      <td>False</td>\n",
       "      <td>False</td>\n",
       "      <td>1</td>\n",
       "    </tr>\n",
       "    <tr>\n",
       "      <th>5</th>\n",
       "      <td>35.0</td>\n",
       "      <td>8.0500</td>\n",
       "      <td>0.0</td>\n",
       "      <td>0</td>\n",
       "      <td>1</td>\n",
       "      <td>0</td>\n",
       "      <td>False</td>\n",
       "      <td>True</td>\n",
       "      <td>False</td>\n",
       "      <td>False</td>\n",
       "      <td>True</td>\n",
       "      <td>False</td>\n",
       "      <td>False</td>\n",
       "      <td>True</td>\n",
       "      <td>0</td>\n",
       "    </tr>\n",
       "  </tbody>\n",
       "</table>\n",
       "</div>"
      ],
      "text/plain": [
       "              Age     Fare  Survived  Miss  Mr  Mrs  female   male      C  \\\n",
       "PassengerId                                                                 \n",
       "1            22.0   7.2500       0.0     0   1    0   False   True  False   \n",
       "2            38.0  71.2833       1.0     0   0    1    True  False   True   \n",
       "3            26.0   7.9250       1.0     1   0    0    True  False  False   \n",
       "4            35.0  53.1000       1.0     0   0    1    True  False  False   \n",
       "5            35.0   8.0500       0.0     0   1    0   False   True  False   \n",
       "\n",
       "                 Q      S  pclass_1  pclass_2  pclass_3  family  \n",
       "PassengerId                                                      \n",
       "1            False   True     False     False      True       1  \n",
       "2            False  False      True     False     False       1  \n",
       "3            False   True     False     False      True       0  \n",
       "4            False   True      True     False     False       1  \n",
       "5            False   True     False     False      True       0  "
      ]
     },
     "execution_count": 24,
     "metadata": {},
     "output_type": "execute_result"
    }
   ],
   "source": [
    "merged_df['family'] = merged_df['Parch'] + merged_df['SibSp']\n",
    "merged_df = merged_df.drop(columns=['Parch', 'SibSp'])\n",
    "merged_df['family'] = merged_df['family'].astype(int)\n",
    "merged_df.head()"
   ]
  },
  {
   "cell_type": "code",
   "execution_count": 25,
   "metadata": {},
   "outputs": [],
   "source": [
    "new_train_df = merged_df[pd.notnull(merged_df['Survived'])]"
   ]
  },
  {
   "cell_type": "code",
   "execution_count": 26,
   "metadata": {},
   "outputs": [
    {
     "data": {
      "text/plain": [
       "<matplotlib.axes._subplots.AxesSubplot at 0x7f71cb5bee10>"
      ]
     },
     "execution_count": 26,
     "metadata": {},
     "output_type": "execute_result"
    },
    {
     "data": {
      "image/png": "[encoded data removed]",
      "text/plain": [
       "<Figure size 1008x1008 with 2 Axes>"
      ]
     },
     "metadata": {},
     "output_type": "display_data"
    }
   ],
   "source": [
    "plt.figure(figsize=(14, 14))\n",
    "sns.heatmap(merged_df.astype(float).corr(), cmap = 'BrBG',\n",
    "            linewidths=0.1, square=True, linecolor='white',\n",
    "            annot=True)"
   ]
  },
  {
   "cell_type": "markdown",
   "metadata": {},
   "source": [
    "# Final"
   ]
  },
  {
   "cell_type": "code",
   "execution_count": 27,
   "metadata": {},
   "outputs": [],
   "source": [
    "new_train_df = merged_df[merged_df['Survived'].notnull()]\n",
    "new_test_df = merged_df[merged_df['Survived'].isnull()]"
   ]
  },
  {
   "cell_type": "code",
   "execution_count": 28,
   "metadata": {},
   "outputs": [],
   "source": [
    "from sklearn.tree import DecisionTreeClassifier\n",
    "from sklearn.model_selection import cross_val_score"
   ]
  },
  {
   "cell_type": "code",
   "execution_count": 29,
   "metadata": {},
   "outputs": [
    {
     "data": {
      "text/plain": [
       "array([0.8       , 0.83333333, 0.78651685, 0.84269663, 0.84269663,\n",
       "       0.7752809 , 0.79775281, 0.78651685, 0.84269663, 0.80681818])"
      ]
     },
     "execution_count": 29,
     "metadata": {},
     "output_type": "execute_result"
    }
   ],
   "source": [
    "clf = DecisionTreeClassifier(max_depth=3)\n",
    "scores = cross_val_score(clf,\n",
    "                        new_train_df.drop(['Survived'], axis=1), \n",
    "                        new_train_df['Survived'],\n",
    "                        cv=10)\n",
    "scores"
   ]
  },
  {
   "cell_type": "code",
   "execution_count": 30,
   "metadata": {},
   "outputs": [
    {
     "data": {
      "text/plain": [
       "0.8114308818522302"
      ]
     },
     "execution_count": 30,
     "metadata": {},
     "output_type": "execute_result"
    }
   ],
   "source": [
    "scores.mean()"
   ]
  },
  {
   "cell_type": "code",
   "execution_count": 31,
   "metadata": {},
   "outputs": [
    {
     "data": {
      "text/plain": [
       "DecisionTreeClassifier(class_weight=None, criterion='gini', max_depth=3,\n",
       "            max_features=None, max_leaf_nodes=None,\n",
       "            min_impurity_decrease=0.0, min_impurity_split=None,\n",
       "            min_samples_leaf=1, min_samples_split=2,\n",
       "            min_weight_fraction_leaf=0.0, presort=False, random_state=None,\n",
       "            splitter='best')"
      ]
     },
     "execution_count": 31,
     "metadata": {},
     "output_type": "execute_result"
    }
   ],
   "source": [
    "clf.fit(new_train_df.drop(['Survived'], axis=1), new_train_df['Survived'])"
   ]
  },
  {
   "cell_type": "code",
   "execution_count": 32,
   "metadata": {},
   "outputs": [],
   "source": [
    "from sklearn.tree import export_graphviz\n",
    "import graphviz\n",
    "g = export_graphviz(clf,out_file=None,\n",
    "                    feature_names=new_train_df.drop(['Survived'], axis=1).columns,\n",
    "                    class_names=[\"No\", \"Yes\"],\n",
    "                    filled=True, \n",
    "                    rounded=True,\n",
    "                    special_characters=True)"
   ]
  },
  {
   "cell_type": "code",
   "execution_count": 33,
   "metadata": {},
   "outputs": [
    {
     "data": {
      "image/svg+xml": [
       "<?xml version=\"1.0\" encoding=\"UTF-8\" standalone=\"no\"?>\n",
       "<!DOCTYPE svg PUBLIC \"-//W3C//DTD SVG 1.1//EN\"\n",
       " \"http://www.w3.org/Graphics/SVG/1.1/DTD/svg11.dtd\">\n",
       "<!-- Generated by graphviz version 2.38.0 (20140413.2041)\n",
       " -->\n",
       "<!-- Title: Tree Pages: 1 -->\n",
       "<svg width=\"1139pt\" height=\"433pt\"\n",
       " viewBox=\"0.00 0.00 1139.00 433.00\" xmlns=\"http://www.w3.org/2000/svg\" xmlns:xlink=\"http://www.w3.org/1999/xlink\">\n",
       "<g id=\"graph0\" class=\"graph\" transform=\"scale(1 1) rotate(0) translate(4 429)\">\n",
       "<title>Tree</title>\n",
       "<polygon fill=\"white\" stroke=\"none\" points=\"-4,4 -4,-429 1135,-429 1135,4 -4,4\"/>\n",
       "<!-- 0 -->\n",
       "<g id=\"node1\" class=\"node\"><title>0</title>\n",
       "<path fill=\"#e58139\" fill-opacity=\"0.376471\" stroke=\"black\" d=\"M628.5,-425C628.5,-425 503.5,-425 503.5,-425 497.5,-425 491.5,-419 491.5,-413 491.5,-413 491.5,-354 491.5,-354 491.5,-348 497.5,-342 503.5,-342 503.5,-342 628.5,-342 628.5,-342 634.5,-342 640.5,-348 640.5,-354 640.5,-354 640.5,-413 640.5,-413 640.5,-419 634.5,-425 628.5,-425\"/>\n",
       "<text text-anchor=\"start\" x=\"521\" y=\"-409.8\" font-family=\"Helvetica,sans-Serif\" font-size=\"14.00\">female ≤ 0.5</text>\n",
       "<text text-anchor=\"start\" x=\"522.5\" y=\"-394.8\" font-family=\"Helvetica,sans-Serif\" font-size=\"14.00\">gini = 0.473</text>\n",
       "<text text-anchor=\"start\" x=\"514.5\" y=\"-379.8\" font-family=\"Helvetica,sans-Serif\" font-size=\"14.00\">samples = 891</text>\n",
       "<text text-anchor=\"start\" x=\"499.5\" y=\"-364.8\" font-family=\"Helvetica,sans-Serif\" font-size=\"14.00\">value = [549, 342]</text>\n",
       "<text text-anchor=\"start\" x=\"529.5\" y=\"-349.8\" font-family=\"Helvetica,sans-Serif\" font-size=\"14.00\">class = No</text>\n",
       "</g>\n",
       "<!-- 1 -->\n",
       "<g id=\"node2\" class=\"node\"><title>1</title>\n",
       "<path fill=\"#e58139\" fill-opacity=\"0.768627\" stroke=\"black\" d=\"M515.5,-306C515.5,-306 390.5,-306 390.5,-306 384.5,-306 378.5,-300 378.5,-294 378.5,-294 378.5,-235 378.5,-235 378.5,-229 384.5,-223 390.5,-223 390.5,-223 515.5,-223 515.5,-223 521.5,-223 527.5,-229 527.5,-235 527.5,-235 527.5,-294 527.5,-294 527.5,-300 521.5,-306 515.5,-306\"/>\n",
       "<text text-anchor=\"start\" x=\"418\" y=\"-290.8\" font-family=\"Helvetica,sans-Serif\" font-size=\"14.00\">Age ≤ 6.5</text>\n",
       "<text text-anchor=\"start\" x=\"409.5\" y=\"-275.8\" font-family=\"Helvetica,sans-Serif\" font-size=\"14.00\">gini = 0.306</text>\n",
       "<text text-anchor=\"start\" x=\"401.5\" y=\"-260.8\" font-family=\"Helvetica,sans-Serif\" font-size=\"14.00\">samples = 577</text>\n",
       "<text text-anchor=\"start\" x=\"386.5\" y=\"-245.8\" font-family=\"Helvetica,sans-Serif\" font-size=\"14.00\">value = [468, 109]</text>\n",
       "<text text-anchor=\"start\" x=\"416.5\" y=\"-230.8\" font-family=\"Helvetica,sans-Serif\" font-size=\"14.00\">class = No</text>\n",
       "</g>\n",
       "<!-- 0&#45;&gt;1 -->\n",
       "<g id=\"edge1\" class=\"edge\"><title>0&#45;&gt;1</title>\n",
       "<path fill=\"none\" stroke=\"black\" d=\"M526.795,-341.907C517.943,-332.742 508.463,-322.927 499.348,-313.489\"/>\n",
       "<polygon fill=\"black\" stroke=\"black\" points=\"501.6,-310.782 492.135,-306.021 496.565,-315.645 501.6,-310.782\"/>\n",
       "<text text-anchor=\"middle\" x=\"491.701\" y=\"-327.317\" font-family=\"Helvetica,sans-Serif\" font-size=\"14.00\">True</text>\n",
       "</g>\n",
       "<!-- 8 -->\n",
       "<g id=\"node9\" class=\"node\"><title>8</title>\n",
       "<path fill=\"#399de5\" fill-opacity=\"0.650980\" stroke=\"black\" d=\"M737,-306C737,-306 621,-306 621,-306 615,-306 609,-300 609,-294 609,-294 609,-235 609,-235 609,-229 615,-223 621,-223 621,-223 737,-223 737,-223 743,-223 749,-229 749,-235 749,-235 749,-294 749,-294 749,-300 743,-306 737,-306\"/>\n",
       "<text text-anchor=\"start\" x=\"628.5\" y=\"-290.8\" font-family=\"Helvetica,sans-Serif\" font-size=\"14.00\">pclass_3 ≤ 0.5</text>\n",
       "<text text-anchor=\"start\" x=\"635.5\" y=\"-275.8\" font-family=\"Helvetica,sans-Serif\" font-size=\"14.00\">gini = 0.383</text>\n",
       "<text text-anchor=\"start\" x=\"627.5\" y=\"-260.8\" font-family=\"Helvetica,sans-Serif\" font-size=\"14.00\">samples = 314</text>\n",
       "<text text-anchor=\"start\" x=\"617\" y=\"-245.8\" font-family=\"Helvetica,sans-Serif\" font-size=\"14.00\">value = [81, 233]</text>\n",
       "<text text-anchor=\"start\" x=\"641\" y=\"-230.8\" font-family=\"Helvetica,sans-Serif\" font-size=\"14.00\">class = Yes</text>\n",
       "</g>\n",
       "<!-- 0&#45;&gt;8 -->\n",
       "<g id=\"edge8\" class=\"edge\"><title>0&#45;&gt;8</title>\n",
       "<path fill=\"none\" stroke=\"black\" d=\"M605.205,-341.907C614.057,-332.742 623.537,-322.927 632.652,-313.489\"/>\n",
       "<polygon fill=\"black\" stroke=\"black\" points=\"635.435,-315.645 639.865,-306.021 630.4,-310.782 635.435,-315.645\"/>\n",
       "<text text-anchor=\"middle\" x=\"640.299\" y=\"-327.317\" font-family=\"Helvetica,sans-Serif\" font-size=\"14.00\">False</text>\n",
       "</g>\n",
       "<!-- 2 -->\n",
       "<g id=\"node3\" class=\"node\"><title>2</title>\n",
       "<path fill=\"#399de5\" fill-opacity=\"0.498039\" stroke=\"black\" d=\"M246,-187C246,-187 148,-187 148,-187 142,-187 136,-181 136,-175 136,-175 136,-116 136,-116 136,-110 142,-104 148,-104 148,-104 246,-104 246,-104 252,-104 258,-110 258,-116 258,-116 258,-175 258,-175 258,-181 252,-187 246,-187\"/>\n",
       "<text text-anchor=\"start\" x=\"154.5\" y=\"-171.8\" font-family=\"Helvetica,sans-Serif\" font-size=\"14.00\">family ≤ 3.5</text>\n",
       "<text text-anchor=\"start\" x=\"153.5\" y=\"-156.8\" font-family=\"Helvetica,sans-Serif\" font-size=\"14.00\">gini = 0.444</text>\n",
       "<text text-anchor=\"start\" x=\"150\" y=\"-141.8\" font-family=\"Helvetica,sans-Serif\" font-size=\"14.00\">samples = 24</text>\n",
       "<text text-anchor=\"start\" x=\"144\" y=\"-126.8\" font-family=\"Helvetica,sans-Serif\" font-size=\"14.00\">value = [8, 16]</text>\n",
       "<text text-anchor=\"start\" x=\"159\" y=\"-111.8\" font-family=\"Helvetica,sans-Serif\" font-size=\"14.00\">class = Yes</text>\n",
       "</g>\n",
       "<!-- 1&#45;&gt;2 -->\n",
       "<g id=\"edge2\" class=\"edge\"><title>1&#45;&gt;2</title>\n",
       "<path fill=\"none\" stroke=\"black\" d=\"M378.266,-229.344C343.327,-213.376 301.944,-194.463 267.546,-178.742\"/>\n",
       "<polygon fill=\"black\" stroke=\"black\" points=\"268.59,-175.371 258.04,-174.397 265.68,-181.737 268.59,-175.371\"/>\n",
       "</g>\n",
       "<!-- 5 -->\n",
       "<g id=\"node6\" class=\"node\"><title>5</title>\n",
       "<path fill=\"#e58139\" fill-opacity=\"0.796078\" stroke=\"black\" d=\"M511,-187C511,-187 395,-187 395,-187 389,-187 383,-181 383,-175 383,-175 383,-116 383,-116 383,-110 389,-104 395,-104 395,-104 511,-104 511,-104 517,-104 523,-110 523,-116 523,-116 523,-175 523,-175 523,-181 517,-187 511,-187\"/>\n",
       "<text text-anchor=\"start\" x=\"402.5\" y=\"-171.8\" font-family=\"Helvetica,sans-Serif\" font-size=\"14.00\">pclass_1 ≤ 0.5</text>\n",
       "<text text-anchor=\"start\" x=\"414\" y=\"-156.8\" font-family=\"Helvetica,sans-Serif\" font-size=\"14.00\">gini = 0.28</text>\n",
       "<text text-anchor=\"start\" x=\"401.5\" y=\"-141.8\" font-family=\"Helvetica,sans-Serif\" font-size=\"14.00\">samples = 553</text>\n",
       "<text text-anchor=\"start\" x=\"391\" y=\"-126.8\" font-family=\"Helvetica,sans-Serif\" font-size=\"14.00\">value = [460, 93]</text>\n",
       "<text text-anchor=\"start\" x=\"416.5\" y=\"-111.8\" font-family=\"Helvetica,sans-Serif\" font-size=\"14.00\">class = No</text>\n",
       "</g>\n",
       "<!-- 1&#45;&gt;5 -->\n",
       "<g id=\"edge5\" class=\"edge\"><title>1&#45;&gt;5</title>\n",
       "<path fill=\"none\" stroke=\"black\" d=\"M453,-222.907C453,-214.649 453,-205.864 453,-197.302\"/>\n",
       "<polygon fill=\"black\" stroke=\"black\" points=\"456.5,-197.021 453,-187.021 449.5,-197.021 456.5,-197.021\"/>\n",
       "</g>\n",
       "<!-- 3 -->\n",
       "<g id=\"node4\" class=\"node\"><title>3</title>\n",
       "<path fill=\"#399de5\" stroke=\"black\" d=\"M110,-68C110,-68 12,-68 12,-68 6,-68 -7.10543e-15,-62 -7.10543e-15,-56 -7.10543e-15,-56 -7.10543e-15,-12 -7.10543e-15,-12 -7.10543e-15,-6 6,-0 12,-0 12,-0 110,-0 110,-0 116,-0 122,-6 122,-12 122,-12 122,-56 122,-56 122,-62 116,-68 110,-68\"/>\n",
       "<text text-anchor=\"start\" x=\"26.5\" y=\"-52.8\" font-family=\"Helvetica,sans-Serif\" font-size=\"14.00\">gini = 0.0</text>\n",
       "<text text-anchor=\"start\" x=\"14\" y=\"-37.8\" font-family=\"Helvetica,sans-Serif\" font-size=\"14.00\">samples = 15</text>\n",
       "<text text-anchor=\"start\" x=\"8\" y=\"-22.8\" font-family=\"Helvetica,sans-Serif\" font-size=\"14.00\">value = [0, 15]</text>\n",
       "<text text-anchor=\"start\" x=\"23\" y=\"-7.8\" font-family=\"Helvetica,sans-Serif\" font-size=\"14.00\">class = Yes</text>\n",
       "</g>\n",
       "<!-- 2&#45;&gt;3 -->\n",
       "<g id=\"edge3\" class=\"edge\"><title>2&#45;&gt;3</title>\n",
       "<path fill=\"none\" stroke=\"black\" d=\"M146.359,-103.726C134.577,-94.2406 122.051,-84.1551 110.327,-74.7159\"/>\n",
       "<polygon fill=\"black\" stroke=\"black\" points=\"112.343,-71.8448 102.358,-68.2996 107.953,-77.2972 112.343,-71.8448\"/>\n",
       "</g>\n",
       "<!-- 4 -->\n",
       "<g id=\"node5\" class=\"node\"><title>4</title>\n",
       "<path fill=\"#e58139\" fill-opacity=\"0.874510\" stroke=\"black\" d=\"M241.5,-68C241.5,-68 152.5,-68 152.5,-68 146.5,-68 140.5,-62 140.5,-56 140.5,-56 140.5,-12 140.5,-12 140.5,-6 146.5,-0 152.5,-0 152.5,-0 241.5,-0 241.5,-0 247.5,-0 253.5,-6 253.5,-12 253.5,-12 253.5,-56 253.5,-56 253.5,-62 247.5,-68 241.5,-68\"/>\n",
       "<text text-anchor=\"start\" x=\"153.5\" y=\"-52.8\" font-family=\"Helvetica,sans-Serif\" font-size=\"14.00\">gini = 0.198</text>\n",
       "<text text-anchor=\"start\" x=\"154.5\" y=\"-37.8\" font-family=\"Helvetica,sans-Serif\" font-size=\"14.00\">samples = 9</text>\n",
       "<text text-anchor=\"start\" x=\"148.5\" y=\"-22.8\" font-family=\"Helvetica,sans-Serif\" font-size=\"14.00\">value = [8, 1]</text>\n",
       "<text text-anchor=\"start\" x=\"160.5\" y=\"-7.8\" font-family=\"Helvetica,sans-Serif\" font-size=\"14.00\">class = No</text>\n",
       "</g>\n",
       "<!-- 2&#45;&gt;4 -->\n",
       "<g id=\"edge4\" class=\"edge\"><title>2&#45;&gt;4</title>\n",
       "<path fill=\"none\" stroke=\"black\" d=\"M197,-103.726C197,-95.5175 197,-86.8595 197,-78.56\"/>\n",
       "<polygon fill=\"black\" stroke=\"black\" points=\"200.5,-78.2996 197,-68.2996 193.5,-78.2996 200.5,-78.2996\"/>\n",
       "</g>\n",
       "<!-- 6 -->\n",
       "<g id=\"node7\" class=\"node\"><title>6</title>\n",
       "<path fill=\"#e58139\" fill-opacity=\"0.870588\" stroke=\"black\" d=\"M400,-68C400,-68 284,-68 284,-68 278,-68 272,-62 272,-56 272,-56 272,-12 272,-12 272,-6 278,-0 284,-0 284,-0 400,-0 400,-0 406,-0 412,-6 412,-12 412,-12 412,-56 412,-56 412,-62 406,-68 400,-68\"/>\n",
       "<text text-anchor=\"start\" x=\"298.5\" y=\"-52.8\" font-family=\"Helvetica,sans-Serif\" font-size=\"14.00\">gini = 0.204</text>\n",
       "<text text-anchor=\"start\" x=\"290.5\" y=\"-37.8\" font-family=\"Helvetica,sans-Serif\" font-size=\"14.00\">samples = 433</text>\n",
       "<text text-anchor=\"start\" x=\"280\" y=\"-22.8\" font-family=\"Helvetica,sans-Serif\" font-size=\"14.00\">value = [383, 50]</text>\n",
       "<text text-anchor=\"start\" x=\"305.5\" y=\"-7.8\" font-family=\"Helvetica,sans-Serif\" font-size=\"14.00\">class = No</text>\n",
       "</g>\n",
       "<!-- 5&#45;&gt;6 -->\n",
       "<g id=\"edge6\" class=\"edge\"><title>5&#45;&gt;6</title>\n",
       "<path fill=\"none\" stroke=\"black\" d=\"M411.668,-103.726C402.329,-94.5142 392.418,-84.7364 383.09,-75.5343\"/>\n",
       "<polygon fill=\"black\" stroke=\"black\" points=\"385.333,-72.8308 375.756,-68.2996 380.417,-77.8141 385.333,-72.8308\"/>\n",
       "</g>\n",
       "<!-- 7 -->\n",
       "<g id=\"node8\" class=\"node\"><title>7</title>\n",
       "<path fill=\"#e58139\" fill-opacity=\"0.443137\" stroke=\"black\" d=\"M549.5,-68C549.5,-68 442.5,-68 442.5,-68 436.5,-68 430.5,-62 430.5,-56 430.5,-56 430.5,-12 430.5,-12 430.5,-6 436.5,-0 442.5,-0 442.5,-0 549.5,-0 549.5,-0 555.5,-0 561.5,-6 561.5,-12 561.5,-12 561.5,-56 561.5,-56 561.5,-62 555.5,-68 549.5,-68\"/>\n",
       "<text text-anchor=\"start\" x=\"457\" y=\"-52.8\" font-family=\"Helvetica,sans-Serif\" font-size=\"14.00\">gini = 0.46</text>\n",
       "<text text-anchor=\"start\" x=\"444.5\" y=\"-37.8\" font-family=\"Helvetica,sans-Serif\" font-size=\"14.00\">samples = 120</text>\n",
       "<text text-anchor=\"start\" x=\"438.5\" y=\"-22.8\" font-family=\"Helvetica,sans-Serif\" font-size=\"14.00\">value = [77, 43]</text>\n",
       "<text text-anchor=\"start\" x=\"459.5\" y=\"-7.8\" font-family=\"Helvetica,sans-Serif\" font-size=\"14.00\">class = No</text>\n",
       "</g>\n",
       "<!-- 5&#45;&gt;7 -->\n",
       "<g id=\"edge7\" class=\"edge\"><title>5&#45;&gt;7</title>\n",
       "<path fill=\"none\" stroke=\"black\" d=\"M469.012,-103.726C472.343,-95.2439 475.862,-86.2819 479.22,-77.7312\"/>\n",
       "<polygon fill=\"black\" stroke=\"black\" points=\"482.526,-78.887 482.923,-68.2996 476.01,-76.3283 482.526,-78.887\"/>\n",
       "</g>\n",
       "<!-- 9 -->\n",
       "<g id=\"node10\" class=\"node\"><title>9</title>\n",
       "<path fill=\"#399de5\" fill-opacity=\"0.945098\" stroke=\"black\" d=\"M732.5,-187C732.5,-187 625.5,-187 625.5,-187 619.5,-187 613.5,-181 613.5,-175 613.5,-175 613.5,-116 613.5,-116 613.5,-110 619.5,-104 625.5,-104 625.5,-104 732.5,-104 732.5,-104 738.5,-104 744.5,-110 744.5,-116 744.5,-116 744.5,-175 744.5,-175 744.5,-181 738.5,-187 732.5,-187\"/>\n",
       "<text text-anchor=\"start\" x=\"644\" y=\"-171.8\" font-family=\"Helvetica,sans-Serif\" font-size=\"14.00\">Age ≤ 2.5</text>\n",
       "<text text-anchor=\"start\" x=\"644.5\" y=\"-156.8\" font-family=\"Helvetica,sans-Serif\" font-size=\"14.00\">gini = 0.1</text>\n",
       "<text text-anchor=\"start\" x=\"627.5\" y=\"-141.8\" font-family=\"Helvetica,sans-Serif\" font-size=\"14.00\">samples = 170</text>\n",
       "<text text-anchor=\"start\" x=\"621.5\" y=\"-126.8\" font-family=\"Helvetica,sans-Serif\" font-size=\"14.00\">value = [9, 161]</text>\n",
       "<text text-anchor=\"start\" x=\"641\" y=\"-111.8\" font-family=\"Helvetica,sans-Serif\" font-size=\"14.00\">class = Yes</text>\n",
       "</g>\n",
       "<!-- 8&#45;&gt;9 -->\n",
       "<g id=\"edge9\" class=\"edge\"><title>8&#45;&gt;9</title>\n",
       "<path fill=\"none\" stroke=\"black\" d=\"M679,-222.907C679,-214.649 679,-205.864 679,-197.302\"/>\n",
       "<polygon fill=\"black\" stroke=\"black\" points=\"682.5,-197.021 679,-187.021 675.5,-197.021 682.5,-197.021\"/>\n",
       "</g>\n",
       "<!-- 12 -->\n",
       "<g id=\"node13\" class=\"node\"><title>12</title>\n",
       "<path fill=\"none\" stroke=\"black\" d=\"M978.5,-187C978.5,-187 871.5,-187 871.5,-187 865.5,-187 859.5,-181 859.5,-175 859.5,-175 859.5,-116 859.5,-116 859.5,-110 865.5,-104 871.5,-104 871.5,-104 978.5,-104 978.5,-104 984.5,-104 990.5,-110 990.5,-116 990.5,-116 990.5,-175 990.5,-175 990.5,-181 984.5,-187 978.5,-187\"/>\n",
       "<text text-anchor=\"start\" x=\"879.5\" y=\"-171.8\" font-family=\"Helvetica,sans-Serif\" font-size=\"14.00\">Fare ≤ 23.35</text>\n",
       "<text text-anchor=\"start\" x=\"890.5\" y=\"-156.8\" font-family=\"Helvetica,sans-Serif\" font-size=\"14.00\">gini = 0.5</text>\n",
       "<text text-anchor=\"start\" x=\"873.5\" y=\"-141.8\" font-family=\"Helvetica,sans-Serif\" font-size=\"14.00\">samples = 144</text>\n",
       "<text text-anchor=\"start\" x=\"867.5\" y=\"-126.8\" font-family=\"Helvetica,sans-Serif\" font-size=\"14.00\">value = [72, 72]</text>\n",
       "<text text-anchor=\"start\" x=\"888.5\" y=\"-111.8\" font-family=\"Helvetica,sans-Serif\" font-size=\"14.00\">class = No</text>\n",
       "</g>\n",
       "<!-- 8&#45;&gt;12 -->\n",
       "<g id=\"edge12\" class=\"edge\"><title>8&#45;&gt;12</title>\n",
       "<path fill=\"none\" stroke=\"black\" d=\"M749.165,-230.129C780.703,-215.129 817.963,-197.408 850.047,-182.148\"/>\n",
       "<polygon fill=\"black\" stroke=\"black\" points=\"851.86,-185.162 859.387,-177.706 848.853,-178.841 851.86,-185.162\"/>\n",
       "</g>\n",
       "<!-- 10 -->\n",
       "<g id=\"node11\" class=\"node\"><title>10</title>\n",
       "<path fill=\"none\" stroke=\"black\" d=\"M680.5,-68C680.5,-68 591.5,-68 591.5,-68 585.5,-68 579.5,-62 579.5,-56 579.5,-56 579.5,-12 579.5,-12 579.5,-6 585.5,-0 591.5,-0 591.5,-0 680.5,-0 680.5,-0 686.5,-0 692.5,-6 692.5,-12 692.5,-12 692.5,-56 692.5,-56 692.5,-62 686.5,-68 680.5,-68\"/>\n",
       "<text text-anchor=\"start\" x=\"601.5\" y=\"-52.8\" font-family=\"Helvetica,sans-Serif\" font-size=\"14.00\">gini = 0.5</text>\n",
       "<text text-anchor=\"start\" x=\"593.5\" y=\"-37.8\" font-family=\"Helvetica,sans-Serif\" font-size=\"14.00\">samples = 2</text>\n",
       "<text text-anchor=\"start\" x=\"587.5\" y=\"-22.8\" font-family=\"Helvetica,sans-Serif\" font-size=\"14.00\">value = [1, 1]</text>\n",
       "<text text-anchor=\"start\" x=\"599.5\" y=\"-7.8\" font-family=\"Helvetica,sans-Serif\" font-size=\"14.00\">class = No</text>\n",
       "</g>\n",
       "<!-- 9&#45;&gt;10 -->\n",
       "<g id=\"edge10\" class=\"edge\"><title>9&#45;&gt;10</title>\n",
       "<path fill=\"none\" stroke=\"black\" d=\"M662.988,-103.726C659.657,-95.2439 656.138,-86.2819 652.78,-77.7312\"/>\n",
       "<polygon fill=\"black\" stroke=\"black\" points=\"655.99,-76.3283 649.077,-68.2996 649.474,-78.887 655.99,-76.3283\"/>\n",
       "</g>\n",
       "<!-- 11 -->\n",
       "<g id=\"node12\" class=\"node\"><title>11</title>\n",
       "<path fill=\"#399de5\" fill-opacity=\"0.949020\" stroke=\"black\" d=\"M829.5,-68C829.5,-68 722.5,-68 722.5,-68 716.5,-68 710.5,-62 710.5,-56 710.5,-56 710.5,-12 710.5,-12 710.5,-6 716.5,-0 722.5,-0 722.5,-0 829.5,-0 829.5,-0 835.5,-0 841.5,-6 841.5,-12 841.5,-12 841.5,-56 841.5,-56 841.5,-62 835.5,-68 829.5,-68\"/>\n",
       "<text text-anchor=\"start\" x=\"732.5\" y=\"-52.8\" font-family=\"Helvetica,sans-Serif\" font-size=\"14.00\">gini = 0.091</text>\n",
       "<text text-anchor=\"start\" x=\"724.5\" y=\"-37.8\" font-family=\"Helvetica,sans-Serif\" font-size=\"14.00\">samples = 168</text>\n",
       "<text text-anchor=\"start\" x=\"718.5\" y=\"-22.8\" font-family=\"Helvetica,sans-Serif\" font-size=\"14.00\">value = [8, 160]</text>\n",
       "<text text-anchor=\"start\" x=\"738\" y=\"-7.8\" font-family=\"Helvetica,sans-Serif\" font-size=\"14.00\">class = Yes</text>\n",
       "</g>\n",
       "<!-- 9&#45;&gt;11 -->\n",
       "<g id=\"edge11\" class=\"edge\"><title>9&#45;&gt;11</title>\n",
       "<path fill=\"none\" stroke=\"black\" d=\"M715.119,-103.726C723.199,-94.6054 731.77,-84.93 739.851,-75.8078\"/>\n",
       "<polygon fill=\"black\" stroke=\"black\" points=\"742.491,-78.1058 746.502,-68.2996 737.251,-73.4642 742.491,-78.1058\"/>\n",
       "</g>\n",
       "<!-- 13 -->\n",
       "<g id=\"node14\" class=\"node\"><title>13</title>\n",
       "<path fill=\"#399de5\" fill-opacity=\"0.305882\" stroke=\"black\" d=\"M978.5,-68C978.5,-68 871.5,-68 871.5,-68 865.5,-68 859.5,-62 859.5,-56 859.5,-56 859.5,-12 859.5,-12 859.5,-6 865.5,-0 871.5,-0 871.5,-0 978.5,-0 978.5,-0 984.5,-0 990.5,-6 990.5,-12 990.5,-12 990.5,-56 990.5,-56 990.5,-62 984.5,-68 978.5,-68\"/>\n",
       "<text text-anchor=\"start\" x=\"881.5\" y=\"-52.8\" font-family=\"Helvetica,sans-Serif\" font-size=\"14.00\">gini = 0.484</text>\n",
       "<text text-anchor=\"start\" x=\"873.5\" y=\"-37.8\" font-family=\"Helvetica,sans-Serif\" font-size=\"14.00\">samples = 117</text>\n",
       "<text text-anchor=\"start\" x=\"867.5\" y=\"-22.8\" font-family=\"Helvetica,sans-Serif\" font-size=\"14.00\">value = [48, 69]</text>\n",
       "<text text-anchor=\"start\" x=\"887\" y=\"-7.8\" font-family=\"Helvetica,sans-Serif\" font-size=\"14.00\">class = Yes</text>\n",
       "</g>\n",
       "<!-- 12&#45;&gt;13 -->\n",
       "<g id=\"edge13\" class=\"edge\"><title>12&#45;&gt;13</title>\n",
       "<path fill=\"none\" stroke=\"black\" d=\"M925,-103.726C925,-95.5175 925,-86.8595 925,-78.56\"/>\n",
       "<polygon fill=\"black\" stroke=\"black\" points=\"928.5,-78.2996 925,-68.2996 921.5,-78.2996 928.5,-78.2996\"/>\n",
       "</g>\n",
       "<!-- 14 -->\n",
       "<g id=\"node15\" class=\"node\"><title>14</title>\n",
       "<path fill=\"#e58139\" fill-opacity=\"0.874510\" stroke=\"black\" d=\"M1119,-68C1119,-68 1021,-68 1021,-68 1015,-68 1009,-62 1009,-56 1009,-56 1009,-12 1009,-12 1009,-6 1015,-0 1021,-0 1021,-0 1119,-0 1119,-0 1125,-0 1131,-6 1131,-12 1131,-12 1131,-56 1131,-56 1131,-62 1125,-68 1119,-68\"/>\n",
       "<text text-anchor=\"start\" x=\"1026.5\" y=\"-52.8\" font-family=\"Helvetica,sans-Serif\" font-size=\"14.00\">gini = 0.198</text>\n",
       "<text text-anchor=\"start\" x=\"1023\" y=\"-37.8\" font-family=\"Helvetica,sans-Serif\" font-size=\"14.00\">samples = 27</text>\n",
       "<text text-anchor=\"start\" x=\"1017\" y=\"-22.8\" font-family=\"Helvetica,sans-Serif\" font-size=\"14.00\">value = [24, 3]</text>\n",
       "<text text-anchor=\"start\" x=\"1033.5\" y=\"-7.8\" font-family=\"Helvetica,sans-Serif\" font-size=\"14.00\">class = No</text>\n",
       "</g>\n",
       "<!-- 12&#45;&gt;14 -->\n",
       "<g id=\"edge14\" class=\"edge\"><title>12&#45;&gt;14</title>\n",
       "<path fill=\"none\" stroke=\"black\" d=\"M978.993,-103.726C991.674,-94.1494 1005.17,-83.9611 1017.77,-74.4438\"/>\n",
       "<polygon fill=\"black\" stroke=\"black\" points=\"1020.03,-77.1191 1025.9,-68.2996 1015.82,-71.533 1020.03,-77.1191\"/>\n",
       "</g>\n",
       "</g>\n",
       "</svg>\n"
      ],
      "text/plain": [
       "<graphviz.files.Source at 0x7f71cafe6940>"
      ]
     },
     "execution_count": 33,
     "metadata": {},
     "output_type": "execute_result"
    }
   ],
   "source": [
    "graphviz.Source(g)"
   ]
  },
  {
   "cell_type": "code",
   "execution_count": 34,
   "metadata": {},
   "outputs": [
    {
     "name": "stdout",
     "output_type": "stream",
     "text": [
      "{'Age': 0.061866895093931874,\n",
      " 'C': 0.0,\n",
      " 'Fare': 0.05080151938170098,\n",
      " 'Miss': 0.0,\n",
      " 'Mr': 0.0,\n",
      " 'Mrs': 0.0,\n",
      " 'Q': 0.0,\n",
      " 'S': 0.0,\n",
      " 'family': 0.04492651373891922,\n",
      " 'female': 0.6288796382731139,\n",
      " 'male': 0.0,\n",
      " 'pclass_1': 0.056019708433010074,\n",
      " 'pclass_2': 0.0,\n",
      " 'pclass_3': 0.1575057250793241}\n"
     ]
    }
   ],
   "source": [
    "pprint(dict(zip(new_train_df.drop(['Survived'], axis=1).columns.tolist(), clf.feature_importances_)))"
   ]
  },
  {
   "cell_type": "code",
   "execution_count": 35,
   "metadata": {},
   "outputs": [],
   "source": [
    "from sklearn.ensemble import RandomForestClassifier"
   ]
  },
  {
   "cell_type": "code",
   "execution_count": 36,
   "metadata": {},
   "outputs": [],
   "source": [
    "from sklearn.model_selection import cross_val_score"
   ]
  },
  {
   "cell_type": "code",
   "execution_count": 37,
   "metadata": {},
   "outputs": [],
   "source": [
    "x_train = new_train_df.drop(['Survived'], axis=1)\n",
    "x_test = new_train_df['Survived']"
   ]
  },
  {
   "cell_type": "code",
   "execution_count": 54,
   "metadata": {},
   "outputs": [],
   "source": [
    "scores = []\n",
    "for n_estimators in range(10, 110, 5):\n",
    "    clf = RandomForestClassifier(n_estimators=n_estimators)\n",
    "    clf = clf.fit(x_train, x_test)\n",
    "    score = clf.score(x_train, x_test)\n",
    "    scores.append(score)"
   ]
  },
  {
   "cell_type": "code",
   "execution_count": 55,
   "metadata": {},
   "outputs": [
    {
     "data": {
      "image/png": "[encoded data removed]",
      "text/plain": [
       "<Figure size 432x288 with 1 Axes>"
      ]
     },
     "metadata": {},
     "output_type": "display_data"
    }
   ],
   "source": [
    "plt.plot(range(10, 110, 5), scores)\n",
    "plt.xlabel('n_estimators')\n",
    "plt.ylabel('score')\n",
    "plt.show()"
   ]
  },
  {
   "cell_type": "code",
   "execution_count": 40,
   "metadata": {},
   "outputs": [
    {
     "name": "stdout",
     "output_type": "stream",
     "text": [
      "{10: 0.9663299663299664,\n",
      " 15: 0.9685746352413019,\n",
      " 20: 0.9753086419753086,\n",
      " 25: 0.9764309764309764,\n",
      " 30: 0.9775533108866442,\n",
      " 35: 0.9797979797979798,\n",
      " 40: 0.978675645342312,\n",
      " 45: 0.978675645342312,\n",
      " 50: 0.9797979797979798,\n",
      " 55: 0.978675645342312,\n",
      " 60: 0.9797979797979798,\n",
      " 65: 0.978675645342312,\n",
      " 70: 0.9797979797979798,\n",
      " 75: 0.9797979797979798,\n",
      " 80: 0.9797979797979798,\n",
      " 85: 0.9797979797979798,\n",
      " 90: 0.9797979797979798,\n",
      " 95: 0.9797979797979798,\n",
      " 100: 0.9797979797979798,\n",
      " 105: 0.9797979797979798}\n"
     ]
    }
   ],
   "source": [
    "pprint(dict(zip(range(10, 110, 5), scores)))"
   ]
  },
  {
   "cell_type": "code",
   "execution_count": 41,
   "metadata": {},
   "outputs": [],
   "source": [
    "scores = []\n",
    "for n_estimators in range(25, 36):\n",
    "    clf = RandomForestClassifier(n_estimators=n_estimators)\n",
    "    clf = clf.fit(x_train, x_test)\n",
    "    score = clf.score(x_train, x_test)\n",
    "    scores.append(score)"
   ]
  },
  {
   "cell_type": "code",
   "execution_count": 42,
   "metadata": {},
   "outputs": [
    {
     "data": {
      "image/png": "[encoded data removed]",
      "text/plain": [
       "<Figure size 432x288 with 1 Axes>"
      ]
     },
     "metadata": {},
     "output_type": "display_data"
    }
   ],
   "source": [
    "plt.plot(range(25, 36), scores)\n",
    "plt.xlabel('n_estimators')\n",
    "plt.ylabel('score')\n",
    "plt.show()"
   ]
  },
  {
   "cell_type": "code",
   "execution_count": 43,
   "metadata": {},
   "outputs": [
    {
     "name": "stdout",
     "output_type": "stream",
     "text": [
      "{25: 0.9764309764309764,\n",
      " 26: 0.9685746352413019,\n",
      " 27: 0.9730639730639731,\n",
      " 28: 0.9741863075196409,\n",
      " 29: 0.9797979797979798,\n",
      " 30: 0.9730639730639731,\n",
      " 31: 0.9764309764309764,\n",
      " 32: 0.978675645342312,\n",
      " 33: 0.9753086419753086,\n",
      " 34: 0.9775533108866442,\n",
      " 35: 0.9775533108866442}\n"
     ]
    }
   ],
   "source": [
    "pprint(dict(zip(range(25, 36), scores)))"
   ]
  },
  {
   "cell_type": "code",
   "execution_count": 44,
   "metadata": {},
   "outputs": [],
   "source": [
    "scores = []\n",
    "for max_depth in range(3, 21):\n",
    "    clf = RandomForestClassifier(n_estimators=26, max_depth=max_depth)\n",
    "    clf = clf.fit(x_train, x_test)\n",
    "    score = clf.score(x_train, x_test)\n",
    "    scores.append(score)"
   ]
  },
  {
   "cell_type": "code",
   "execution_count": 45,
   "metadata": {},
   "outputs": [
    {
     "data": {
      "image/png": "[encoded data removed]",
      "text/plain": [
       "<Figure size 432x288 with 1 Axes>"
      ]
     },
     "metadata": {},
     "output_type": "display_data"
    }
   ],
   "source": [
    "plt.plot(range(3, 21), scores)\n",
    "plt.xlabel('max_depth')\n",
    "plt.ylabel('score')\n",
    "plt.show()"
   ]
  },
  {
   "cell_type": "code",
   "execution_count": 46,
   "metadata": {},
   "outputs": [
    {
     "name": "stdout",
     "output_type": "stream",
     "text": [
      "{3: 0.8035914702581369,\n",
      " 4: 0.8159371492704826,\n",
      " 5: 0.8305274971941639,\n",
      " 6: 0.856341189674523,\n",
      " 7: 0.8866442199775533,\n",
      " 8: 0.9113355780022446,\n",
      " 9: 0.9158249158249159,\n",
      " 10: 0.9337822671156004,\n",
      " 11: 0.9461279461279462,\n",
      " 12: 0.9595959595959596,\n",
      " 13: 0.9618406285072951,\n",
      " 14: 0.9607182940516273,\n",
      " 15: 0.9708193041526375,\n",
      " 16: 0.9696969696969697,\n",
      " 17: 0.9753086419753086,\n",
      " 18: 0.9753086419753086,\n",
      " 19: 0.9708193041526375,\n",
      " 20: 0.9708193041526375}\n"
     ]
    }
   ],
   "source": [
    "pprint(dict(zip(range(3, 21), scores)))"
   ]
  },
  {
   "cell_type": "code",
   "execution_count": 47,
   "metadata": {},
   "outputs": [],
   "source": [
    "clf = RandomForestClassifier(n_estimators=26, max_depth=15)\n",
    "clf = clf.fit(x_train, x_test)"
   ]
  },
  {
   "cell_type": "code",
   "execution_count": 48,
   "metadata": {},
   "outputs": [],
   "source": [
    "predict_result = clf.predict(new_test_df.drop(['Survived'], axis=1))"
   ]
  },
  {
   "cell_type": "code",
   "execution_count": 49,
   "metadata": {},
   "outputs": [
    {
     "name": "stderr",
     "output_type": "stream",
     "text": [
      "/app/.venv/lib/python3.6/site-packages/ipykernel_launcher.py:1: SettingWithCopyWarning: \n",
      "A value is trying to be set on a copy of a slice from a DataFrame.\n",
      "Try using .loc[row_indexer,col_indexer] = value instead\n",
      "\n",
      "See the caveats in the documentation: http://pandas.pydata.org/pandas-docs/stable/indexing.html#indexing-view-versus-copy\n",
      "  \"\"\"Entry point for launching an IPython kernel.\n"
     ]
    }
   ],
   "source": [
    "new_test_df['Survived'] = predict_result"
   ]
  },
  {
   "cell_type": "code",
   "execution_count": 50,
   "metadata": {},
   "outputs": [],
   "source": [
    "survived = new_test_df.loc[:,['Survived']]\n",
    "survived['Survived'] = survived['Survived'].astype(int) \n",
    "#survived = new_test_df['Survived']"
   ]
  },
  {
   "cell_type": "code",
   "execution_count": 51,
   "metadata": {},
   "outputs": [],
   "source": [
    "survived.to_csv('submission.csv')"
   ]
  },
  {
   "cell_type": "code",
   "execution_count": null,
   "metadata": {},
   "outputs": [],
   "source": []
  }
 ],
 "metadata": {
  "kernelspec": {
   "display_name": "Python 3",
   "language": "python",
   "name": "python3"
  },
  "language_info": {
   "codemirror_mode": {
    "name": "ipython",
    "version": 3
   },
   "file_extension": ".py",
   "mimetype": "text/x-python",
   "name": "python",
   "nbconvert_exporter": "python",
   "pygments_lexer": "ipython3",
   "version": "3.6.5"
  }
 },
 "nbformat": 4,
 "nbformat_minor": 2
}
