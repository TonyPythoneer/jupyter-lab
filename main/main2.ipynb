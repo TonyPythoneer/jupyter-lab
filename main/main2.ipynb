{
 "cells": [
  {
   "cell_type": "markdown",
   "metadata": {},
   "source": [
    "# Start\n",
    "Import libraries & load data<br>\n",
    "\n",
    "The target is to predict Survived so train and test data should merge as one."
   ]
  },
  {
   "cell_type": "code",
   "execution_count": 487,
   "metadata": {},
   "outputs": [],
   "source": [
    "from pprint import pprint\n",
    "\n",
    "# data analysis and wrangling\n",
    "import pandas as pd\n",
    "import numpy as np\n",
    "import random as rnd\n",
    "\n",
    "# visualization\n",
    "import seaborn as sns\n",
    "import matplotlib.pyplot as plt\n",
    "%matplotlib inline\n",
    "\n",
    "# machine learning\n",
    "from sklearn.linear_model import LogisticRegression\n",
    "from sklearn.svm import SVC, LinearSVC\n",
    "from sklearn.ensemble import RandomForestClassifier\n",
    "from sklearn.neighbors import KNeighborsClassifier\n",
    "from sklearn.naive_bayes import GaussianNB\n",
    "from sklearn.linear_model import Perceptron\n",
    "from sklearn.linear_model import SGDClassifier\n",
    "from sklearn.tree import DecisionTreeClassifier"
   ]
  },
  {
   "cell_type": "code",
   "execution_count": 488,
   "metadata": {},
   "outputs": [
    {
     "name": "stderr",
     "output_type": "stream",
     "text": [
      "/app/.venv/lib/python3.6/site-packages/pandas/core/frame.py:6201: FutureWarning: Sorting because non-concatenation axis is not aligned. A future version\n",
      "of pandas will change to not sort by default.\n",
      "\n",
      "To accept the future behavior, pass 'sort=True'.\n",
      "\n",
      "To retain the current behavior and silence the warning, pass sort=False\n",
      "\n",
      "  sort=sort)\n"
     ]
    }
   ],
   "source": [
    "train_df = pd.read_csv('../input/train.csv', index_col='PassengerId')\n",
    "test_df = pd.read_csv('../input/test.csv', index_col='PassengerId')\n",
    "df = train_df.append(test_df)"
   ]
  },
  {
   "cell_type": "markdown",
   "metadata": {},
   "source": [
    "# Recognize data"
   ]
  },
  {
   "cell_type": "code",
   "execution_count": 489,
   "metadata": {},
   "outputs": [
    {
     "data": {
      "text/html": [
       "<div>\n",
       "<style scoped>\n",
       "    .dataframe tbody tr th:only-of-type {\n",
       "        vertical-align: middle;\n",
       "    }\n",
       "\n",
       "    .dataframe tbody tr th {\n",
       "        vertical-align: top;\n",
       "    }\n",
       "\n",
       "    .dataframe thead th {\n",
       "        text-align: right;\n",
       "    }\n",
       "</style>\n",
       "<table border=\"1\" class=\"dataframe\">\n",
       "  <thead>\n",
       "    <tr style=\"text-align: right;\">\n",
       "      <th></th>\n",
       "      <th>Age</th>\n",
       "      <th>Cabin</th>\n",
       "      <th>Embarked</th>\n",
       "      <th>Fare</th>\n",
       "      <th>Name</th>\n",
       "      <th>Parch</th>\n",
       "      <th>Pclass</th>\n",
       "      <th>Sex</th>\n",
       "      <th>SibSp</th>\n",
       "      <th>Survived</th>\n",
       "      <th>Ticket</th>\n",
       "    </tr>\n",
       "    <tr>\n",
       "      <th>PassengerId</th>\n",
       "      <th></th>\n",
       "      <th></th>\n",
       "      <th></th>\n",
       "      <th></th>\n",
       "      <th></th>\n",
       "      <th></th>\n",
       "      <th></th>\n",
       "      <th></th>\n",
       "      <th></th>\n",
       "      <th></th>\n",
       "      <th></th>\n",
       "    </tr>\n",
       "  </thead>\n",
       "  <tbody>\n",
       "    <tr>\n",
       "      <th>1</th>\n",
       "      <td>22.0</td>\n",
       "      <td>NaN</td>\n",
       "      <td>S</td>\n",
       "      <td>7.2500</td>\n",
       "      <td>Braund, Mr. Owen Harris</td>\n",
       "      <td>0</td>\n",
       "      <td>3</td>\n",
       "      <td>male</td>\n",
       "      <td>1</td>\n",
       "      <td>0.0</td>\n",
       "      <td>A/5 21171</td>\n",
       "    </tr>\n",
       "    <tr>\n",
       "      <th>2</th>\n",
       "      <td>38.0</td>\n",
       "      <td>C85</td>\n",
       "      <td>C</td>\n",
       "      <td>71.2833</td>\n",
       "      <td>Cumings, Mrs. John Bradley (Florence Briggs Th...</td>\n",
       "      <td>0</td>\n",
       "      <td>1</td>\n",
       "      <td>female</td>\n",
       "      <td>1</td>\n",
       "      <td>1.0</td>\n",
       "      <td>PC 17599</td>\n",
       "    </tr>\n",
       "    <tr>\n",
       "      <th>3</th>\n",
       "      <td>26.0</td>\n",
       "      <td>NaN</td>\n",
       "      <td>S</td>\n",
       "      <td>7.9250</td>\n",
       "      <td>Heikkinen, Miss. Laina</td>\n",
       "      <td>0</td>\n",
       "      <td>3</td>\n",
       "      <td>female</td>\n",
       "      <td>0</td>\n",
       "      <td>1.0</td>\n",
       "      <td>STON/O2. 3101282</td>\n",
       "    </tr>\n",
       "    <tr>\n",
       "      <th>4</th>\n",
       "      <td>35.0</td>\n",
       "      <td>C123</td>\n",
       "      <td>S</td>\n",
       "      <td>53.1000</td>\n",
       "      <td>Futrelle, Mrs. Jacques Heath (Lily May Peel)</td>\n",
       "      <td>0</td>\n",
       "      <td>1</td>\n",
       "      <td>female</td>\n",
       "      <td>1</td>\n",
       "      <td>1.0</td>\n",
       "      <td>113803</td>\n",
       "    </tr>\n",
       "    <tr>\n",
       "      <th>5</th>\n",
       "      <td>35.0</td>\n",
       "      <td>NaN</td>\n",
       "      <td>S</td>\n",
       "      <td>8.0500</td>\n",
       "      <td>Allen, Mr. William Henry</td>\n",
       "      <td>0</td>\n",
       "      <td>3</td>\n",
       "      <td>male</td>\n",
       "      <td>0</td>\n",
       "      <td>0.0</td>\n",
       "      <td>373450</td>\n",
       "    </tr>\n",
       "  </tbody>\n",
       "</table>\n",
       "</div>"
      ],
      "text/plain": [
       "              Age Cabin Embarked     Fare  \\\n",
       "PassengerId                                 \n",
       "1            22.0   NaN        S   7.2500   \n",
       "2            38.0   C85        C  71.2833   \n",
       "3            26.0   NaN        S   7.9250   \n",
       "4            35.0  C123        S  53.1000   \n",
       "5            35.0   NaN        S   8.0500   \n",
       "\n",
       "                                                          Name  Parch  Pclass  \\\n",
       "PassengerId                                                                     \n",
       "1                                      Braund, Mr. Owen Harris      0       3   \n",
       "2            Cumings, Mrs. John Bradley (Florence Briggs Th...      0       1   \n",
       "3                                       Heikkinen, Miss. Laina      0       3   \n",
       "4                 Futrelle, Mrs. Jacques Heath (Lily May Peel)      0       1   \n",
       "5                                     Allen, Mr. William Henry      0       3   \n",
       "\n",
       "                Sex  SibSp  Survived            Ticket  \n",
       "PassengerId                                             \n",
       "1              male      1       0.0         A/5 21171  \n",
       "2            female      1       1.0          PC 17599  \n",
       "3            female      0       1.0  STON/O2. 3101282  \n",
       "4            female      1       1.0            113803  \n",
       "5              male      0       0.0            373450  "
      ]
     },
     "execution_count": 489,
     "metadata": {},
     "output_type": "execute_result"
    }
   ],
   "source": [
    "df.head()"
   ]
  },
  {
   "cell_type": "code",
   "execution_count": 490,
   "metadata": {},
   "outputs": [
    {
     "name": "stdout",
     "output_type": "stream",
     "text": [
      "<class 'pandas.core.frame.DataFrame'>\n",
      "Int64Index: 1309 entries, 1 to 1309\n",
      "Data columns (total 11 columns):\n",
      "Age         1046 non-null float64\n",
      "Cabin       295 non-null object\n",
      "Embarked    1307 non-null object\n",
      "Fare        1308 non-null float64\n",
      "Name        1309 non-null object\n",
      "Parch       1309 non-null int64\n",
      "Pclass      1309 non-null int64\n",
      "Sex         1309 non-null object\n",
      "SibSp       1309 non-null int64\n",
      "Survived    891 non-null float64\n",
      "Ticket      1309 non-null object\n",
      "dtypes: float64(3), int64(3), object(5)\n",
      "memory usage: 122.7+ KB\n"
     ]
    }
   ],
   "source": [
    "df.info()"
   ]
  },
  {
   "cell_type": "code",
   "execution_count": 491,
   "metadata": {},
   "outputs": [
    {
     "data": {
      "text/html": [
       "<div>\n",
       "<style scoped>\n",
       "    .dataframe tbody tr th:only-of-type {\n",
       "        vertical-align: middle;\n",
       "    }\n",
       "\n",
       "    .dataframe tbody tr th {\n",
       "        vertical-align: top;\n",
       "    }\n",
       "\n",
       "    .dataframe thead th {\n",
       "        text-align: right;\n",
       "    }\n",
       "</style>\n",
       "<table border=\"1\" class=\"dataframe\">\n",
       "  <thead>\n",
       "    <tr style=\"text-align: right;\">\n",
       "      <th></th>\n",
       "      <th>Age</th>\n",
       "      <th>Fare</th>\n",
       "      <th>Parch</th>\n",
       "      <th>Pclass</th>\n",
       "      <th>SibSp</th>\n",
       "      <th>Survived</th>\n",
       "    </tr>\n",
       "  </thead>\n",
       "  <tbody>\n",
       "    <tr>\n",
       "      <th>count</th>\n",
       "      <td>1046.000000</td>\n",
       "      <td>1308.000000</td>\n",
       "      <td>1309.000000</td>\n",
       "      <td>1309.000000</td>\n",
       "      <td>1309.000000</td>\n",
       "      <td>891.000000</td>\n",
       "    </tr>\n",
       "    <tr>\n",
       "      <th>mean</th>\n",
       "      <td>29.881138</td>\n",
       "      <td>33.295479</td>\n",
       "      <td>0.385027</td>\n",
       "      <td>2.294882</td>\n",
       "      <td>0.498854</td>\n",
       "      <td>0.383838</td>\n",
       "    </tr>\n",
       "    <tr>\n",
       "      <th>std</th>\n",
       "      <td>14.413493</td>\n",
       "      <td>51.758668</td>\n",
       "      <td>0.865560</td>\n",
       "      <td>0.837836</td>\n",
       "      <td>1.041658</td>\n",
       "      <td>0.486592</td>\n",
       "    </tr>\n",
       "    <tr>\n",
       "      <th>min</th>\n",
       "      <td>0.170000</td>\n",
       "      <td>0.000000</td>\n",
       "      <td>0.000000</td>\n",
       "      <td>1.000000</td>\n",
       "      <td>0.000000</td>\n",
       "      <td>0.000000</td>\n",
       "    </tr>\n",
       "    <tr>\n",
       "      <th>25%</th>\n",
       "      <td>21.000000</td>\n",
       "      <td>7.895800</td>\n",
       "      <td>0.000000</td>\n",
       "      <td>2.000000</td>\n",
       "      <td>0.000000</td>\n",
       "      <td>0.000000</td>\n",
       "    </tr>\n",
       "    <tr>\n",
       "      <th>50%</th>\n",
       "      <td>28.000000</td>\n",
       "      <td>14.454200</td>\n",
       "      <td>0.000000</td>\n",
       "      <td>3.000000</td>\n",
       "      <td>0.000000</td>\n",
       "      <td>0.000000</td>\n",
       "    </tr>\n",
       "    <tr>\n",
       "      <th>75%</th>\n",
       "      <td>39.000000</td>\n",
       "      <td>31.275000</td>\n",
       "      <td>0.000000</td>\n",
       "      <td>3.000000</td>\n",
       "      <td>1.000000</td>\n",
       "      <td>1.000000</td>\n",
       "    </tr>\n",
       "    <tr>\n",
       "      <th>max</th>\n",
       "      <td>80.000000</td>\n",
       "      <td>512.329200</td>\n",
       "      <td>9.000000</td>\n",
       "      <td>3.000000</td>\n",
       "      <td>8.000000</td>\n",
       "      <td>1.000000</td>\n",
       "    </tr>\n",
       "  </tbody>\n",
       "</table>\n",
       "</div>"
      ],
      "text/plain": [
       "               Age         Fare        Parch       Pclass        SibSp  \\\n",
       "count  1046.000000  1308.000000  1309.000000  1309.000000  1309.000000   \n",
       "mean     29.881138    33.295479     0.385027     2.294882     0.498854   \n",
       "std      14.413493    51.758668     0.865560     0.837836     1.041658   \n",
       "min       0.170000     0.000000     0.000000     1.000000     0.000000   \n",
       "25%      21.000000     7.895800     0.000000     2.000000     0.000000   \n",
       "50%      28.000000    14.454200     0.000000     3.000000     0.000000   \n",
       "75%      39.000000    31.275000     0.000000     3.000000     1.000000   \n",
       "max      80.000000   512.329200     9.000000     3.000000     8.000000   \n",
       "\n",
       "         Survived  \n",
       "count  891.000000  \n",
       "mean     0.383838  \n",
       "std      0.486592  \n",
       "min      0.000000  \n",
       "25%      0.000000  \n",
       "50%      0.000000  \n",
       "75%      1.000000  \n",
       "max      1.000000  "
      ]
     },
     "execution_count": 491,
     "metadata": {},
     "output_type": "execute_result"
    }
   ],
   "source": [
    "df.describe()"
   ]
  },
  {
   "cell_type": "code",
   "execution_count": 492,
   "metadata": {},
   "outputs": [
    {
     "data": {
      "text/html": [
       "<div>\n",
       "<style scoped>\n",
       "    .dataframe tbody tr th:only-of-type {\n",
       "        vertical-align: middle;\n",
       "    }\n",
       "\n",
       "    .dataframe tbody tr th {\n",
       "        vertical-align: top;\n",
       "    }\n",
       "\n",
       "    .dataframe thead th {\n",
       "        text-align: right;\n",
       "    }\n",
       "</style>\n",
       "<table border=\"1\" class=\"dataframe\">\n",
       "  <thead>\n",
       "    <tr style=\"text-align: right;\">\n",
       "      <th></th>\n",
       "      <th>Age</th>\n",
       "      <th>Fare</th>\n",
       "      <th>Parch</th>\n",
       "      <th>Pclass</th>\n",
       "      <th>SibSp</th>\n",
       "      <th>Survived</th>\n",
       "    </tr>\n",
       "  </thead>\n",
       "  <tbody>\n",
       "    <tr>\n",
       "      <th>Age</th>\n",
       "      <td>1.000000</td>\n",
       "      <td>0.178740</td>\n",
       "      <td>-0.150917</td>\n",
       "      <td>-0.408106</td>\n",
       "      <td>-0.243699</td>\n",
       "      <td>-0.077221</td>\n",
       "    </tr>\n",
       "    <tr>\n",
       "      <th>Fare</th>\n",
       "      <td>0.178740</td>\n",
       "      <td>1.000000</td>\n",
       "      <td>0.221539</td>\n",
       "      <td>-0.558629</td>\n",
       "      <td>0.160238</td>\n",
       "      <td>0.257307</td>\n",
       "    </tr>\n",
       "    <tr>\n",
       "      <th>Parch</th>\n",
       "      <td>-0.150917</td>\n",
       "      <td>0.221539</td>\n",
       "      <td>1.000000</td>\n",
       "      <td>0.018322</td>\n",
       "      <td>0.373587</td>\n",
       "      <td>0.081629</td>\n",
       "    </tr>\n",
       "    <tr>\n",
       "      <th>Pclass</th>\n",
       "      <td>-0.408106</td>\n",
       "      <td>-0.558629</td>\n",
       "      <td>0.018322</td>\n",
       "      <td>1.000000</td>\n",
       "      <td>0.060832</td>\n",
       "      <td>-0.338481</td>\n",
       "    </tr>\n",
       "    <tr>\n",
       "      <th>SibSp</th>\n",
       "      <td>-0.243699</td>\n",
       "      <td>0.160238</td>\n",
       "      <td>0.373587</td>\n",
       "      <td>0.060832</td>\n",
       "      <td>1.000000</td>\n",
       "      <td>-0.035322</td>\n",
       "    </tr>\n",
       "    <tr>\n",
       "      <th>Survived</th>\n",
       "      <td>-0.077221</td>\n",
       "      <td>0.257307</td>\n",
       "      <td>0.081629</td>\n",
       "      <td>-0.338481</td>\n",
       "      <td>-0.035322</td>\n",
       "      <td>1.000000</td>\n",
       "    </tr>\n",
       "  </tbody>\n",
       "</table>\n",
       "</div>"
      ],
      "text/plain": [
       "               Age      Fare     Parch    Pclass     SibSp  Survived\n",
       "Age       1.000000  0.178740 -0.150917 -0.408106 -0.243699 -0.077221\n",
       "Fare      0.178740  1.000000  0.221539 -0.558629  0.160238  0.257307\n",
       "Parch    -0.150917  0.221539  1.000000  0.018322  0.373587  0.081629\n",
       "Pclass   -0.408106 -0.558629  0.018322  1.000000  0.060832 -0.338481\n",
       "SibSp    -0.243699  0.160238  0.373587  0.060832  1.000000 -0.035322\n",
       "Survived -0.077221  0.257307  0.081629 -0.338481 -0.035322  1.000000"
      ]
     },
     "execution_count": 492,
     "metadata": {},
     "output_type": "execute_result"
    }
   ],
   "source": [
    "df.corr()"
   ]
  },
  {
   "cell_type": "markdown",
   "metadata": {},
   "source": [
    "# Should know which columns miss data\n",
    "There are Age, Cabin, Embarked and Fare columns have null data."
   ]
  },
  {
   "cell_type": "code",
   "execution_count": 493,
   "metadata": {},
   "outputs": [
    {
     "data": {
      "text/plain": [
       "Index(['Age', 'Cabin', 'Embarked', 'Fare', 'Survived'], dtype='object')"
      ]
     },
     "execution_count": 493,
     "metadata": {},
     "output_type": "execute_result"
    }
   ],
   "source": [
    "null_series = df.isnull().any()\n",
    "null_series = null_series[null_series == True]\n",
    "null_series.index"
   ]
  },
  {
   "cell_type": "markdown",
   "metadata": {},
   "source": [
    "# Analyze by groupby data"
   ]
  },
  {
   "cell_type": "code",
   "execution_count": 494,
   "metadata": {},
   "outputs": [],
   "source": [
    "def extract_mean_survived_groupby_column(df, row_name, column_name):\n",
    "    return df[[row_name, column_name]].groupby([row_name], as_index=True).mean() \\\n",
    "        .sort_values(by=column_name, ascending=False)"
   ]
  },
  {
   "cell_type": "code",
   "execution_count": 495,
   "metadata": {},
   "outputs": [
    {
     "data": {
      "text/html": [
       "<div>\n",
       "<style scoped>\n",
       "    .dataframe tbody tr th:only-of-type {\n",
       "        vertical-align: middle;\n",
       "    }\n",
       "\n",
       "    .dataframe tbody tr th {\n",
       "        vertical-align: top;\n",
       "    }\n",
       "\n",
       "    .dataframe thead th {\n",
       "        text-align: right;\n",
       "    }\n",
       "</style>\n",
       "<table border=\"1\" class=\"dataframe\">\n",
       "  <thead>\n",
       "    <tr style=\"text-align: right;\">\n",
       "      <th></th>\n",
       "      <th>Survived</th>\n",
       "    </tr>\n",
       "    <tr>\n",
       "      <th>Pclass</th>\n",
       "      <th></th>\n",
       "    </tr>\n",
       "  </thead>\n",
       "  <tbody>\n",
       "    <tr>\n",
       "      <th>1</th>\n",
       "      <td>0.629630</td>\n",
       "    </tr>\n",
       "    <tr>\n",
       "      <th>2</th>\n",
       "      <td>0.472826</td>\n",
       "    </tr>\n",
       "    <tr>\n",
       "      <th>3</th>\n",
       "      <td>0.242363</td>\n",
       "    </tr>\n",
       "  </tbody>\n",
       "</table>\n",
       "</div>"
      ],
      "text/plain": [
       "        Survived\n",
       "Pclass          \n",
       "1       0.629630\n",
       "2       0.472826\n",
       "3       0.242363"
      ]
     },
     "execution_count": 495,
     "metadata": {},
     "output_type": "execute_result"
    }
   ],
   "source": [
    "extract_mean_survived_groupby_column(df, 'Pclass', 'Survived')"
   ]
  },
  {
   "cell_type": "code",
   "execution_count": 496,
   "metadata": {},
   "outputs": [
    {
     "data": {
      "text/html": [
       "<div>\n",
       "<style scoped>\n",
       "    .dataframe tbody tr th:only-of-type {\n",
       "        vertical-align: middle;\n",
       "    }\n",
       "\n",
       "    .dataframe tbody tr th {\n",
       "        vertical-align: top;\n",
       "    }\n",
       "\n",
       "    .dataframe thead th {\n",
       "        text-align: right;\n",
       "    }\n",
       "</style>\n",
       "<table border=\"1\" class=\"dataframe\">\n",
       "  <thead>\n",
       "    <tr style=\"text-align: right;\">\n",
       "      <th></th>\n",
       "      <th>Survived</th>\n",
       "    </tr>\n",
       "    <tr>\n",
       "      <th>Sex</th>\n",
       "      <th></th>\n",
       "    </tr>\n",
       "  </thead>\n",
       "  <tbody>\n",
       "    <tr>\n",
       "      <th>female</th>\n",
       "      <td>0.742038</td>\n",
       "    </tr>\n",
       "    <tr>\n",
       "      <th>male</th>\n",
       "      <td>0.188908</td>\n",
       "    </tr>\n",
       "  </tbody>\n",
       "</table>\n",
       "</div>"
      ],
      "text/plain": [
       "        Survived\n",
       "Sex             \n",
       "female  0.742038\n",
       "male    0.188908"
      ]
     },
     "execution_count": 496,
     "metadata": {},
     "output_type": "execute_result"
    }
   ],
   "source": [
    "extract_mean_survived_groupby_column(df, 'Sex', 'Survived')"
   ]
  },
  {
   "cell_type": "code",
   "execution_count": 497,
   "metadata": {},
   "outputs": [
    {
     "data": {
      "text/html": [
       "<div>\n",
       "<style scoped>\n",
       "    .dataframe tbody tr th:only-of-type {\n",
       "        vertical-align: middle;\n",
       "    }\n",
       "\n",
       "    .dataframe tbody tr th {\n",
       "        vertical-align: top;\n",
       "    }\n",
       "\n",
       "    .dataframe thead th {\n",
       "        text-align: right;\n",
       "    }\n",
       "</style>\n",
       "<table border=\"1\" class=\"dataframe\">\n",
       "  <thead>\n",
       "    <tr style=\"text-align: right;\">\n",
       "      <th></th>\n",
       "      <th>Survived</th>\n",
       "    </tr>\n",
       "    <tr>\n",
       "      <th>SibSp</th>\n",
       "      <th></th>\n",
       "    </tr>\n",
       "  </thead>\n",
       "  <tbody>\n",
       "    <tr>\n",
       "      <th>1</th>\n",
       "      <td>0.535885</td>\n",
       "    </tr>\n",
       "    <tr>\n",
       "      <th>2</th>\n",
       "      <td>0.464286</td>\n",
       "    </tr>\n",
       "    <tr>\n",
       "      <th>0</th>\n",
       "      <td>0.345395</td>\n",
       "    </tr>\n",
       "    <tr>\n",
       "      <th>3</th>\n",
       "      <td>0.250000</td>\n",
       "    </tr>\n",
       "    <tr>\n",
       "      <th>4</th>\n",
       "      <td>0.166667</td>\n",
       "    </tr>\n",
       "    <tr>\n",
       "      <th>5</th>\n",
       "      <td>0.000000</td>\n",
       "    </tr>\n",
       "    <tr>\n",
       "      <th>8</th>\n",
       "      <td>0.000000</td>\n",
       "    </tr>\n",
       "  </tbody>\n",
       "</table>\n",
       "</div>"
      ],
      "text/plain": [
       "       Survived\n",
       "SibSp          \n",
       "1      0.535885\n",
       "2      0.464286\n",
       "0      0.345395\n",
       "3      0.250000\n",
       "4      0.166667\n",
       "5      0.000000\n",
       "8      0.000000"
      ]
     },
     "execution_count": 497,
     "metadata": {},
     "output_type": "execute_result"
    }
   ],
   "source": [
    "extract_mean_survived_groupby_column(df, 'SibSp', 'Survived')"
   ]
  },
  {
   "cell_type": "code",
   "execution_count": 498,
   "metadata": {},
   "outputs": [
    {
     "data": {
      "text/html": [
       "<div>\n",
       "<style scoped>\n",
       "    .dataframe tbody tr th:only-of-type {\n",
       "        vertical-align: middle;\n",
       "    }\n",
       "\n",
       "    .dataframe tbody tr th {\n",
       "        vertical-align: top;\n",
       "    }\n",
       "\n",
       "    .dataframe thead th {\n",
       "        text-align: right;\n",
       "    }\n",
       "</style>\n",
       "<table border=\"1\" class=\"dataframe\">\n",
       "  <thead>\n",
       "    <tr style=\"text-align: right;\">\n",
       "      <th></th>\n",
       "      <th>Survived</th>\n",
       "    </tr>\n",
       "    <tr>\n",
       "      <th>Parch</th>\n",
       "      <th></th>\n",
       "    </tr>\n",
       "  </thead>\n",
       "  <tbody>\n",
       "    <tr>\n",
       "      <th>3</th>\n",
       "      <td>0.600000</td>\n",
       "    </tr>\n",
       "    <tr>\n",
       "      <th>1</th>\n",
       "      <td>0.550847</td>\n",
       "    </tr>\n",
       "    <tr>\n",
       "      <th>2</th>\n",
       "      <td>0.500000</td>\n",
       "    </tr>\n",
       "    <tr>\n",
       "      <th>0</th>\n",
       "      <td>0.343658</td>\n",
       "    </tr>\n",
       "    <tr>\n",
       "      <th>5</th>\n",
       "      <td>0.200000</td>\n",
       "    </tr>\n",
       "    <tr>\n",
       "      <th>4</th>\n",
       "      <td>0.000000</td>\n",
       "    </tr>\n",
       "    <tr>\n",
       "      <th>6</th>\n",
       "      <td>0.000000</td>\n",
       "    </tr>\n",
       "    <tr>\n",
       "      <th>9</th>\n",
       "      <td>NaN</td>\n",
       "    </tr>\n",
       "  </tbody>\n",
       "</table>\n",
       "</div>"
      ],
      "text/plain": [
       "       Survived\n",
       "Parch          \n",
       "3      0.600000\n",
       "1      0.550847\n",
       "2      0.500000\n",
       "0      0.343658\n",
       "5      0.200000\n",
       "4      0.000000\n",
       "6      0.000000\n",
       "9           NaN"
      ]
     },
     "execution_count": 498,
     "metadata": {},
     "output_type": "execute_result"
    }
   ],
   "source": [
    "extract_mean_survived_groupby_column(df, 'Parch', 'Survived')"
   ]
  },
  {
   "cell_type": "markdown",
   "metadata": {},
   "source": [
    "# Analyze by visualizing data"
   ]
  },
  {
   "cell_type": "code",
   "execution_count": 499,
   "metadata": {},
   "outputs": [
    {
     "data": {
      "text/plain": [
       "<seaborn.axisgrid.FacetGrid at 0x7f747ccfbf28>"
      ]
     },
     "execution_count": 499,
     "metadata": {},
     "output_type": "execute_result"
    },
    {
     "data": {
      "image/png": "[encoded data removed]",
      "text/plain": [
       "<Figure size 432x216 with 2 Axes>"
      ]
     },
     "metadata": {},
     "output_type": "display_data"
    }
   ],
   "source": [
    "g = sns.FacetGrid(df, col='Survived')\n",
    "g.map(plt.hist, 'Age', bins=20)"
   ]
  },
  {
   "cell_type": "code",
   "execution_count": 500,
   "metadata": {},
   "outputs": [
    {
     "data": {
      "text/plain": [
       "<seaborn.axisgrid.FacetGrid at 0x7f747cc64320>"
      ]
     },
     "execution_count": 500,
     "metadata": {},
     "output_type": "execute_result"
    },
    {
     "data": {
      "image/png": "[encoded data removed]",
      "text/plain": [
       "<Figure size 514.88x475.2 with 6 Axes>"
      ]
     },
     "metadata": {},
     "output_type": "display_data"
    }
   ],
   "source": [
    "g = sns.FacetGrid(df, col='Survived', row='Pclass', size=2.2, aspect=1.6)\n",
    "g.map(plt.hist, 'Age', alpha=.5, bins=20)\n",
    "g.add_legend()"
   ]
  },
  {
   "cell_type": "code",
   "execution_count": 501,
   "metadata": {},
   "outputs": [
    {
     "name": "stderr",
     "output_type": "stream",
     "text": [
      "/app/.venv/lib/python3.6/site-packages/seaborn/axisgrid.py:703: UserWarning: Using the pointplot function without specifying `order` is likely to produce an incorrect plot.\n",
      "  warnings.warn(warning)\n",
      "/app/.venv/lib/python3.6/site-packages/seaborn/axisgrid.py:708: UserWarning: Using the pointplot function without specifying `hue_order` is likely to produce an incorrect plot.\n",
      "  warnings.warn(warning)\n"
     ]
    },
    {
     "data": {
      "text/plain": [
       "<seaborn.axisgrid.FacetGrid at 0x7f7477cf8668>"
      ]
     },
     "execution_count": 501,
     "metadata": {},
     "output_type": "execute_result"
    },
    {
     "data": {
      "image/png": "[encoded data removed]",
      "text/plain": [
       "<Figure size 323.94x475.2 with 3 Axes>"
      ]
     },
     "metadata": {},
     "output_type": "display_data"
    }
   ],
   "source": [
    "grid = sns.FacetGrid(df, row='Embarked', size=2.2, aspect=1.6)\n",
    "grid.map(sns.pointplot, 'Pclass', 'Survived', 'Sex', palette='deep')\n",
    "grid.add_legend()"
   ]
  },
  {
   "cell_type": "code",
   "execution_count": 502,
   "metadata": {},
   "outputs": [
    {
     "name": "stderr",
     "output_type": "stream",
     "text": [
      "/app/.venv/lib/python3.6/site-packages/seaborn/axisgrid.py:703: UserWarning: Using the barplot function without specifying `order` is likely to produce an incorrect plot.\n",
      "  warnings.warn(warning)\n"
     ]
    },
    {
     "data": {
      "text/plain": [
       "<seaborn.axisgrid.FacetGrid at 0x7f7477a5bc88>"
      ]
     },
     "execution_count": 502,
     "metadata": {},
     "output_type": "execute_result"
    },
    {
     "data": {
      "image/png": "[encoded data removed]",
      "text/plain": [
       "<Figure size 514.88x475.2 with 6 Axes>"
      ]
     },
     "metadata": {},
     "output_type": "display_data"
    }
   ],
   "source": [
    "grid = sns.FacetGrid(df, row='Embarked', col='Survived', size=2.2, aspect=1.6)\n",
    "grid.map(sns.barplot, 'Sex', 'Fare', alpha=.5, ci=None)\n",
    "grid.add_legend()"
   ]
  },
  {
   "cell_type": "code",
   "execution_count": 503,
   "metadata": {},
   "outputs": [
    {
     "name": "stderr",
     "output_type": "stream",
     "text": [
      "/app/.venv/lib/python3.6/site-packages/seaborn/axisgrid.py:703: UserWarning: Using the barplot function without specifying `order` is likely to produce an incorrect plot.\n",
      "  warnings.warn(warning)\n"
     ]
    },
    {
     "data": {
      "text/plain": [
       "<seaborn.axisgrid.FacetGrid at 0x7f7477840128>"
      ]
     },
     "execution_count": 503,
     "metadata": {},
     "output_type": "execute_result"
    },
    {
     "data": {
      "image/png": "[encoded data removed]",
      "text/plain": [
       "<Figure size 514.88x475.2 with 6 Axes>"
      ]
     },
     "metadata": {},
     "output_type": "display_data"
    }
   ],
   "source": [
    "grid = sns.FacetGrid(df, row='Pclass', col='Survived', size=2.2, aspect=1.6)\n",
    "grid.map(sns.barplot, 'Sex', 'Fare', alpha=.5, ci=None)\n",
    "grid.add_legend()"
   ]
  },
  {
   "cell_type": "code",
   "execution_count": 504,
   "metadata": {},
   "outputs": [
    {
     "name": "stderr",
     "output_type": "stream",
     "text": [
      "/app/.venv/lib/python3.6/site-packages/seaborn/axisgrid.py:703: UserWarning: Using the barplot function without specifying `order` is likely to produce an incorrect plot.\n",
      "  warnings.warn(warning)\n"
     ]
    },
    {
     "data": {
      "text/plain": [
       "<seaborn.axisgrid.FacetGrid at 0x7f74778c5860>"
      ]
     },
     "execution_count": 504,
     "metadata": {},
     "output_type": "execute_result"
    },
    {
     "data": {
      "image/png": "[encoded data removed]",
      "text/plain": [
       "<Figure size 514.88x475.2 with 6 Axes>"
      ]
     },
     "metadata": {},
     "output_type": "display_data"
    }
   ],
   "source": [
    "grid = sns.FacetGrid(df, row='Pclass', col='Survived', size=2.2, aspect=1.6)\n",
    "grid.map(sns.barplot, 'Embarked', 'Fare', alpha=.5, ci=None)\n",
    "grid.add_legend()"
   ]
  },
  {
   "cell_type": "markdown",
   "metadata": {},
   "source": [
    "# Drop unimportant data\n",
    "\n",
    "Cabin misses data too much. Ticket hasn't enough reference to relate with Survived."
   ]
  },
  {
   "cell_type": "code",
   "execution_count": 505,
   "metadata": {},
   "outputs": [],
   "source": [
    "df = df.drop(['Ticket', 'Cabin'], axis=1)"
   ]
  },
  {
   "cell_type": "markdown",
   "metadata": {},
   "source": [
    "# Creating new feature extracting from existing"
   ]
  },
  {
   "cell_type": "code",
   "execution_count": 506,
   "metadata": {},
   "outputs": [],
   "source": [
    "df['Title'] = df.Name.str.extract(' ([A-Za-z]+)\\.', expand=False)"
   ]
  },
  {
   "cell_type": "code",
   "execution_count": 507,
   "metadata": {},
   "outputs": [
    {
     "data": {
      "text/html": [
       "<div>\n",
       "<style scoped>\n",
       "    .dataframe tbody tr th:only-of-type {\n",
       "        vertical-align: middle;\n",
       "    }\n",
       "\n",
       "    .dataframe tbody tr th {\n",
       "        vertical-align: top;\n",
       "    }\n",
       "\n",
       "    .dataframe thead th {\n",
       "        text-align: right;\n",
       "    }\n",
       "</style>\n",
       "<table border=\"1\" class=\"dataframe\">\n",
       "  <thead>\n",
       "    <tr style=\"text-align: right;\">\n",
       "      <th>Sex</th>\n",
       "      <th>female</th>\n",
       "      <th>male</th>\n",
       "    </tr>\n",
       "    <tr>\n",
       "      <th>Title</th>\n",
       "      <th></th>\n",
       "      <th></th>\n",
       "    </tr>\n",
       "  </thead>\n",
       "  <tbody>\n",
       "    <tr>\n",
       "      <th>Capt</th>\n",
       "      <td>0</td>\n",
       "      <td>1</td>\n",
       "    </tr>\n",
       "    <tr>\n",
       "      <th>Col</th>\n",
       "      <td>0</td>\n",
       "      <td>4</td>\n",
       "    </tr>\n",
       "    <tr>\n",
       "      <th>Countess</th>\n",
       "      <td>1</td>\n",
       "      <td>0</td>\n",
       "    </tr>\n",
       "    <tr>\n",
       "      <th>Don</th>\n",
       "      <td>0</td>\n",
       "      <td>1</td>\n",
       "    </tr>\n",
       "    <tr>\n",
       "      <th>Dona</th>\n",
       "      <td>1</td>\n",
       "      <td>0</td>\n",
       "    </tr>\n",
       "    <tr>\n",
       "      <th>Dr</th>\n",
       "      <td>1</td>\n",
       "      <td>7</td>\n",
       "    </tr>\n",
       "    <tr>\n",
       "      <th>Jonkheer</th>\n",
       "      <td>0</td>\n",
       "      <td>1</td>\n",
       "    </tr>\n",
       "    <tr>\n",
       "      <th>Lady</th>\n",
       "      <td>1</td>\n",
       "      <td>0</td>\n",
       "    </tr>\n",
       "    <tr>\n",
       "      <th>Major</th>\n",
       "      <td>0</td>\n",
       "      <td>2</td>\n",
       "    </tr>\n",
       "    <tr>\n",
       "      <th>Master</th>\n",
       "      <td>0</td>\n",
       "      <td>61</td>\n",
       "    </tr>\n",
       "    <tr>\n",
       "      <th>Miss</th>\n",
       "      <td>260</td>\n",
       "      <td>0</td>\n",
       "    </tr>\n",
       "    <tr>\n",
       "      <th>Mlle</th>\n",
       "      <td>2</td>\n",
       "      <td>0</td>\n",
       "    </tr>\n",
       "    <tr>\n",
       "      <th>Mme</th>\n",
       "      <td>1</td>\n",
       "      <td>0</td>\n",
       "    </tr>\n",
       "    <tr>\n",
       "      <th>Mr</th>\n",
       "      <td>0</td>\n",
       "      <td>757</td>\n",
       "    </tr>\n",
       "    <tr>\n",
       "      <th>Mrs</th>\n",
       "      <td>197</td>\n",
       "      <td>0</td>\n",
       "    </tr>\n",
       "    <tr>\n",
       "      <th>Ms</th>\n",
       "      <td>2</td>\n",
       "      <td>0</td>\n",
       "    </tr>\n",
       "    <tr>\n",
       "      <th>Rev</th>\n",
       "      <td>0</td>\n",
       "      <td>8</td>\n",
       "    </tr>\n",
       "    <tr>\n",
       "      <th>Sir</th>\n",
       "      <td>0</td>\n",
       "      <td>1</td>\n",
       "    </tr>\n",
       "  </tbody>\n",
       "</table>\n",
       "</div>"
      ],
      "text/plain": [
       "Sex       female  male\n",
       "Title                 \n",
       "Capt           0     1\n",
       "Col            0     4\n",
       "Countess       1     0\n",
       "Don            0     1\n",
       "Dona           1     0\n",
       "Dr             1     7\n",
       "Jonkheer       0     1\n",
       "Lady           1     0\n",
       "Major          0     2\n",
       "Master         0    61\n",
       "Miss         260     0\n",
       "Mlle           2     0\n",
       "Mme            1     0\n",
       "Mr             0   757\n",
       "Mrs          197     0\n",
       "Ms             2     0\n",
       "Rev            0     8\n",
       "Sir            0     1"
      ]
     },
     "execution_count": 507,
     "metadata": {},
     "output_type": "execute_result"
    }
   ],
   "source": [
    "pd.crosstab(df['Title'], df['Sex'])"
   ]
  },
  {
   "cell_type": "code",
   "execution_count": 508,
   "metadata": {},
   "outputs": [
    {
     "data": {
      "text/plain": [
       "Mr          757\n",
       "Miss        260\n",
       "Mrs         197\n",
       "Master       61\n",
       "Rev           8\n",
       "Dr            8\n",
       "Col           4\n",
       "Major         2\n",
       "Ms            2\n",
       "Mlle          2\n",
       "Capt          1\n",
       "Jonkheer      1\n",
       "Lady          1\n",
       "Countess      1\n",
       "Mme           1\n",
       "Don           1\n",
       "Sir           1\n",
       "Dona          1\n",
       "Name: Title, dtype: int64"
      ]
     },
     "execution_count": 508,
     "metadata": {},
     "output_type": "execute_result"
    }
   ],
   "source": [
    "df.Title.value_counts()"
   ]
  },
  {
   "cell_type": "code",
   "execution_count": 509,
   "metadata": {},
   "outputs": [],
   "source": [
    "title_series = df.Title.value_counts()\n",
    "title_series = title_series >= 61\n",
    "title_majority_list = title_series[title_series == True].index.tolist()\n",
    "title_minority_list = title_series[title_series == False].index.tolist()"
   ]
  },
  {
   "cell_type": "code",
   "execution_count": 510,
   "metadata": {},
   "outputs": [],
   "source": [
    "title_majority_df = df[df.Title.isin(title_majority_list)]\n",
    "title_minority_df = df[df.Title.isin(title_minority_list)]"
   ]
  },
  {
   "cell_type": "code",
   "execution_count": 511,
   "metadata": {},
   "outputs": [
    {
     "data": {
      "image/png": "[encoded data removed]",
      "text/plain": [
       "<Figure size 720x720 with 1 Axes>"
      ]
     },
     "metadata": {},
     "output_type": "display_data"
    }
   ],
   "source": [
    "fig, ax = plt.subplots(figsize=(10, 10))\n",
    "ax = sns.swarmplot(x='Survived', y=\"Age\", hue='Title', data=title_majority_df, size=10, ax=ax, palette='muted')"
   ]
  },
  {
   "cell_type": "code",
   "execution_count": 512,
   "metadata": {},
   "outputs": [
    {
     "data": {
      "image/png": "[encoded data removed]",
      "text/plain": [
       "<Figure size 720x720 with 1 Axes>"
      ]
     },
     "metadata": {},
     "output_type": "display_data"
    }
   ],
   "source": [
    "fig, ax = plt.subplots(figsize=(10, 10))\n",
    "ax = sns.swarmplot(x='Survived', y='Age', hue='Title', data=title_minority_df, size=10, ax=ax, palette=sns.color_palette(\"Set1\", n_colors=len(title_minority_list), desat=1))"
   ]
  },
  {
   "cell_type": "code",
   "execution_count": 513,
   "metadata": {},
   "outputs": [
    {
     "data": {
      "text/html": [
       "<div>\n",
       "<style scoped>\n",
       "    .dataframe tbody tr th:only-of-type {\n",
       "        vertical-align: middle;\n",
       "    }\n",
       "\n",
       "    .dataframe tbody tr th {\n",
       "        vertical-align: top;\n",
       "    }\n",
       "\n",
       "    .dataframe thead th {\n",
       "        text-align: right;\n",
       "    }\n",
       "</style>\n",
       "<table border=\"1\" class=\"dataframe\">\n",
       "  <thead>\n",
       "    <tr style=\"text-align: right;\">\n",
       "      <th></th>\n",
       "      <th>Age</th>\n",
       "      <th>Fare</th>\n",
       "      <th>Parch</th>\n",
       "      <th>Pclass</th>\n",
       "      <th>SibSp</th>\n",
       "      <th>Survived</th>\n",
       "      <th>Master</th>\n",
       "      <th>Miss</th>\n",
       "      <th>Mr</th>\n",
       "      <th>Mrs</th>\n",
       "    </tr>\n",
       "  </thead>\n",
       "  <tbody>\n",
       "    <tr>\n",
       "      <th>Age</th>\n",
       "      <td>1.000000</td>\n",
       "      <td>0.178740</td>\n",
       "      <td>-0.150917</td>\n",
       "      <td>-0.408106</td>\n",
       "      <td>-0.243699</td>\n",
       "      <td>-0.077221</td>\n",
       "      <td>-0.394454</td>\n",
       "      <td>-0.275599</td>\n",
       "      <td>0.224942</td>\n",
       "      <td>0.236125</td>\n",
       "    </tr>\n",
       "    <tr>\n",
       "      <th>Fare</th>\n",
       "      <td>0.178740</td>\n",
       "      <td>1.000000</td>\n",
       "      <td>0.221539</td>\n",
       "      <td>-0.558629</td>\n",
       "      <td>0.160238</td>\n",
       "      <td>0.257307</td>\n",
       "      <td>0.013142</td>\n",
       "      <td>0.094844</td>\n",
       "      <td>-0.190286</td>\n",
       "      <td>0.145034</td>\n",
       "    </tr>\n",
       "    <tr>\n",
       "      <th>Parch</th>\n",
       "      <td>-0.150917</td>\n",
       "      <td>0.221539</td>\n",
       "      <td>1.000000</td>\n",
       "      <td>0.018322</td>\n",
       "      <td>0.373587</td>\n",
       "      <td>0.081629</td>\n",
       "      <td>0.252602</td>\n",
       "      <td>0.064678</td>\n",
       "      <td>-0.321332</td>\n",
       "      <td>0.215375</td>\n",
       "    </tr>\n",
       "    <tr>\n",
       "      <th>Pclass</th>\n",
       "      <td>-0.408106</td>\n",
       "      <td>-0.558629</td>\n",
       "      <td>0.018322</td>\n",
       "      <td>1.000000</td>\n",
       "      <td>0.060832</td>\n",
       "      <td>-0.338481</td>\n",
       "      <td>0.090847</td>\n",
       "      <td>0.016420</td>\n",
       "      <td>0.091071</td>\n",
       "      <td>-0.195702</td>\n",
       "    </tr>\n",
       "    <tr>\n",
       "      <th>SibSp</th>\n",
       "      <td>-0.243699</td>\n",
       "      <td>0.160238</td>\n",
       "      <td>0.373587</td>\n",
       "      <td>0.060832</td>\n",
       "      <td>1.000000</td>\n",
       "      <td>-0.035322</td>\n",
       "      <td>0.329850</td>\n",
       "      <td>0.077988</td>\n",
       "      <td>-0.254155</td>\n",
       "      <td>0.063639</td>\n",
       "    </tr>\n",
       "    <tr>\n",
       "      <th>Survived</th>\n",
       "      <td>-0.077221</td>\n",
       "      <td>0.257307</td>\n",
       "      <td>0.081629</td>\n",
       "      <td>-0.338481</td>\n",
       "      <td>-0.035322</td>\n",
       "      <td>1.000000</td>\n",
       "      <td>0.087546</td>\n",
       "      <td>0.335831</td>\n",
       "      <td>-0.565943</td>\n",
       "      <td>0.347106</td>\n",
       "    </tr>\n",
       "    <tr>\n",
       "      <th>Master</th>\n",
       "      <td>-0.394454</td>\n",
       "      <td>0.013142</td>\n",
       "      <td>0.252602</td>\n",
       "      <td>0.090847</td>\n",
       "      <td>0.329850</td>\n",
       "      <td>0.087546</td>\n",
       "      <td>1.000000</td>\n",
       "      <td>-0.113451</td>\n",
       "      <td>-0.270981</td>\n",
       "      <td>-0.095825</td>\n",
       "    </tr>\n",
       "    <tr>\n",
       "      <th>Miss</th>\n",
       "      <td>-0.275599</td>\n",
       "      <td>0.094844</td>\n",
       "      <td>0.064678</td>\n",
       "      <td>0.016420</td>\n",
       "      <td>0.077988</td>\n",
       "      <td>0.335831</td>\n",
       "      <td>-0.113451</td>\n",
       "      <td>1.000000</td>\n",
       "      <td>-0.611838</td>\n",
       "      <td>-0.216360</td>\n",
       "    </tr>\n",
       "    <tr>\n",
       "      <th>Mr</th>\n",
       "      <td>0.224942</td>\n",
       "      <td>-0.190286</td>\n",
       "      <td>-0.321332</td>\n",
       "      <td>0.091071</td>\n",
       "      <td>-0.254155</td>\n",
       "      <td>-0.565943</td>\n",
       "      <td>-0.270981</td>\n",
       "      <td>-0.611838</td>\n",
       "      <td>1.000000</td>\n",
       "      <td>-0.516781</td>\n",
       "    </tr>\n",
       "    <tr>\n",
       "      <th>Mrs</th>\n",
       "      <td>0.236125</td>\n",
       "      <td>0.145034</td>\n",
       "      <td>0.215375</td>\n",
       "      <td>-0.195702</td>\n",
       "      <td>0.063639</td>\n",
       "      <td>0.347106</td>\n",
       "      <td>-0.095825</td>\n",
       "      <td>-0.216360</td>\n",
       "      <td>-0.516781</td>\n",
       "      <td>1.000000</td>\n",
       "    </tr>\n",
       "  </tbody>\n",
       "</table>\n",
       "</div>"
      ],
      "text/plain": [
       "               Age      Fare     Parch    Pclass     SibSp  Survived  \\\n",
       "Age       1.000000  0.178740 -0.150917 -0.408106 -0.243699 -0.077221   \n",
       "Fare      0.178740  1.000000  0.221539 -0.558629  0.160238  0.257307   \n",
       "Parch    -0.150917  0.221539  1.000000  0.018322  0.373587  0.081629   \n",
       "Pclass   -0.408106 -0.558629  0.018322  1.000000  0.060832 -0.338481   \n",
       "SibSp    -0.243699  0.160238  0.373587  0.060832  1.000000 -0.035322   \n",
       "Survived -0.077221  0.257307  0.081629 -0.338481 -0.035322  1.000000   \n",
       "Master   -0.394454  0.013142  0.252602  0.090847  0.329850  0.087546   \n",
       "Miss     -0.275599  0.094844  0.064678  0.016420  0.077988  0.335831   \n",
       "Mr        0.224942 -0.190286 -0.321332  0.091071 -0.254155 -0.565943   \n",
       "Mrs       0.236125  0.145034  0.215375 -0.195702  0.063639  0.347106   \n",
       "\n",
       "            Master      Miss        Mr       Mrs  \n",
       "Age      -0.394454 -0.275599  0.224942  0.236125  \n",
       "Fare      0.013142  0.094844 -0.190286  0.145034  \n",
       "Parch     0.252602  0.064678 -0.321332  0.215375  \n",
       "Pclass    0.090847  0.016420  0.091071 -0.195702  \n",
       "SibSp     0.329850  0.077988 -0.254155  0.063639  \n",
       "Survived  0.087546  0.335831 -0.565943  0.347106  \n",
       "Master    1.000000 -0.113451 -0.270981 -0.095825  \n",
       "Miss     -0.113451  1.000000 -0.611838 -0.216360  \n",
       "Mr       -0.270981 -0.611838  1.000000 -0.516781  \n",
       "Mrs      -0.095825 -0.216360 -0.516781  1.000000  "
      ]
     },
     "execution_count": 513,
     "metadata": {},
     "output_type": "execute_result"
    }
   ],
   "source": [
    "title_dummy = pd.get_dummies(title_majority_df.Title)\n",
    "tmp_df = df.drop(['Title'], axis=1)\n",
    "tmp_df = pd.concat([tmp_df, title_dummy], axis=1)\n",
    "tmp_df.corr()"
   ]
  },
  {
   "cell_type": "code",
   "execution_count": 514,
   "metadata": {},
   "outputs": [
    {
     "data": {
      "text/plain": [
       "Mr        783\n",
       "Miss      264\n",
       "Mrs       201\n",
       "Master     61\n",
       "Name: Title, dtype: int64"
      ]
     },
     "execution_count": 514,
     "metadata": {},
     "output_type": "execute_result"
    }
   ],
   "source": [
    "'''\n",
    "Please refer here:\n",
    "Mr. on wiki: https://en.wikipedia.org/wiki/Mr.\n",
    "Miss on wiki: https://en.wikipedia.org/wiki/Miss\n",
    "Ms on wiki: https://en.wikipedia.org/wiki/Ms.\n",
    "'''\n",
    "title_map = {\n",
    "    'Capt': 'Mr',\n",
    "    'Col': 'Mr',\n",
    "    'Don': 'Mr',\n",
    "    'Dona': 'Mrs',\n",
    "    'Dr': 'Mr',\n",
    "    'Jonkheer': 'Mr',\n",
    "    'Lady': 'Mrs',\n",
    "    'Major': 'Mr',\n",
    "    'Mlle': 'Miss',\n",
    "    'Mme': 'Mrs',\n",
    "    'Ms': 'Miss',\n",
    "    'Rev': 'Mr',\n",
    "    'Sir': 'Mr',\n",
    "    'Countess': 'Mrs'}\n",
    "df.Title = df.Title.replace(title_map)\n",
    "df.Title.value_counts()"
   ]
  },
  {
   "cell_type": "code",
   "execution_count": 515,
   "metadata": {},
   "outputs": [
    {
     "data": {
      "text/html": [
       "<div>\n",
       "<style scoped>\n",
       "    .dataframe tbody tr th:only-of-type {\n",
       "        vertical-align: middle;\n",
       "    }\n",
       "\n",
       "    .dataframe tbody tr th {\n",
       "        vertical-align: top;\n",
       "    }\n",
       "\n",
       "    .dataframe thead th {\n",
       "        text-align: right;\n",
       "    }\n",
       "</style>\n",
       "<table border=\"1\" class=\"dataframe\">\n",
       "  <thead>\n",
       "    <tr style=\"text-align: right;\">\n",
       "      <th></th>\n",
       "      <th>Survived</th>\n",
       "    </tr>\n",
       "    <tr>\n",
       "      <th>Title</th>\n",
       "      <th></th>\n",
       "    </tr>\n",
       "  </thead>\n",
       "  <tbody>\n",
       "    <tr>\n",
       "      <th>Mrs</th>\n",
       "      <td>0.796875</td>\n",
       "    </tr>\n",
       "    <tr>\n",
       "      <th>Miss</th>\n",
       "      <td>0.702703</td>\n",
       "    </tr>\n",
       "    <tr>\n",
       "      <th>Master</th>\n",
       "      <td>0.575000</td>\n",
       "    </tr>\n",
       "    <tr>\n",
       "      <th>Mr</th>\n",
       "      <td>0.161710</td>\n",
       "    </tr>\n",
       "  </tbody>\n",
       "</table>\n",
       "</div>"
      ],
      "text/plain": [
       "        Survived\n",
       "Title           \n",
       "Mrs     0.796875\n",
       "Miss    0.702703\n",
       "Master  0.575000\n",
       "Mr      0.161710"
      ]
     },
     "execution_count": 515,
     "metadata": {},
     "output_type": "execute_result"
    }
   ],
   "source": [
    "extract_mean_survived_groupby_column(df, 'Title', 'Survived')"
   ]
  },
  {
   "cell_type": "code",
   "execution_count": 516,
   "metadata": {},
   "outputs": [],
   "source": [
    "df = df.drop(columns=['Name'], axis=1)"
   ]
  },
  {
   "cell_type": "code",
   "execution_count": 517,
   "metadata": {},
   "outputs": [],
   "source": [
    "title_dummies = pd.get_dummies(df.Title, prefix='title')\n",
    "df = pd.concat([df, title_dummies], axis=1)\n",
    "df = df.drop(columns=['Title'], axis=1)"
   ]
  },
  {
   "cell_type": "markdown",
   "metadata": {},
   "source": [
    "# Completion\n",
    "\n",
    "* Age\n",
    "* Fare\n",
    "* Embarked"
   ]
  },
  {
   "cell_type": "markdown",
   "metadata": {},
   "source": [
    "## Completion Age"
   ]
  },
  {
   "cell_type": "code",
   "execution_count": 518,
   "metadata": {},
   "outputs": [
    {
     "data": {
      "text/plain": [
       "<seaborn.axisgrid.FacetGrid at 0x7f7477391ac8>"
      ]
     },
     "execution_count": 518,
     "metadata": {},
     "output_type": "execute_result"
    },
    {
     "data": {
      "image/png": "[encoded data removed]",
      "text/plain": [
       "<Figure size 514.88x475.2 with 6 Axes>"
      ]
     },
     "metadata": {},
     "output_type": "display_data"
    }
   ],
   "source": [
    "grid = sns.FacetGrid(df, row='Embarked', col='Sex', size=2.2, aspect=1.6)\n",
    "grid.map(plt.hist, 'Age', alpha=.5, bins=20)\n",
    "grid.add_legend()"
   ]
  },
  {
   "cell_type": "code",
   "execution_count": 519,
   "metadata": {},
   "outputs": [
    {
     "data": {
      "text/plain": [
       "<seaborn.axisgrid.FacetGrid at 0x7f74771c1dd8>"
      ]
     },
     "execution_count": 519,
     "metadata": {},
     "output_type": "execute_result"
    },
    {
     "data": {
      "image/png": "[encoded data removed]",
      "text/plain": [
       "<Figure size 514.88x475.2 with 6 Axes>"
      ]
     },
     "metadata": {},
     "output_type": "display_data"
    }
   ],
   "source": [
    "grid = sns.FacetGrid(df, row='Pclass', col='Sex', size=2.2, aspect=1.6)\n",
    "grid.map(plt.hist, 'Age', alpha=.5, bins=20)\n",
    "grid.add_legend()"
   ]
  },
  {
   "cell_type": "code",
   "execution_count": 520,
   "metadata": {},
   "outputs": [
    {
     "data": {
      "text/html": [
       "<div>\n",
       "<style scoped>\n",
       "    .dataframe tbody tr th:only-of-type {\n",
       "        vertical-align: middle;\n",
       "    }\n",
       "\n",
       "    .dataframe tbody tr th {\n",
       "        vertical-align: top;\n",
       "    }\n",
       "\n",
       "    .dataframe thead th {\n",
       "        text-align: right;\n",
       "    }\n",
       "</style>\n",
       "<table border=\"1\" class=\"dataframe\">\n",
       "  <thead>\n",
       "    <tr style=\"text-align: right;\">\n",
       "      <th></th>\n",
       "      <th>Age</th>\n",
       "      <th>Fare</th>\n",
       "      <th>Parch</th>\n",
       "      <th>Pclass</th>\n",
       "      <th>SibSp</th>\n",
       "      <th>Survived</th>\n",
       "      <th>title_Master</th>\n",
       "      <th>title_Miss</th>\n",
       "      <th>title_Mr</th>\n",
       "      <th>title_Mrs</th>\n",
       "      <th>1</th>\n",
       "      <th>2</th>\n",
       "      <th>3</th>\n",
       "      <th>C</th>\n",
       "      <th>Q</th>\n",
       "      <th>S</th>\n",
       "      <th>female</th>\n",
       "      <th>male</th>\n",
       "    </tr>\n",
       "  </thead>\n",
       "  <tbody>\n",
       "    <tr>\n",
       "      <th>Age</th>\n",
       "      <td>1.000000</td>\n",
       "      <td>0.178740</td>\n",
       "      <td>-0.150917</td>\n",
       "      <td>-0.408106</td>\n",
       "      <td>-0.243699</td>\n",
       "      <td>-0.077221</td>\n",
       "      <td>-0.391259</td>\n",
       "      <td>-0.282792</td>\n",
       "      <td>0.238673</td>\n",
       "      <td>0.219841</td>\n",
       "      <td>0.393198</td>\n",
       "      <td>-0.014986</td>\n",
       "      <td>-0.337069</td>\n",
       "      <td>0.085777</td>\n",
       "      <td>-0.019458</td>\n",
       "      <td>-0.075972</td>\n",
       "      <td>-0.063645</td>\n",
       "      <td>0.063645</td>\n",
       "    </tr>\n",
       "    <tr>\n",
       "      <th>Fare</th>\n",
       "      <td>0.178740</td>\n",
       "      <td>1.000000</td>\n",
       "      <td>0.221539</td>\n",
       "      <td>-0.558629</td>\n",
       "      <td>0.160238</td>\n",
       "      <td>0.257307</td>\n",
       "      <td>0.011596</td>\n",
       "      <td>0.090110</td>\n",
       "      <td>-0.186406</td>\n",
       "      <td>0.146375</td>\n",
       "      <td>0.600031</td>\n",
       "      <td>-0.121384</td>\n",
       "      <td>-0.419752</td>\n",
       "      <td>0.286269</td>\n",
       "      <td>-0.130059</td>\n",
       "      <td>-0.172683</td>\n",
       "      <td>0.185523</td>\n",
       "      <td>-0.185523</td>\n",
       "    </tr>\n",
       "    <tr>\n",
       "      <th>Parch</th>\n",
       "      <td>-0.150917</td>\n",
       "      <td>0.221539</td>\n",
       "      <td>1.000000</td>\n",
       "      <td>0.018322</td>\n",
       "      <td>0.373587</td>\n",
       "      <td>0.081629</td>\n",
       "      <td>0.253482</td>\n",
       "      <td>0.064589</td>\n",
       "      <td>-0.317819</td>\n",
       "      <td>0.212113</td>\n",
       "      <td>-0.013033</td>\n",
       "      <td>-0.010057</td>\n",
       "      <td>0.019521</td>\n",
       "      <td>-0.008635</td>\n",
       "      <td>-0.100943</td>\n",
       "      <td>0.073258</td>\n",
       "      <td>0.213125</td>\n",
       "      <td>-0.213125</td>\n",
       "    </tr>\n",
       "    <tr>\n",
       "      <th>Pclass</th>\n",
       "      <td>-0.408106</td>\n",
       "      <td>-0.558629</td>\n",
       "      <td>0.018322</td>\n",
       "      <td>1.000000</td>\n",
       "      <td>0.060832</td>\n",
       "      <td>-0.338481</td>\n",
       "      <td>0.095257</td>\n",
       "      <td>0.025350</td>\n",
       "      <td>0.078342</td>\n",
       "      <td>-0.190444</td>\n",
       "      <td>-0.884911</td>\n",
       "      <td>-0.182413</td>\n",
       "      <td>0.915201</td>\n",
       "      <td>-0.269658</td>\n",
       "      <td>0.230491</td>\n",
       "      <td>0.096335</td>\n",
       "      <td>-0.124617</td>\n",
       "      <td>0.124617</td>\n",
       "    </tr>\n",
       "    <tr>\n",
       "      <th>SibSp</th>\n",
       "      <td>-0.243699</td>\n",
       "      <td>0.160238</td>\n",
       "      <td>0.373587</td>\n",
       "      <td>0.060832</td>\n",
       "      <td>1.000000</td>\n",
       "      <td>-0.035322</td>\n",
       "      <td>0.329171</td>\n",
       "      <td>0.075519</td>\n",
       "      <td>-0.249315</td>\n",
       "      <td>0.062537</td>\n",
       "      <td>-0.034256</td>\n",
       "      <td>-0.052419</td>\n",
       "      <td>0.072610</td>\n",
       "      <td>-0.048396</td>\n",
       "      <td>-0.048678</td>\n",
       "      <td>0.075198</td>\n",
       "      <td>0.109609</td>\n",
       "      <td>-0.109609</td>\n",
       "    </tr>\n",
       "    <tr>\n",
       "      <th>Survived</th>\n",
       "      <td>-0.077221</td>\n",
       "      <td>0.257307</td>\n",
       "      <td>0.081629</td>\n",
       "      <td>-0.338481</td>\n",
       "      <td>-0.035322</td>\n",
       "      <td>1.000000</td>\n",
       "      <td>0.085221</td>\n",
       "      <td>0.335636</td>\n",
       "      <td>-0.563879</td>\n",
       "      <td>0.347864</td>\n",
       "      <td>0.285904</td>\n",
       "      <td>0.093349</td>\n",
       "      <td>-0.322308</td>\n",
       "      <td>0.168240</td>\n",
       "      <td>0.003650</td>\n",
       "      <td>-0.155660</td>\n",
       "      <td>0.543351</td>\n",
       "      <td>-0.543351</td>\n",
       "    </tr>\n",
       "    <tr>\n",
       "      <th>title_Master</th>\n",
       "      <td>-0.391259</td>\n",
       "      <td>0.011596</td>\n",
       "      <td>0.253482</td>\n",
       "      <td>0.095257</td>\n",
       "      <td>0.329171</td>\n",
       "      <td>0.085221</td>\n",
       "      <td>1.000000</td>\n",
       "      <td>-0.111122</td>\n",
       "      <td>-0.269740</td>\n",
       "      <td>-0.094164</td>\n",
       "      <td>-0.084504</td>\n",
       "      <td>-0.016933</td>\n",
       "      <td>0.086998</td>\n",
       "      <td>-0.014172</td>\n",
       "      <td>-0.009091</td>\n",
       "      <td>0.019007</td>\n",
       "      <td>-0.164375</td>\n",
       "      <td>0.164375</td>\n",
       "    </tr>\n",
       "    <tr>\n",
       "      <th>title_Miss</th>\n",
       "      <td>-0.282792</td>\n",
       "      <td>0.090110</td>\n",
       "      <td>0.064589</td>\n",
       "      <td>0.025350</td>\n",
       "      <td>0.075519</td>\n",
       "      <td>0.335636</td>\n",
       "      <td>-0.111122</td>\n",
       "      <td>1.000000</td>\n",
       "      <td>-0.613242</td>\n",
       "      <td>-0.214078</td>\n",
       "      <td>-0.013879</td>\n",
       "      <td>-0.022679</td>\n",
       "      <td>0.030600</td>\n",
       "      <td>-0.016251</td>\n",
       "      <td>0.203538</td>\n",
       "      <td>-0.117530</td>\n",
       "      <td>0.676028</td>\n",
       "      <td>-0.676028</td>\n",
       "    </tr>\n",
       "    <tr>\n",
       "      <th>title_Mr</th>\n",
       "      <td>0.238673</td>\n",
       "      <td>-0.186406</td>\n",
       "      <td>-0.317819</td>\n",
       "      <td>0.078342</td>\n",
       "      <td>-0.249315</td>\n",
       "      <td>-0.563879</td>\n",
       "      <td>-0.269740</td>\n",
       "      <td>-0.613242</td>\n",
       "      <td>1.000000</td>\n",
       "      <td>-0.519656</td>\n",
       "      <td>-0.065809</td>\n",
       "      <td>-0.021715</td>\n",
       "      <td>0.074742</td>\n",
       "      <td>-0.059710</td>\n",
       "      <td>-0.083173</td>\n",
       "      <td>0.109565</td>\n",
       "      <td>-0.903871</td>\n",
       "      <td>0.903871</td>\n",
       "    </tr>\n",
       "    <tr>\n",
       "      <th>title_Mrs</th>\n",
       "      <td>0.219841</td>\n",
       "      <td>0.146375</td>\n",
       "      <td>0.212113</td>\n",
       "      <td>-0.190444</td>\n",
       "      <td>0.062537</td>\n",
       "      <td>0.347864</td>\n",
       "      <td>-0.094164</td>\n",
       "      <td>-0.214078</td>\n",
       "      <td>-0.519656</td>\n",
       "      <td>1.000000</td>\n",
       "      <td>0.154347</td>\n",
       "      <td>0.064672</td>\n",
       "      <td>-0.186564</td>\n",
       "      <td>0.107572</td>\n",
       "      <td>-0.108114</td>\n",
       "      <td>-0.029299</td>\n",
       "      <td>0.572861</td>\n",
       "      <td>-0.572861</td>\n",
       "    </tr>\n",
       "    <tr>\n",
       "      <th>1</th>\n",
       "      <td>0.393198</td>\n",
       "      <td>0.600031</td>\n",
       "      <td>-0.013033</td>\n",
       "      <td>-0.884911</td>\n",
       "      <td>-0.034256</td>\n",
       "      <td>0.285904</td>\n",
       "      <td>-0.084504</td>\n",
       "      <td>-0.013879</td>\n",
       "      <td>-0.065809</td>\n",
       "      <td>0.154347</td>\n",
       "      <td>1.000000</td>\n",
       "      <td>-0.296526</td>\n",
       "      <td>-0.622172</td>\n",
       "      <td>0.325722</td>\n",
       "      <td>-0.166101</td>\n",
       "      <td>-0.187353</td>\n",
       "      <td>0.107371</td>\n",
       "      <td>-0.107371</td>\n",
       "    </tr>\n",
       "    <tr>\n",
       "      <th>2</th>\n",
       "      <td>-0.014986</td>\n",
       "      <td>-0.121384</td>\n",
       "      <td>-0.010057</td>\n",
       "      <td>-0.182413</td>\n",
       "      <td>-0.052419</td>\n",
       "      <td>0.093349</td>\n",
       "      <td>-0.016933</td>\n",
       "      <td>-0.022679</td>\n",
       "      <td>-0.021715</td>\n",
       "      <td>0.064672</td>\n",
       "      <td>-0.296526</td>\n",
       "      <td>1.000000</td>\n",
       "      <td>-0.563180</td>\n",
       "      <td>-0.134675</td>\n",
       "      <td>-0.121973</td>\n",
       "      <td>0.197973</td>\n",
       "      <td>0.028862</td>\n",
       "      <td>-0.028862</td>\n",
       "    </tr>\n",
       "    <tr>\n",
       "      <th>3</th>\n",
       "      <td>-0.337069</td>\n",
       "      <td>-0.419752</td>\n",
       "      <td>0.019521</td>\n",
       "      <td>0.915201</td>\n",
       "      <td>0.072610</td>\n",
       "      <td>-0.322308</td>\n",
       "      <td>0.086998</td>\n",
       "      <td>0.030600</td>\n",
       "      <td>0.074742</td>\n",
       "      <td>-0.186564</td>\n",
       "      <td>-0.622172</td>\n",
       "      <td>-0.563180</td>\n",
       "      <td>1.000000</td>\n",
       "      <td>-0.171430</td>\n",
       "      <td>0.243706</td>\n",
       "      <td>-0.000181</td>\n",
       "      <td>-0.116562</td>\n",
       "      <td>0.116562</td>\n",
       "    </tr>\n",
       "    <tr>\n",
       "      <th>C</th>\n",
       "      <td>0.085777</td>\n",
       "      <td>0.286269</td>\n",
       "      <td>-0.008635</td>\n",
       "      <td>-0.269658</td>\n",
       "      <td>-0.048396</td>\n",
       "      <td>0.168240</td>\n",
       "      <td>-0.014172</td>\n",
       "      <td>-0.016251</td>\n",
       "      <td>-0.059710</td>\n",
       "      <td>0.107572</td>\n",
       "      <td>0.325722</td>\n",
       "      <td>-0.134675</td>\n",
       "      <td>-0.171430</td>\n",
       "      <td>1.000000</td>\n",
       "      <td>-0.164166</td>\n",
       "      <td>-0.775441</td>\n",
       "      <td>0.066564</td>\n",
       "      <td>-0.066564</td>\n",
       "    </tr>\n",
       "    <tr>\n",
       "      <th>Q</th>\n",
       "      <td>-0.019458</td>\n",
       "      <td>-0.130059</td>\n",
       "      <td>-0.100943</td>\n",
       "      <td>0.230491</td>\n",
       "      <td>-0.048678</td>\n",
       "      <td>0.003650</td>\n",
       "      <td>-0.009091</td>\n",
       "      <td>0.203538</td>\n",
       "      <td>-0.083173</td>\n",
       "      <td>-0.108114</td>\n",
       "      <td>-0.166101</td>\n",
       "      <td>-0.121973</td>\n",
       "      <td>0.243706</td>\n",
       "      <td>-0.164166</td>\n",
       "      <td>1.000000</td>\n",
       "      <td>-0.489874</td>\n",
       "      <td>0.088651</td>\n",
       "      <td>-0.088651</td>\n",
       "    </tr>\n",
       "    <tr>\n",
       "      <th>S</th>\n",
       "      <td>-0.075972</td>\n",
       "      <td>-0.172683</td>\n",
       "      <td>0.073258</td>\n",
       "      <td>0.096335</td>\n",
       "      <td>0.075198</td>\n",
       "      <td>-0.155660</td>\n",
       "      <td>0.019007</td>\n",
       "      <td>-0.117530</td>\n",
       "      <td>0.109565</td>\n",
       "      <td>-0.029299</td>\n",
       "      <td>-0.187353</td>\n",
       "      <td>0.197973</td>\n",
       "      <td>-0.000181</td>\n",
       "      <td>-0.775441</td>\n",
       "      <td>-0.489874</td>\n",
       "      <td>1.000000</td>\n",
       "      <td>-0.119504</td>\n",
       "      <td>0.119504</td>\n",
       "    </tr>\n",
       "    <tr>\n",
       "      <th>female</th>\n",
       "      <td>-0.063645</td>\n",
       "      <td>0.185523</td>\n",
       "      <td>0.213125</td>\n",
       "      <td>-0.124617</td>\n",
       "      <td>0.109609</td>\n",
       "      <td>0.543351</td>\n",
       "      <td>-0.164375</td>\n",
       "      <td>0.676028</td>\n",
       "      <td>-0.903871</td>\n",
       "      <td>0.572861</td>\n",
       "      <td>0.107371</td>\n",
       "      <td>0.028862</td>\n",
       "      <td>-0.116562</td>\n",
       "      <td>0.066564</td>\n",
       "      <td>0.088651</td>\n",
       "      <td>-0.119504</td>\n",
       "      <td>1.000000</td>\n",
       "      <td>-1.000000</td>\n",
       "    </tr>\n",
       "    <tr>\n",
       "      <th>male</th>\n",
       "      <td>0.063645</td>\n",
       "      <td>-0.185523</td>\n",
       "      <td>-0.213125</td>\n",
       "      <td>0.124617</td>\n",
       "      <td>-0.109609</td>\n",
       "      <td>-0.543351</td>\n",
       "      <td>0.164375</td>\n",
       "      <td>-0.676028</td>\n",
       "      <td>0.903871</td>\n",
       "      <td>-0.572861</td>\n",
       "      <td>-0.107371</td>\n",
       "      <td>-0.028862</td>\n",
       "      <td>0.116562</td>\n",
       "      <td>-0.066564</td>\n",
       "      <td>-0.088651</td>\n",
       "      <td>0.119504</td>\n",
       "      <td>-1.000000</td>\n",
       "      <td>1.000000</td>\n",
       "    </tr>\n",
       "  </tbody>\n",
       "</table>\n",
       "</div>"
      ],
      "text/plain": [
       "                   Age      Fare     Parch    Pclass     SibSp  Survived  \\\n",
       "Age           1.000000  0.178740 -0.150917 -0.408106 -0.243699 -0.077221   \n",
       "Fare          0.178740  1.000000  0.221539 -0.558629  0.160238  0.257307   \n",
       "Parch        -0.150917  0.221539  1.000000  0.018322  0.373587  0.081629   \n",
       "Pclass       -0.408106 -0.558629  0.018322  1.000000  0.060832 -0.338481   \n",
       "SibSp        -0.243699  0.160238  0.373587  0.060832  1.000000 -0.035322   \n",
       "Survived     -0.077221  0.257307  0.081629 -0.338481 -0.035322  1.000000   \n",
       "title_Master -0.391259  0.011596  0.253482  0.095257  0.329171  0.085221   \n",
       "title_Miss   -0.282792  0.090110  0.064589  0.025350  0.075519  0.335636   \n",
       "title_Mr      0.238673 -0.186406 -0.317819  0.078342 -0.249315 -0.563879   \n",
       "title_Mrs     0.219841  0.146375  0.212113 -0.190444  0.062537  0.347864   \n",
       "1             0.393198  0.600031 -0.013033 -0.884911 -0.034256  0.285904   \n",
       "2            -0.014986 -0.121384 -0.010057 -0.182413 -0.052419  0.093349   \n",
       "3            -0.337069 -0.419752  0.019521  0.915201  0.072610 -0.322308   \n",
       "C             0.085777  0.286269 -0.008635 -0.269658 -0.048396  0.168240   \n",
       "Q            -0.019458 -0.130059 -0.100943  0.230491 -0.048678  0.003650   \n",
       "S            -0.075972 -0.172683  0.073258  0.096335  0.075198 -0.155660   \n",
       "female       -0.063645  0.185523  0.213125 -0.124617  0.109609  0.543351   \n",
       "male          0.063645 -0.185523 -0.213125  0.124617 -0.109609 -0.543351   \n",
       "\n",
       "              title_Master  title_Miss  title_Mr  title_Mrs         1  \\\n",
       "Age              -0.391259   -0.282792  0.238673   0.219841  0.393198   \n",
       "Fare              0.011596    0.090110 -0.186406   0.146375  0.600031   \n",
       "Parch             0.253482    0.064589 -0.317819   0.212113 -0.013033   \n",
       "Pclass            0.095257    0.025350  0.078342  -0.190444 -0.884911   \n",
       "SibSp             0.329171    0.075519 -0.249315   0.062537 -0.034256   \n",
       "Survived          0.085221    0.335636 -0.563879   0.347864  0.285904   \n",
       "title_Master      1.000000   -0.111122 -0.269740  -0.094164 -0.084504   \n",
       "title_Miss       -0.111122    1.000000 -0.613242  -0.214078 -0.013879   \n",
       "title_Mr         -0.269740   -0.613242  1.000000  -0.519656 -0.065809   \n",
       "title_Mrs        -0.094164   -0.214078 -0.519656   1.000000  0.154347   \n",
       "1                -0.084504   -0.013879 -0.065809   0.154347  1.000000   \n",
       "2                -0.016933   -0.022679 -0.021715   0.064672 -0.296526   \n",
       "3                 0.086998    0.030600  0.074742  -0.186564 -0.622172   \n",
       "C                -0.014172   -0.016251 -0.059710   0.107572  0.325722   \n",
       "Q                -0.009091    0.203538 -0.083173  -0.108114 -0.166101   \n",
       "S                 0.019007   -0.117530  0.109565  -0.029299 -0.187353   \n",
       "female           -0.164375    0.676028 -0.903871   0.572861  0.107371   \n",
       "male              0.164375   -0.676028  0.903871  -0.572861 -0.107371   \n",
       "\n",
       "                     2         3         C         Q         S    female  \\\n",
       "Age          -0.014986 -0.337069  0.085777 -0.019458 -0.075972 -0.063645   \n",
       "Fare         -0.121384 -0.419752  0.286269 -0.130059 -0.172683  0.185523   \n",
       "Parch        -0.010057  0.019521 -0.008635 -0.100943  0.073258  0.213125   \n",
       "Pclass       -0.182413  0.915201 -0.269658  0.230491  0.096335 -0.124617   \n",
       "SibSp        -0.052419  0.072610 -0.048396 -0.048678  0.075198  0.109609   \n",
       "Survived      0.093349 -0.322308  0.168240  0.003650 -0.155660  0.543351   \n",
       "title_Master -0.016933  0.086998 -0.014172 -0.009091  0.019007 -0.164375   \n",
       "title_Miss   -0.022679  0.030600 -0.016251  0.203538 -0.117530  0.676028   \n",
       "title_Mr     -0.021715  0.074742 -0.059710 -0.083173  0.109565 -0.903871   \n",
       "title_Mrs     0.064672 -0.186564  0.107572 -0.108114 -0.029299  0.572861   \n",
       "1            -0.296526 -0.622172  0.325722 -0.166101 -0.187353  0.107371   \n",
       "2             1.000000 -0.563180 -0.134675 -0.121973  0.197973  0.028862   \n",
       "3            -0.563180  1.000000 -0.171430  0.243706 -0.000181 -0.116562   \n",
       "C            -0.134675 -0.171430  1.000000 -0.164166 -0.775441  0.066564   \n",
       "Q            -0.121973  0.243706 -0.164166  1.000000 -0.489874  0.088651   \n",
       "S             0.197973 -0.000181 -0.775441 -0.489874  1.000000 -0.119504   \n",
       "female        0.028862 -0.116562  0.066564  0.088651 -0.119504  1.000000   \n",
       "male         -0.028862  0.116562 -0.066564 -0.088651  0.119504 -1.000000   \n",
       "\n",
       "                  male  \n",
       "Age           0.063645  \n",
       "Fare         -0.185523  \n",
       "Parch        -0.213125  \n",
       "Pclass        0.124617  \n",
       "SibSp        -0.109609  \n",
       "Survived     -0.543351  \n",
       "title_Master  0.164375  \n",
       "title_Miss   -0.676028  \n",
       "title_Mr      0.903871  \n",
       "title_Mrs    -0.572861  \n",
       "1            -0.107371  \n",
       "2            -0.028862  \n",
       "3             0.116562  \n",
       "C            -0.066564  \n",
       "Q            -0.088651  \n",
       "S             0.119504  \n",
       "female       -1.000000  \n",
       "male          1.000000  "
      ]
     },
     "execution_count": 520,
     "metadata": {},
     "output_type": "execute_result"
    }
   ],
   "source": [
    "pclass_dummies = pd.get_dummies(df.Pclass)\n",
    "embarked_dummies = pd.get_dummies(df.Embarked)\n",
    "sex_dummies = pd.get_dummies(df.Sex)\n",
    "tmp_df = pd.concat([df, pclass_dummies, embarked_dummies, sex_dummies], axis=1)\n",
    "tmp_df.corr()"
   ]
  },
  {
   "cell_type": "code",
   "execution_count": 521,
   "metadata": {},
   "outputs": [
    {
     "data": {
      "text/plain": [
       "<seaborn.axisgrid.FacetGrid at 0x7f7477391c88>"
      ]
     },
     "execution_count": 521,
     "metadata": {},
     "output_type": "execute_result"
    },
    {
     "data": {
      "image/png": "[encoded data removed]",
      "text/plain": [
       "<Figure size 514.88x475.2 with 6 Axes>"
      ]
     },
     "metadata": {},
     "output_type": "display_data"
    }
   ],
   "source": [
    "grid = sns.FacetGrid(df[df.Embarked == 'S'], row='Pclass', col='Sex', \n",
    "                     size=2.2, aspect=1.6)\n",
    "grid.map(plt.hist, 'Age', alpha=.5, bins=20)\n",
    "grid.add_legend()"
   ]
  },
  {
   "cell_type": "code",
   "execution_count": 522,
   "metadata": {},
   "outputs": [
    {
     "data": {
      "text/plain": [
       "<seaborn.axisgrid.FacetGrid at 0x7f7476c25da0>"
      ]
     },
     "execution_count": 522,
     "metadata": {},
     "output_type": "execute_result"
    },
    {
     "data": {
      "image/png": "[encoded data removed]",
      "text/plain": [
       "<Figure size 514.88x475.2 with 6 Axes>"
      ]
     },
     "metadata": {},
     "output_type": "display_data"
    }
   ],
   "source": [
    "# data of Embarked C is too few\n",
    "grid = sns.FacetGrid(df[df.Embarked == 'C'], row='Pclass', col='Sex', \n",
    "                     size=2.2, aspect=1.6)\n",
    "grid.map(plt.hist, 'Age', alpha=.5, bins=20)\n",
    "grid.add_legend()"
   ]
  },
  {
   "cell_type": "code",
   "execution_count": 523,
   "metadata": {},
   "outputs": [
    {
     "data": {
      "text/plain": [
       "<seaborn.axisgrid.FacetGrid at 0x7f7476b4a7b8>"
      ]
     },
     "execution_count": 523,
     "metadata": {},
     "output_type": "execute_result"
    },
    {
     "data": {
      "image/png": "[encoded data removed]",
      "text/plain": [
       "<Figure size 514.88x475.2 with 6 Axes>"
      ]
     },
     "metadata": {},
     "output_type": "display_data"
    }
   ],
   "source": [
    "# data of Embarked Q is too few\n",
    "grid = sns.FacetGrid(df[df.Embarked == 'Q'], row='Pclass', col='Sex', \n",
    "                     size=2.2, aspect=1.6)\n",
    "grid.map(plt.hist, 'Age', alpha=.5, bins=20)\n",
    "grid.add_legend()"
   ]
  },
  {
   "cell_type": "code",
   "execution_count": 524,
   "metadata": {},
   "outputs": [],
   "source": [
    "for embark_index in df.Embarked.value_counts().index:\n",
    "    the_embark_series = df.Embarked == embark_index\n",
    "    for sex_index in df.Sex.value_counts().index:\n",
    "        the_sex_series = df.Sex == sex_index\n",
    "        median = df[the_embark_series & the_sex_series].Age.median()\n",
    "        df.loc[the_embark_series & the_sex_series & df.Age.isnull(), 'Age'] = median\n",
    "df.Age = df.Age.astype(int)"
   ]
  },
  {
   "cell_type": "code",
   "execution_count": 525,
   "metadata": {},
   "outputs": [],
   "source": [
    "age_intervals = (\n",
    "    (-1, 3),\n",
    "    (3, 6),\n",
    "    (6, 9),\n",
    "    (9, 12),\n",
    "    (12, 15),\n",
    "    (15, 18),\n",
    "    (18, 21),\n",
    "    (21, 25),\n",
    "    (25, 30),\n",
    "    (30, 35),\n",
    "    (35, 40),\n",
    "    (40, 45),\n",
    "    (45, 50),\n",
    "    (50, 55),\n",
    "    (55, 60),\n",
    "    (60, 65),\n",
    "    (65, 80)\n",
    ")\n",
    "def apply_age_intervals(age):\n",
    "    for index, age_interval in enumerate(age_intervals):\n",
    "        left, right = age_interval\n",
    "        if left < age <= right:\n",
    "            return index\n",
    "df['age_stage'] = df.Age.apply(apply_age_intervals).astype(int)"
   ]
  },
  {
   "cell_type": "code",
   "execution_count": 526,
   "metadata": {},
   "outputs": [
    {
     "data": {
      "text/html": [
       "<div>\n",
       "<style scoped>\n",
       "    .dataframe tbody tr th:only-of-type {\n",
       "        vertical-align: middle;\n",
       "    }\n",
       "\n",
       "    .dataframe tbody tr th {\n",
       "        vertical-align: top;\n",
       "    }\n",
       "\n",
       "    .dataframe thead th {\n",
       "        text-align: right;\n",
       "    }\n",
       "</style>\n",
       "<table border=\"1\" class=\"dataframe\">\n",
       "  <thead>\n",
       "    <tr style=\"text-align: right;\">\n",
       "      <th></th>\n",
       "      <th>age_stage</th>\n",
       "      <th>Survived</th>\n",
       "    </tr>\n",
       "  </thead>\n",
       "  <tbody>\n",
       "    <tr>\n",
       "      <th>0</th>\n",
       "      <td>0</td>\n",
       "      <td>0.666667</td>\n",
       "    </tr>\n",
       "    <tr>\n",
       "      <th>1</th>\n",
       "      <td>1</td>\n",
       "      <td>0.764706</td>\n",
       "    </tr>\n",
       "    <tr>\n",
       "      <th>2</th>\n",
       "      <td>2</td>\n",
       "      <td>0.333333</td>\n",
       "    </tr>\n",
       "    <tr>\n",
       "      <th>3</th>\n",
       "      <td>3</td>\n",
       "      <td>0.285714</td>\n",
       "    </tr>\n",
       "    <tr>\n",
       "      <th>4</th>\n",
       "      <td>4</td>\n",
       "      <td>0.642857</td>\n",
       "    </tr>\n",
       "    <tr>\n",
       "      <th>5</th>\n",
       "      <td>5</td>\n",
       "      <td>0.375000</td>\n",
       "    </tr>\n",
       "    <tr>\n",
       "      <th>6</th>\n",
       "      <td>6</td>\n",
       "      <td>0.261538</td>\n",
       "    </tr>\n",
       "    <tr>\n",
       "      <th>7</th>\n",
       "      <td>7</td>\n",
       "      <td>0.471074</td>\n",
       "    </tr>\n",
       "    <tr>\n",
       "      <th>8</th>\n",
       "      <td>8</td>\n",
       "      <td>0.281369</td>\n",
       "    </tr>\n",
       "    <tr>\n",
       "      <th>9</th>\n",
       "      <td>9</td>\n",
       "      <td>0.476744</td>\n",
       "    </tr>\n",
       "    <tr>\n",
       "      <th>10</th>\n",
       "      <td>10</td>\n",
       "      <td>0.405797</td>\n",
       "    </tr>\n",
       "    <tr>\n",
       "      <th>11</th>\n",
       "      <td>11</td>\n",
       "      <td>0.361702</td>\n",
       "    </tr>\n",
       "    <tr>\n",
       "      <th>12</th>\n",
       "      <td>12</td>\n",
       "      <td>0.432432</td>\n",
       "    </tr>\n",
       "    <tr>\n",
       "      <th>13</th>\n",
       "      <td>13</td>\n",
       "      <td>0.400000</td>\n",
       "    </tr>\n",
       "    <tr>\n",
       "      <th>14</th>\n",
       "      <td>14</td>\n",
       "      <td>0.411765</td>\n",
       "    </tr>\n",
       "    <tr>\n",
       "      <th>15</th>\n",
       "      <td>15</td>\n",
       "      <td>0.285714</td>\n",
       "    </tr>\n",
       "    <tr>\n",
       "      <th>16</th>\n",
       "      <td>16</td>\n",
       "      <td>0.125000</td>\n",
       "    </tr>\n",
       "  </tbody>\n",
       "</table>\n",
       "</div>"
      ],
      "text/plain": [
       "    age_stage  Survived\n",
       "0           0  0.666667\n",
       "1           1  0.764706\n",
       "2           2  0.333333\n",
       "3           3  0.285714\n",
       "4           4  0.642857\n",
       "5           5  0.375000\n",
       "6           6  0.261538\n",
       "7           7  0.471074\n",
       "8           8  0.281369\n",
       "9           9  0.476744\n",
       "10         10  0.405797\n",
       "11         11  0.361702\n",
       "12         12  0.432432\n",
       "13         13  0.400000\n",
       "14         14  0.411765\n",
       "15         15  0.285714\n",
       "16         16  0.125000"
      ]
     },
     "execution_count": 526,
     "metadata": {},
     "output_type": "execute_result"
    }
   ],
   "source": [
    "df[['age_stage', 'Survived']].groupby(['age_stage'], as_index=False).mean() \\\n",
    "    .sort_values(by='age_stage', ascending=True)"
   ]
  },
  {
   "cell_type": "code",
   "execution_count": 527,
   "metadata": {},
   "outputs": [],
   "source": [
    "age_stage_dummies = pd.get_dummies(df.age_stage, prefix='age_stage')\n",
    "df = pd.concat([df, age_stage_dummies], axis=1)\n",
    "df = df.drop(columns=['Age', 'age_stage'], axis=1)"
   ]
  },
  {
   "cell_type": "markdown",
   "metadata": {},
   "source": [
    "## Completion Fare"
   ]
  },
  {
   "cell_type": "code",
   "execution_count": 528,
   "metadata": {},
   "outputs": [],
   "source": [
    "for embark_index in df.Embarked.value_counts().index:\n",
    "    the_embark_series = df.Embarked == embark_index\n",
    "    for pclass_index in df.Pclass.value_counts().index:\n",
    "        the_pclass_series = df.Pclass == pclass_index\n",
    "        median = df[the_embark_series & the_pclass_series].Fare.median()\n",
    "        df.loc[the_embark_series & the_pclass_series & df.Fare.isnull(), 'Fare'] = median"
   ]
  },
  {
   "cell_type": "markdown",
   "metadata": {},
   "source": [
    "## Completion Embarked"
   ]
  },
  {
   "cell_type": "code",
   "execution_count": 529,
   "metadata": {},
   "outputs": [],
   "source": [
    "most_embarked = df.Embarked.value_counts().index[0]\n",
    "df.Embarked.fillna(most_embarked, inplace=True)"
   ]
  },
  {
   "cell_type": "code",
   "execution_count": 530,
   "metadata": {},
   "outputs": [],
   "source": [
    "embarked_dummies = pd.get_dummies(df.Embarked, prefix='embarked')\n",
    "df = pd.concat([df, embarked_dummies], axis=1)\n",
    "df = df.drop(columns=['Embarked'], axis=1)"
   ]
  },
  {
   "cell_type": "markdown",
   "metadata": {},
   "source": [
    "## Create feature"
   ]
  },
  {
   "cell_type": "code",
   "execution_count": 531,
   "metadata": {},
   "outputs": [],
   "source": [
    "is_alone_series = (df.Parch == 0) & (df.SibSp == 0)\n",
    "df['is_alone'] = is_alone_series.astype(int)"
   ]
  },
  {
   "cell_type": "code",
   "execution_count": 532,
   "metadata": {},
   "outputs": [],
   "source": [
    "sex_dummies = pd.get_dummies(df.Sex, prefix='sex')\n",
    "df = pd.concat([df, sex_dummies], axis=1)\n",
    "df = df.drop(columns=['Sex'], axis=1)"
   ]
  },
  {
   "cell_type": "markdown",
   "metadata": {},
   "source": [
    "# Model, predict and solve"
   ]
  },
  {
   "cell_type": "code",
   "execution_count": 555,
   "metadata": {},
   "outputs": [],
   "source": [
    "from sklearn.model_selection import cross_val_score"
   ]
  },
  {
   "cell_type": "code",
   "execution_count": 546,
   "metadata": {},
   "outputs": [
    {
     "name": "stderr",
     "output_type": "stream",
     "text": [
      "/app/.venv/lib/python3.6/site-packages/pandas/core/generic.py:4401: SettingWithCopyWarning: \n",
      "A value is trying to be set on a copy of a slice from a DataFrame.\n",
      "Try using .loc[row_indexer,col_indexer] = value instead\n",
      "\n",
      "See the caveats in the documentation: http://pandas.pydata.org/pandas-docs/stable/indexing.html#indexing-view-versus-copy\n",
      "  self[name] = value\n"
     ]
    }
   ],
   "source": [
    "train_df = df[df.Survived.notnull()]\n",
    "test_df = df[df.Survived.isnull()]\n",
    "train_df.Survived = train_df.Survived.astype(int)\n",
    "test_df = test_df.drop(columns=['Survived'], axis=1)"
   ]
  },
  {
   "cell_type": "code",
   "execution_count": 564,
   "metadata": {},
   "outputs": [
    {
     "data": {
      "image/png": "[encoded data removed]",
      "text/plain": [
       "<Figure size 432x288 with 1 Axes>"
      ]
     },
     "metadata": {},
     "output_type": "display_data"
    },
    {
     "name": "stdout",
     "output_type": "stream",
     "text": [
      "{10: 0.8090502854633289,\n",
      " 15: 0.8002591128678086,\n",
      " 20: 0.8104084321475626,\n",
      " 25: 0.8002821695213,\n",
      " 30: 0.8080873956960914,\n",
      " 35: 0.8025559947299078}\n"
     ]
    }
   ],
   "source": [
    "scores = []\n",
    "the_range = list(range(10, 40, 5))\n",
    "for n_estimators in the_range:\n",
    "    clf = RandomForestClassifier(n_estimators=n_estimators)\n",
    "    #score = clf.score(train_df.drop(columns=['Survived'], axis=1), train_df.Survived)\n",
    "    cv_scores = cross_val_score(clf,\n",
    "                                train_df.drop(columns=['Survived'], axis=1), \n",
    "                                train_df.Survived,\n",
    "                                cv=20)\n",
    "    scores.append(cv_scores.mean())\n",
    "    \n",
    "plt.plot(the_range, scores)\n",
    "plt.xlabel('n_estimators')\n",
    "plt.ylabel('score')\n",
    "plt.show()\n",
    "\n",
    "pprint(dict(zip(the_range, scores)))"
   ]
  },
  {
   "cell_type": "code",
   "execution_count": 562,
   "metadata": {},
   "outputs": [
    {
     "data": {
      "image/png": "[encoded data removed]",
      "text/plain": [
       "<Figure size 432x288 with 1 Axes>"
      ]
     },
     "metadata": {},
     "output_type": "display_data"
    },
    {
     "name": "stdout",
     "output_type": "stream",
     "text": [
      "{15: 0.7991970264442174,\n",
      " 16: 0.7947276132107592,\n",
      " 17: 0.7980612302803314,\n",
      " 18: 0.7957885030076041,\n",
      " 19: 0.7935157757348767,\n",
      " 20: 0.7902454318465555,\n",
      " 21: 0.7992469640222449,\n",
      " 22: 0.7969118147769834,\n",
      " 23: 0.7946651912382249,\n",
      " 24: 0.7913066053796391,\n",
      " 25: 0.7969118147769834,\n",
      " 26: 0.7980612302803315,\n",
      " 27: 0.7991592895244581,\n",
      " 28: 0.80365367154693,\n",
      " 29: 0.8014192486664398,\n",
      " 30: 0.795813188060379}\n"
     ]
    }
   ],
   "source": [
    "scores = []\n",
    "the_range = list(range(15, 31))\n",
    "for n_estimators in the_range:\n",
    "    clf = RandomForestClassifier(n_estimators=n_estimators)\n",
    "    #score = clf.score(train_df.drop(columns=['Survived'], axis=1), train_df.Survived)\n",
    "    cv_scores = cross_val_score(clf,\n",
    "                                train_df.drop(columns=['Survived'], axis=1), \n",
    "                                train_df.Survived,\n",
    "                                cv=10)\n",
    "    scores.append(cv_scores.mean())\n",
    "    \n",
    "plt.plot(the_range, scores)\n",
    "plt.xlabel('n_estimators')\n",
    "plt.ylabel('score')\n",
    "plt.show()\n",
    "\n",
    "pprint(dict(zip(the_range, scores)))"
   ]
  },
  {
   "cell_type": "code",
   "execution_count": 548,
   "metadata": {},
   "outputs": [
    {
     "name": "stdout",
     "output_type": "stream",
     "text": [
      "<class 'pandas.core.frame.DataFrame'>\n",
      "Int64Index: 418 entries, 892 to 1309\n",
      "Data columns (total 31 columns):\n",
      "Fare            418 non-null float64\n",
      "Parch           418 non-null int64\n",
      "Pclass          418 non-null int64\n",
      "SibSp           418 non-null int64\n",
      "title_Master    418 non-null uint8\n",
      "title_Miss      418 non-null uint8\n",
      "title_Mr        418 non-null uint8\n",
      "title_Mrs       418 non-null uint8\n",
      "age_stage_0     418 non-null uint8\n",
      "age_stage_1     418 non-null uint8\n",
      "age_stage_2     418 non-null uint8\n",
      "age_stage_3     418 non-null uint8\n",
      "age_stage_4     418 non-null uint8\n",
      "age_stage_5     418 non-null uint8\n",
      "age_stage_6     418 non-null uint8\n",
      "age_stage_7     418 non-null uint8\n",
      "age_stage_8     418 non-null uint8\n",
      "age_stage_9     418 non-null uint8\n",
      "age_stage_10    418 non-null uint8\n",
      "age_stage_11    418 non-null uint8\n",
      "age_stage_12    418 non-null uint8\n",
      "age_stage_13    418 non-null uint8\n",
      "age_stage_14    418 non-null uint8\n",
      "age_stage_15    418 non-null uint8\n",
      "age_stage_16    418 non-null uint8\n",
      "embarked_C      418 non-null uint8\n",
      "embarked_Q      418 non-null uint8\n",
      "embarked_S      418 non-null uint8\n",
      "is_alone        418 non-null int64\n",
      "sex_female      418 non-null uint8\n",
      "sex_male        418 non-null uint8\n",
      "dtypes: float64(1), int64(4), uint8(26)\n",
      "memory usage: 30.2 KB\n"
     ]
    }
   ],
   "source": [
    "test_df.info()"
   ]
  },
  {
   "cell_type": "code",
   "execution_count": 565,
   "metadata": {},
   "outputs": [],
   "source": [
    "clf = RandomForestClassifier()\n",
    "clf = clf.fit(train_df.drop(columns=['Survived'], axis=1), \n",
    "              train_df.Survived)"
   ]
  },
  {
   "cell_type": "code",
   "execution_count": 566,
   "metadata": {},
   "outputs": [],
   "source": [
    "predict_result = clf.predict(test_df)"
   ]
  },
  {
   "cell_type": "code",
   "execution_count": 577,
   "metadata": {},
   "outputs": [],
   "source": [
    "test_df = pd.read_csv('../input/test.csv')\n",
    "test_df['Survived'] = predict_result.astype(int)"
   ]
  },
  {
   "cell_type": "code",
   "execution_count": 586,
   "metadata": {},
   "outputs": [],
   "source": [
    "test_df[['PassengerId', 'Survived']].to_csv('submission.csv', index=False)"
   ]
  },
  {
   "cell_type": "code",
   "execution_count": null,
   "metadata": {},
   "outputs": [],
   "source": []
  }
 ],
 "metadata": {
  "kernelspec": {
   "display_name": "Python 3",
   "language": "python",
   "name": "python3"
  },
  "language_info": {
   "codemirror_mode": {
    "name": "ipython",
    "version": 3
   },
   "file_extension": ".py",
   "mimetype": "text/x-python",
   "name": "python",
   "nbconvert_exporter": "python",
   "pygments_lexer": "ipython3",
   "version": "3.6.5"
  }
 },
 "nbformat": 4,
 "nbformat_minor": 2
}
