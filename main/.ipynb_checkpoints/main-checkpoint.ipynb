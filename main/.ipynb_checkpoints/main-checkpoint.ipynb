{
 "cells": [
  {
   "cell_type": "code",
   "execution_count": 1,
   "metadata": {},
   "outputs": [],
   "source": [
    "# Import basic packages\n",
    "\n",
    "from pprint import pprint\n",
    "\n",
    "import pandas as pd\n",
    "import numpy as np\n",
    "import matplotlib.pyplot as plt\n",
    "from pandas.tools.plotting import scatter_matrix\n",
    "\n",
    "import seaborn as sns\n",
    "\n",
    "pd.set_option('display.max_rows', 10)"
   ]
  },
  {
   "cell_type": "code",
   "execution_count": 2,
   "metadata": {},
   "outputs": [],
   "source": [
    "# Files\n",
    "\n",
    "train_file = '../input/train.csv'\n",
    "test_file = '../input/test.csv'"
   ]
  },
  {
   "cell_type": "code",
   "execution_count": 3,
   "metadata": {},
   "outputs": [],
   "source": [
    "train_and_test_files = (train_file, test_file)\n",
    "train_df, test_df = [pd.read_csv(f, index_col='PassengerId') for f in (train_file, test_file)]"
   ]
  },
  {
   "cell_type": "code",
   "execution_count": 4,
   "metadata": {},
   "outputs": [
    {
     "name": "stdout",
     "output_type": "stream",
     "text": [
      "train_df:\n",
      "<class 'pandas.core.frame.DataFrame'>\n",
      "Int64Index: 891 entries, 1 to 891\n",
      "Data columns (total 11 columns):\n",
      "Survived    891 non-null int64\n",
      "Pclass      891 non-null int64\n",
      "Name        891 non-null object\n",
      "Sex         891 non-null object\n",
      "Age         714 non-null float64\n",
      "SibSp       891 non-null int64\n",
      "Parch       891 non-null int64\n",
      "Ticket      891 non-null object\n",
      "Fare        891 non-null float64\n",
      "Cabin       204 non-null object\n",
      "Embarked    889 non-null object\n",
      "dtypes: float64(2), int64(4), object(5)\n",
      "memory usage: 83.5+ KB\n",
      "---\n",
      "test_df:\n",
      "<class 'pandas.core.frame.DataFrame'>\n",
      "Int64Index: 418 entries, 892 to 1309\n",
      "Data columns (total 10 columns):\n",
      "Pclass      418 non-null int64\n",
      "Name        418 non-null object\n",
      "Sex         418 non-null object\n",
      "Age         332 non-null float64\n",
      "SibSp       418 non-null int64\n",
      "Parch       418 non-null int64\n",
      "Ticket      418 non-null object\n",
      "Fare        417 non-null float64\n",
      "Cabin       91 non-null object\n",
      "Embarked    418 non-null object\n",
      "dtypes: float64(2), int64(3), object(5)\n",
      "memory usage: 35.9+ KB\n"
     ]
    }
   ],
   "source": [
    "print('train_df:')\n",
    "train_df.info()\n",
    "print('---')\n",
    "print('test_df:')\n",
    "test_df.info()"
   ]
  },
  {
   "cell_type": "markdown",
   "metadata": {},
   "source": [
    "# Check which columns are missing\n",
    "To enhance the completion of data. We should fill the missing data."
   ]
  },
  {
   "cell_type": "code",
   "execution_count": 5,
   "metadata": {},
   "outputs": [
    {
     "name": "stderr",
     "output_type": "stream",
     "text": [
      "/app/.venv/lib/python3.6/site-packages/pandas/core/frame.py:6201: FutureWarning: Sorting because non-concatenation axis is not aligned. A future version\n",
      "of pandas will change to not sort by default.\n",
      "\n",
      "To accept the future behavior, pass 'sort=True'.\n",
      "\n",
      "To retain the current behavior and silence the warning, pass sort=False\n",
      "\n",
      "  sort=sort)\n"
     ]
    }
   ],
   "source": [
    "unnecessary_columns = ['Ticket', 'Cabin']\n",
    "train_df = train_df.drop(columns=unnecessary_columns)\n",
    "test_df = test_df.drop(columns=unnecessary_columns)\n",
    "merged_df = train_df.append(test_df)"
   ]
  },
  {
   "cell_type": "code",
   "execution_count": 6,
   "metadata": {},
   "outputs": [
    {
     "data": {
      "text/plain": [
       "['Age', 'Embarked', 'Fare', 'Survived']"
      ]
     },
     "execution_count": 6,
     "metadata": {},
     "output_type": "execute_result"
    }
   ],
   "source": [
    "# Sould check what columns are including NaN\n",
    "columns_series = merged_df.isnull().any()\n",
    "columns_with_nan_series = columns_series[columns_series == True]\n",
    "columns_with_nan = columns_with_nan_series.index.values.tolist()\n",
    "columns_with_nan"
   ]
  },
  {
   "cell_type": "code",
   "execution_count": null,
   "metadata": {},
   "outputs": [],
   "source": []
  },
  {
   "cell_type": "markdown",
   "metadata": {},
   "source": [
    "# Fill nan value of Fare column"
   ]
  },
  {
   "cell_type": "code",
   "execution_count": 7,
   "metadata": {},
   "outputs": [
    {
     "name": "stdout",
     "output_type": "stream",
     "text": [
      "Age column has 263 of row count of NaN data \n",
      "Embarked column has 2 of row count of NaN data \n",
      "Fare column has 1 of row count of NaN data \n",
      "Survived column has 418 of row count of NaN data \n"
     ]
    }
   ],
   "source": [
    "for c in columns_with_nan:\n",
    "    subset_df = merged_df[merged_df[c].isnull()]\n",
    "    row_count = len(subset_df.index)\n",
    "    print('{} column has {} of row count of NaN data '.format(c, row_count))\n",
    "    subset_df.head()"
   ]
  },
  {
   "cell_type": "code",
   "execution_count": 8,
   "metadata": {},
   "outputs": [
    {
     "name": "stdout",
     "output_type": "stream",
     "text": [
      "Median fare of 1 Pclass is: 60.0\n",
      "Median fare of 2 Pclass is: 15.0458\n",
      "Median fare of 3 Pclass is: 8.05\n"
     ]
    }
   ],
   "source": [
    "p_class_types = merged_df['Pclass'].unique()\n",
    "p_class_types.sort()\n",
    "for p_class_type in p_class_types:\n",
    "    fare_series = merged_df[merged_df['Pclass'] == p_class_type]['Fare']\n",
    "    median = fare_series.median()\n",
    "    print('Median fare of {} Pclass is: {}'.format(p_class_type, median))"
   ]
  },
  {
   "cell_type": "code",
   "execution_count": 9,
   "metadata": {},
   "outputs": [],
   "source": [
    "for p_class_type in p_class_types:\n",
    "    fare_series = merged_df[merged_df['Pclass'] == p_class_type]['Fare']\n",
    "    has_any_null = fare_series.isnull().any()\n",
    "    if not has_any_null:\n",
    "        continue\n",
    "\n",
    "    s = fare_series.isnull()\n",
    "    filled_series = s[s == True]\n",
    "    merged_df.loc[filled_series.index, ['Fare']] = fare_series.median()"
   ]
  },
  {
   "cell_type": "code",
   "execution_count": 10,
   "metadata": {},
   "outputs": [],
   "source": [
    "embarked_count_series = merged_df['Embarked'].value_counts()\n"
   ]
  },
  {
   "cell_type": "markdown",
   "metadata": {},
   "source": [
    "# Fill nan value of Age column"
   ]
  },
  {
   "cell_type": "code",
   "execution_count": 11,
   "metadata": {},
   "outputs": [],
   "source": [
    "median_age = merged_df['Age'].median()\n",
    "merged_df['Age'] = merged_df['Age'].fillna(median_age)"
   ]
  },
  {
   "cell_type": "markdown",
   "metadata": {},
   "source": [
    "# Fill nan value of Embarked column"
   ]
  },
  {
   "cell_type": "code",
   "execution_count": 12,
   "metadata": {},
   "outputs": [
    {
     "name": "stdout",
     "output_type": "stream",
     "text": [
      "Embarked 最常出現: S\n"
     ]
    }
   ],
   "source": [
    "idxmax = merged_df['Embarked'].value_counts().idxmax()\n",
    "print(\"Embarked 最常出現:\", idxmax)\n",
    "merged_df['Embarked'] = merged_df['Embarked'].fillna(idxmax)"
   ]
  },
  {
   "cell_type": "markdown",
   "metadata": {},
   "source": [
    "# Feature engineering about Name"
   ]
  },
  {
   "cell_type": "code",
   "execution_count": 13,
   "metadata": {},
   "outputs": [
    {
     "data": {
      "text/plain": [
       "PassengerId\n",
       "1                               Mr. Owen Harris\n",
       "2    Mrs. John Bradley (Florence Briggs Thayer)\n",
       "3                                   Miss. Laina\n",
       "4            Mrs. Jacques Heath (Lily May Peel)\n",
       "5                             Mr. William Henry\n",
       "Name: 1, dtype: object"
      ]
     },
     "execution_count": 13,
     "metadata": {},
     "output_type": "execute_result"
    }
   ],
   "source": [
    "last_name_series = merged_df['Name'].str.split(\", \", expand=True)[1]\n",
    "last_name_series.head(5)"
   ]
  },
  {
   "cell_type": "code",
   "execution_count": 14,
   "metadata": {},
   "outputs": [],
   "source": [
    "title_series = last_name_series.str.split('.', expand=True)[0]"
   ]
  },
  {
   "cell_type": "code",
   "execution_count": 15,
   "metadata": {},
   "outputs": [
    {
     "data": {
      "text/html": [
       "<div>\n",
       "<style scoped>\n",
       "    .dataframe tbody tr th:only-of-type {\n",
       "        vertical-align: middle;\n",
       "    }\n",
       "\n",
       "    .dataframe tbody tr th {\n",
       "        vertical-align: top;\n",
       "    }\n",
       "\n",
       "    .dataframe thead th {\n",
       "        text-align: right;\n",
       "    }\n",
       "</style>\n",
       "<table border=\"1\" class=\"dataframe\">\n",
       "  <thead>\n",
       "    <tr style=\"text-align: right;\">\n",
       "      <th></th>\n",
       "      <th>Age</th>\n",
       "      <th>Embarked</th>\n",
       "      <th>Fare</th>\n",
       "      <th>Parch</th>\n",
       "      <th>Pclass</th>\n",
       "      <th>Sex</th>\n",
       "      <th>SibSp</th>\n",
       "      <th>Survived</th>\n",
       "      <th>title</th>\n",
       "    </tr>\n",
       "    <tr>\n",
       "      <th>PassengerId</th>\n",
       "      <th></th>\n",
       "      <th></th>\n",
       "      <th></th>\n",
       "      <th></th>\n",
       "      <th></th>\n",
       "      <th></th>\n",
       "      <th></th>\n",
       "      <th></th>\n",
       "      <th></th>\n",
       "    </tr>\n",
       "  </thead>\n",
       "  <tbody>\n",
       "    <tr>\n",
       "      <th>1</th>\n",
       "      <td>22.0</td>\n",
       "      <td>S</td>\n",
       "      <td>7.2500</td>\n",
       "      <td>0</td>\n",
       "      <td>3</td>\n",
       "      <td>male</td>\n",
       "      <td>1</td>\n",
       "      <td>0.0</td>\n",
       "      <td>Mr</td>\n",
       "    </tr>\n",
       "    <tr>\n",
       "      <th>2</th>\n",
       "      <td>38.0</td>\n",
       "      <td>C</td>\n",
       "      <td>71.2833</td>\n",
       "      <td>0</td>\n",
       "      <td>1</td>\n",
       "      <td>female</td>\n",
       "      <td>1</td>\n",
       "      <td>1.0</td>\n",
       "      <td>Mrs</td>\n",
       "    </tr>\n",
       "    <tr>\n",
       "      <th>3</th>\n",
       "      <td>26.0</td>\n",
       "      <td>S</td>\n",
       "      <td>7.9250</td>\n",
       "      <td>0</td>\n",
       "      <td>3</td>\n",
       "      <td>female</td>\n",
       "      <td>0</td>\n",
       "      <td>1.0</td>\n",
       "      <td>Miss</td>\n",
       "    </tr>\n",
       "    <tr>\n",
       "      <th>4</th>\n",
       "      <td>35.0</td>\n",
       "      <td>S</td>\n",
       "      <td>53.1000</td>\n",
       "      <td>0</td>\n",
       "      <td>1</td>\n",
       "      <td>female</td>\n",
       "      <td>1</td>\n",
       "      <td>1.0</td>\n",
       "      <td>Mrs</td>\n",
       "    </tr>\n",
       "    <tr>\n",
       "      <th>5</th>\n",
       "      <td>35.0</td>\n",
       "      <td>S</td>\n",
       "      <td>8.0500</td>\n",
       "      <td>0</td>\n",
       "      <td>3</td>\n",
       "      <td>male</td>\n",
       "      <td>0</td>\n",
       "      <td>0.0</td>\n",
       "      <td>Mr</td>\n",
       "    </tr>\n",
       "  </tbody>\n",
       "</table>\n",
       "</div>"
      ],
      "text/plain": [
       "              Age Embarked     Fare  Parch  Pclass     Sex  SibSp  Survived  \\\n",
       "PassengerId                                                                   \n",
       "1            22.0        S   7.2500      0       3    male      1       0.0   \n",
       "2            38.0        C  71.2833      0       1  female      1       1.0   \n",
       "3            26.0        S   7.9250      0       3  female      0       1.0   \n",
       "4            35.0        S  53.1000      0       1  female      1       1.0   \n",
       "5            35.0        S   8.0500      0       3    male      0       0.0   \n",
       "\n",
       "            title  \n",
       "PassengerId        \n",
       "1              Mr  \n",
       "2             Mrs  \n",
       "3            Miss  \n",
       "4             Mrs  \n",
       "5              Mr  "
      ]
     },
     "execution_count": 15,
     "metadata": {},
     "output_type": "execute_result"
    }
   ],
   "source": [
    "merged_df['title'] = title_series\n",
    "merged_df = merged_df.drop(columns=['Name'])\n",
    "merged_df.head(5)"
   ]
  },
  {
   "cell_type": "code",
   "execution_count": 16,
   "metadata": {},
   "outputs": [
    {
     "data": {
      "text/html": [
       "<style  type=\"text/css\" >\n",
       "    #T_eaec04e4_6c84_11e8_a059_0242ac120002row0_col0 {\n",
       "            background-color:  #ffff66;\n",
       "        }    #T_eaec04e4_6c84_11e8_a059_0242ac120002row0_col1 {\n",
       "            background-color:  #ffff66;\n",
       "        }    #T_eaec04e4_6c84_11e8_a059_0242ac120002row0_col2 {\n",
       "            background-color:  #ffff66;\n",
       "        }    #T_eaec04e4_6c84_11e8_a059_0242ac120002row0_col3 {\n",
       "            background-color:  #008066;\n",
       "        }    #T_eaec04e4_6c84_11e8_a059_0242ac120002row0_col4 {\n",
       "            background-color:  #ffff66;\n",
       "        }    #T_eaec04e4_6c84_11e8_a059_0242ac120002row0_col5 {\n",
       "            background-color:  #ffff66;\n",
       "        }    #T_eaec04e4_6c84_11e8_a059_0242ac120002row0_col6 {\n",
       "            background-color:  #008066;\n",
       "        }    #T_eaec04e4_6c84_11e8_a059_0242ac120002row0_col7 {\n",
       "            background-color:  #ffff66;\n",
       "        }    #T_eaec04e4_6c84_11e8_a059_0242ac120002row0_col8 {\n",
       "            background-color:  #ffff66;\n",
       "        }    #T_eaec04e4_6c84_11e8_a059_0242ac120002row0_col9 {\n",
       "            background-color:  #008066;\n",
       "        }    #T_eaec04e4_6c84_11e8_a059_0242ac120002row0_col10 {\n",
       "            background-color:  #008066;\n",
       "        }    #T_eaec04e4_6c84_11e8_a059_0242ac120002row0_col11 {\n",
       "            background-color:  #008066;\n",
       "        }    #T_eaec04e4_6c84_11e8_a059_0242ac120002row0_col12 {\n",
       "            background-color:  #ffff66;\n",
       "        }    #T_eaec04e4_6c84_11e8_a059_0242ac120002row0_col13 {\n",
       "            background-color:  #008066;\n",
       "        }    #T_eaec04e4_6c84_11e8_a059_0242ac120002row0_col14 {\n",
       "            background-color:  #008066;\n",
       "        }    #T_eaec04e4_6c84_11e8_a059_0242ac120002row0_col15 {\n",
       "            background-color:  #ffff66;\n",
       "        }    #T_eaec04e4_6c84_11e8_a059_0242ac120002row0_col16 {\n",
       "            background-color:  #ffff66;\n",
       "        }    #T_eaec04e4_6c84_11e8_a059_0242ac120002row0_col17 {\n",
       "            background-color:  #008066;\n",
       "        }    #T_eaec04e4_6c84_11e8_a059_0242ac120002row1_col0 {\n",
       "            background-color:  #008066;\n",
       "        }    #T_eaec04e4_6c84_11e8_a059_0242ac120002row1_col1 {\n",
       "            background-color:  #008066;\n",
       "        }    #T_eaec04e4_6c84_11e8_a059_0242ac120002row1_col2 {\n",
       "            background-color:  #008066;\n",
       "        }    #T_eaec04e4_6c84_11e8_a059_0242ac120002row1_col3 {\n",
       "            background-color:  #ffff66;\n",
       "        }    #T_eaec04e4_6c84_11e8_a059_0242ac120002row1_col4 {\n",
       "            background-color:  #008066;\n",
       "        }    #T_eaec04e4_6c84_11e8_a059_0242ac120002row1_col5 {\n",
       "            background-color:  #008066;\n",
       "        }    #T_eaec04e4_6c84_11e8_a059_0242ac120002row1_col6 {\n",
       "            background-color:  #ffff66;\n",
       "        }    #T_eaec04e4_6c84_11e8_a059_0242ac120002row1_col7 {\n",
       "            background-color:  #008066;\n",
       "        }    #T_eaec04e4_6c84_11e8_a059_0242ac120002row1_col8 {\n",
       "            background-color:  #008066;\n",
       "        }    #T_eaec04e4_6c84_11e8_a059_0242ac120002row1_col9 {\n",
       "            background-color:  #ffff66;\n",
       "        }    #T_eaec04e4_6c84_11e8_a059_0242ac120002row1_col10 {\n",
       "            background-color:  #ffff66;\n",
       "        }    #T_eaec04e4_6c84_11e8_a059_0242ac120002row1_col11 {\n",
       "            background-color:  #ffff66;\n",
       "        }    #T_eaec04e4_6c84_11e8_a059_0242ac120002row1_col12 {\n",
       "            background-color:  #008066;\n",
       "        }    #T_eaec04e4_6c84_11e8_a059_0242ac120002row1_col13 {\n",
       "            background-color:  #ffff66;\n",
       "        }    #T_eaec04e4_6c84_11e8_a059_0242ac120002row1_col14 {\n",
       "            background-color:  #ffff66;\n",
       "        }    #T_eaec04e4_6c84_11e8_a059_0242ac120002row1_col15 {\n",
       "            background-color:  #008066;\n",
       "        }    #T_eaec04e4_6c84_11e8_a059_0242ac120002row1_col16 {\n",
       "            background-color:  #008066;\n",
       "        }    #T_eaec04e4_6c84_11e8_a059_0242ac120002row1_col17 {\n",
       "            background-color:  #ffff66;\n",
       "        }</style>  \n",
       "<table id=\"T_eaec04e4_6c84_11e8_a059_0242ac120002\" > \n",
       "<thead>    <tr> \n",
       "        <th class=\"index_name level0\" >title</th> \n",
       "        <th class=\"col_heading level0 col0\" >Capt</th> \n",
       "        <th class=\"col_heading level0 col1\" >Col</th> \n",
       "        <th class=\"col_heading level0 col2\" >Don</th> \n",
       "        <th class=\"col_heading level0 col3\" >Dona</th> \n",
       "        <th class=\"col_heading level0 col4\" >Dr</th> \n",
       "        <th class=\"col_heading level0 col5\" >Jonkheer</th> \n",
       "        <th class=\"col_heading level0 col6\" >Lady</th> \n",
       "        <th class=\"col_heading level0 col7\" >Major</th> \n",
       "        <th class=\"col_heading level0 col8\" >Master</th> \n",
       "        <th class=\"col_heading level0 col9\" >Miss</th> \n",
       "        <th class=\"col_heading level0 col10\" >Mlle</th> \n",
       "        <th class=\"col_heading level0 col11\" >Mme</th> \n",
       "        <th class=\"col_heading level0 col12\" >Mr</th> \n",
       "        <th class=\"col_heading level0 col13\" >Mrs</th> \n",
       "        <th class=\"col_heading level0 col14\" >Ms</th> \n",
       "        <th class=\"col_heading level0 col15\" >Rev</th> \n",
       "        <th class=\"col_heading level0 col16\" >Sir</th> \n",
       "        <th class=\"col_heading level0 col17\" >the Countess</th> \n",
       "    </tr>    <tr> \n",
       "        <th class=\"index_name level0\" >Sex</th> \n",
       "        <th class=\"blank\" ></th> \n",
       "        <th class=\"blank\" ></th> \n",
       "        <th class=\"blank\" ></th> \n",
       "        <th class=\"blank\" ></th> \n",
       "        <th class=\"blank\" ></th> \n",
       "        <th class=\"blank\" ></th> \n",
       "        <th class=\"blank\" ></th> \n",
       "        <th class=\"blank\" ></th> \n",
       "        <th class=\"blank\" ></th> \n",
       "        <th class=\"blank\" ></th> \n",
       "        <th class=\"blank\" ></th> \n",
       "        <th class=\"blank\" ></th> \n",
       "        <th class=\"blank\" ></th> \n",
       "        <th class=\"blank\" ></th> \n",
       "        <th class=\"blank\" ></th> \n",
       "        <th class=\"blank\" ></th> \n",
       "        <th class=\"blank\" ></th> \n",
       "        <th class=\"blank\" ></th> \n",
       "    </tr></thead> \n",
       "<tbody>    <tr> \n",
       "        <th id=\"T_eaec04e4_6c84_11e8_a059_0242ac120002level0_row0\" class=\"row_heading level0 row0\" >female</th> \n",
       "        <td id=\"T_eaec04e4_6c84_11e8_a059_0242ac120002row0_col0\" class=\"data row0 col0\" >0</td> \n",
       "        <td id=\"T_eaec04e4_6c84_11e8_a059_0242ac120002row0_col1\" class=\"data row0 col1\" >0</td> \n",
       "        <td id=\"T_eaec04e4_6c84_11e8_a059_0242ac120002row0_col2\" class=\"data row0 col2\" >0</td> \n",
       "        <td id=\"T_eaec04e4_6c84_11e8_a059_0242ac120002row0_col3\" class=\"data row0 col3\" >1</td> \n",
       "        <td id=\"T_eaec04e4_6c84_11e8_a059_0242ac120002row0_col4\" class=\"data row0 col4\" >1</td> \n",
       "        <td id=\"T_eaec04e4_6c84_11e8_a059_0242ac120002row0_col5\" class=\"data row0 col5\" >0</td> \n",
       "        <td id=\"T_eaec04e4_6c84_11e8_a059_0242ac120002row0_col6\" class=\"data row0 col6\" >1</td> \n",
       "        <td id=\"T_eaec04e4_6c84_11e8_a059_0242ac120002row0_col7\" class=\"data row0 col7\" >0</td> \n",
       "        <td id=\"T_eaec04e4_6c84_11e8_a059_0242ac120002row0_col8\" class=\"data row0 col8\" >0</td> \n",
       "        <td id=\"T_eaec04e4_6c84_11e8_a059_0242ac120002row0_col9\" class=\"data row0 col9\" >260</td> \n",
       "        <td id=\"T_eaec04e4_6c84_11e8_a059_0242ac120002row0_col10\" class=\"data row0 col10\" >2</td> \n",
       "        <td id=\"T_eaec04e4_6c84_11e8_a059_0242ac120002row0_col11\" class=\"data row0 col11\" >1</td> \n",
       "        <td id=\"T_eaec04e4_6c84_11e8_a059_0242ac120002row0_col12\" class=\"data row0 col12\" >0</td> \n",
       "        <td id=\"T_eaec04e4_6c84_11e8_a059_0242ac120002row0_col13\" class=\"data row0 col13\" >197</td> \n",
       "        <td id=\"T_eaec04e4_6c84_11e8_a059_0242ac120002row0_col14\" class=\"data row0 col14\" >2</td> \n",
       "        <td id=\"T_eaec04e4_6c84_11e8_a059_0242ac120002row0_col15\" class=\"data row0 col15\" >0</td> \n",
       "        <td id=\"T_eaec04e4_6c84_11e8_a059_0242ac120002row0_col16\" class=\"data row0 col16\" >0</td> \n",
       "        <td id=\"T_eaec04e4_6c84_11e8_a059_0242ac120002row0_col17\" class=\"data row0 col17\" >1</td> \n",
       "    </tr>    <tr> \n",
       "        <th id=\"T_eaec04e4_6c84_11e8_a059_0242ac120002level0_row1\" class=\"row_heading level0 row1\" >male</th> \n",
       "        <td id=\"T_eaec04e4_6c84_11e8_a059_0242ac120002row1_col0\" class=\"data row1 col0\" >1</td> \n",
       "        <td id=\"T_eaec04e4_6c84_11e8_a059_0242ac120002row1_col1\" class=\"data row1 col1\" >4</td> \n",
       "        <td id=\"T_eaec04e4_6c84_11e8_a059_0242ac120002row1_col2\" class=\"data row1 col2\" >1</td> \n",
       "        <td id=\"T_eaec04e4_6c84_11e8_a059_0242ac120002row1_col3\" class=\"data row1 col3\" >0</td> \n",
       "        <td id=\"T_eaec04e4_6c84_11e8_a059_0242ac120002row1_col4\" class=\"data row1 col4\" >7</td> \n",
       "        <td id=\"T_eaec04e4_6c84_11e8_a059_0242ac120002row1_col5\" class=\"data row1 col5\" >1</td> \n",
       "        <td id=\"T_eaec04e4_6c84_11e8_a059_0242ac120002row1_col6\" class=\"data row1 col6\" >0</td> \n",
       "        <td id=\"T_eaec04e4_6c84_11e8_a059_0242ac120002row1_col7\" class=\"data row1 col7\" >2</td> \n",
       "        <td id=\"T_eaec04e4_6c84_11e8_a059_0242ac120002row1_col8\" class=\"data row1 col8\" >61</td> \n",
       "        <td id=\"T_eaec04e4_6c84_11e8_a059_0242ac120002row1_col9\" class=\"data row1 col9\" >0</td> \n",
       "        <td id=\"T_eaec04e4_6c84_11e8_a059_0242ac120002row1_col10\" class=\"data row1 col10\" >0</td> \n",
       "        <td id=\"T_eaec04e4_6c84_11e8_a059_0242ac120002row1_col11\" class=\"data row1 col11\" >0</td> \n",
       "        <td id=\"T_eaec04e4_6c84_11e8_a059_0242ac120002row1_col12\" class=\"data row1 col12\" >757</td> \n",
       "        <td id=\"T_eaec04e4_6c84_11e8_a059_0242ac120002row1_col13\" class=\"data row1 col13\" >0</td> \n",
       "        <td id=\"T_eaec04e4_6c84_11e8_a059_0242ac120002row1_col14\" class=\"data row1 col14\" >0</td> \n",
       "        <td id=\"T_eaec04e4_6c84_11e8_a059_0242ac120002row1_col15\" class=\"data row1 col15\" >8</td> \n",
       "        <td id=\"T_eaec04e4_6c84_11e8_a059_0242ac120002row1_col16\" class=\"data row1 col16\" >1</td> \n",
       "        <td id=\"T_eaec04e4_6c84_11e8_a059_0242ac120002row1_col17\" class=\"data row1 col17\" >0</td> \n",
       "    </tr></tbody> \n",
       "</table> "
      ],
      "text/plain": [
       "<pandas.io.formats.style.Styler at 0x7f466fff4e48>"
      ]
     },
     "execution_count": 16,
     "metadata": {},
     "output_type": "execute_result"
    }
   ],
   "source": [
    "pd.crosstab(merged_df['title'], merged_df['Sex']).T.style.background_gradient(cmap='summer_r')"
   ]
  },
  {
   "cell_type": "code",
   "execution_count": 17,
   "metadata": {},
   "outputs": [],
   "source": [
    "'''\n",
    "Please refer here:\n",
    "Mr. on wiki: https://en.wikipedia.org/wiki/Mr.\n",
    "Miss on wiki: https://en.wikipedia.org/wiki/Miss\n",
    "Ms on wiki: https://en.wikipedia.org/wiki/Ms.\n",
    "'''\n",
    "title_map = {\n",
    "    'Capt': 'Mr',\n",
    "    'Col': 'Mr',\n",
    "    'Don': 'Mr',\n",
    "    'Dona': 'Mrs',\n",
    "    'Dr': 'Mr',\n",
    "    'Jonkheer': 'Mr',\n",
    "    'Lady': 'Mrs',\n",
    "    'Major': 'Mr',\n",
    "    'Mlle': 'Miss',\n",
    "    'Mme': 'Mrs',\n",
    "    'Ms': 'Miss',\n",
    "    'Rev': 'Mr',\n",
    "    'Sir': 'Mr',\n",
    "    'the Countess': 'Mrs',\n",
    "    'Master': 'Mr'}\n",
    "merged_df['title'] = merged_df['title'].replace(title_map)"
   ]
  },
  {
   "cell_type": "code",
   "execution_count": 18,
   "metadata": {},
   "outputs": [],
   "source": [
    "dummy = pd.get_dummies(merged_df['title'])\n",
    "merged_df = pd.concat([merged_df, dummy], axis=1)\n",
    "merged_df = merged_df.drop(columns=['title'])"
   ]
  },
  {
   "cell_type": "code",
   "execution_count": 19,
   "metadata": {},
   "outputs": [
    {
     "data": {
      "text/html": [
       "<div>\n",
       "<style scoped>\n",
       "    .dataframe tbody tr th:only-of-type {\n",
       "        vertical-align: middle;\n",
       "    }\n",
       "\n",
       "    .dataframe tbody tr th {\n",
       "        vertical-align: top;\n",
       "    }\n",
       "\n",
       "    .dataframe thead th {\n",
       "        text-align: right;\n",
       "    }\n",
       "</style>\n",
       "<table border=\"1\" class=\"dataframe\">\n",
       "  <thead>\n",
       "    <tr style=\"text-align: right;\">\n",
       "      <th></th>\n",
       "      <th>Age</th>\n",
       "      <th>Embarked</th>\n",
       "      <th>Fare</th>\n",
       "      <th>Parch</th>\n",
       "      <th>Pclass</th>\n",
       "      <th>Sex</th>\n",
       "      <th>SibSp</th>\n",
       "      <th>Survived</th>\n",
       "      <th>Miss</th>\n",
       "      <th>Mr</th>\n",
       "      <th>Mrs</th>\n",
       "    </tr>\n",
       "    <tr>\n",
       "      <th>PassengerId</th>\n",
       "      <th></th>\n",
       "      <th></th>\n",
       "      <th></th>\n",
       "      <th></th>\n",
       "      <th></th>\n",
       "      <th></th>\n",
       "      <th></th>\n",
       "      <th></th>\n",
       "      <th></th>\n",
       "      <th></th>\n",
       "      <th></th>\n",
       "    </tr>\n",
       "  </thead>\n",
       "  <tbody>\n",
       "    <tr>\n",
       "      <th>1</th>\n",
       "      <td>22.0</td>\n",
       "      <td>S</td>\n",
       "      <td>7.2500</td>\n",
       "      <td>0</td>\n",
       "      <td>3</td>\n",
       "      <td>male</td>\n",
       "      <td>1</td>\n",
       "      <td>0.0</td>\n",
       "      <td>0</td>\n",
       "      <td>1</td>\n",
       "      <td>0</td>\n",
       "    </tr>\n",
       "    <tr>\n",
       "      <th>2</th>\n",
       "      <td>38.0</td>\n",
       "      <td>C</td>\n",
       "      <td>71.2833</td>\n",
       "      <td>0</td>\n",
       "      <td>1</td>\n",
       "      <td>female</td>\n",
       "      <td>1</td>\n",
       "      <td>1.0</td>\n",
       "      <td>0</td>\n",
       "      <td>0</td>\n",
       "      <td>1</td>\n",
       "    </tr>\n",
       "    <tr>\n",
       "      <th>3</th>\n",
       "      <td>26.0</td>\n",
       "      <td>S</td>\n",
       "      <td>7.9250</td>\n",
       "      <td>0</td>\n",
       "      <td>3</td>\n",
       "      <td>female</td>\n",
       "      <td>0</td>\n",
       "      <td>1.0</td>\n",
       "      <td>1</td>\n",
       "      <td>0</td>\n",
       "      <td>0</td>\n",
       "    </tr>\n",
       "    <tr>\n",
       "      <th>4</th>\n",
       "      <td>35.0</td>\n",
       "      <td>S</td>\n",
       "      <td>53.1000</td>\n",
       "      <td>0</td>\n",
       "      <td>1</td>\n",
       "      <td>female</td>\n",
       "      <td>1</td>\n",
       "      <td>1.0</td>\n",
       "      <td>0</td>\n",
       "      <td>0</td>\n",
       "      <td>1</td>\n",
       "    </tr>\n",
       "    <tr>\n",
       "      <th>5</th>\n",
       "      <td>35.0</td>\n",
       "      <td>S</td>\n",
       "      <td>8.0500</td>\n",
       "      <td>0</td>\n",
       "      <td>3</td>\n",
       "      <td>male</td>\n",
       "      <td>0</td>\n",
       "      <td>0.0</td>\n",
       "      <td>0</td>\n",
       "      <td>1</td>\n",
       "      <td>0</td>\n",
       "    </tr>\n",
       "  </tbody>\n",
       "</table>\n",
       "</div>"
      ],
      "text/plain": [
       "              Age Embarked     Fare  Parch  Pclass     Sex  SibSp  Survived  \\\n",
       "PassengerId                                                                   \n",
       "1            22.0        S   7.2500      0       3    male      1       0.0   \n",
       "2            38.0        C  71.2833      0       1  female      1       1.0   \n",
       "3            26.0        S   7.9250      0       3  female      0       1.0   \n",
       "4            35.0        S  53.1000      0       1  female      1       1.0   \n",
       "5            35.0        S   8.0500      0       3    male      0       0.0   \n",
       "\n",
       "             Miss  Mr  Mrs  \n",
       "PassengerId                 \n",
       "1               0   1    0  \n",
       "2               0   0    1  \n",
       "3               1   0    0  \n",
       "4               0   0    1  \n",
       "5               0   1    0  "
      ]
     },
     "execution_count": 19,
     "metadata": {},
     "output_type": "execute_result"
    }
   ],
   "source": [
    "merged_df.head()"
   ]
  },
  {
   "cell_type": "markdown",
   "metadata": {},
   "source": [
    "# Convert Sex, Embarked and Pclass to 0/1 variables\n",
    "\n",
    "We should use get_dummies to handle this<br>\n",
    "Convert categorical variable into dummy/indicator variables"
   ]
  },
  {
   "cell_type": "code",
   "execution_count": 20,
   "metadata": {},
   "outputs": [],
   "source": [
    "for column in ['Sex', 'Embarked']:\n",
    "    dummy = pd.get_dummies(merged_df[column])\n",
    "    merged_df = pd.concat([merged_df, dummy.astype(bool)], axis=1)\n",
    "    merged_df = merged_df.drop([column], axis=1)\n",
    "    \n",
    "dummy = pd.get_dummies(merged_df['Pclass'], prefix='pclass')\n",
    "merged_df = pd.concat([merged_df, dummy.astype(bool)], axis=1)\n",
    "merged_df = merged_df.drop(['Pclass'], axis=1)"
   ]
  },
  {
   "cell_type": "code",
   "execution_count": 21,
   "metadata": {},
   "outputs": [
    {
     "data": {
      "text/html": [
       "<div>\n",
       "<style scoped>\n",
       "    .dataframe tbody tr th:only-of-type {\n",
       "        vertical-align: middle;\n",
       "    }\n",
       "\n",
       "    .dataframe tbody tr th {\n",
       "        vertical-align: top;\n",
       "    }\n",
       "\n",
       "    .dataframe thead th {\n",
       "        text-align: right;\n",
       "    }\n",
       "</style>\n",
       "<table border=\"1\" class=\"dataframe\">\n",
       "  <thead>\n",
       "    <tr style=\"text-align: right;\">\n",
       "      <th></th>\n",
       "      <th>Age</th>\n",
       "      <th>Fare</th>\n",
       "      <th>Parch</th>\n",
       "      <th>SibSp</th>\n",
       "      <th>Survived</th>\n",
       "      <th>Miss</th>\n",
       "      <th>Mr</th>\n",
       "      <th>Mrs</th>\n",
       "      <th>female</th>\n",
       "      <th>male</th>\n",
       "      <th>C</th>\n",
       "      <th>Q</th>\n",
       "      <th>S</th>\n",
       "      <th>pclass_1</th>\n",
       "      <th>pclass_2</th>\n",
       "      <th>pclass_3</th>\n",
       "    </tr>\n",
       "    <tr>\n",
       "      <th>PassengerId</th>\n",
       "      <th></th>\n",
       "      <th></th>\n",
       "      <th></th>\n",
       "      <th></th>\n",
       "      <th></th>\n",
       "      <th></th>\n",
       "      <th></th>\n",
       "      <th></th>\n",
       "      <th></th>\n",
       "      <th></th>\n",
       "      <th></th>\n",
       "      <th></th>\n",
       "      <th></th>\n",
       "      <th></th>\n",
       "      <th></th>\n",
       "      <th></th>\n",
       "    </tr>\n",
       "  </thead>\n",
       "  <tbody>\n",
       "    <tr>\n",
       "      <th>1</th>\n",
       "      <td>22.0</td>\n",
       "      <td>7.2500</td>\n",
       "      <td>0</td>\n",
       "      <td>1</td>\n",
       "      <td>0.0</td>\n",
       "      <td>0</td>\n",
       "      <td>1</td>\n",
       "      <td>0</td>\n",
       "      <td>False</td>\n",
       "      <td>True</td>\n",
       "      <td>False</td>\n",
       "      <td>False</td>\n",
       "      <td>True</td>\n",
       "      <td>False</td>\n",
       "      <td>False</td>\n",
       "      <td>True</td>\n",
       "    </tr>\n",
       "    <tr>\n",
       "      <th>2</th>\n",
       "      <td>38.0</td>\n",
       "      <td>71.2833</td>\n",
       "      <td>0</td>\n",
       "      <td>1</td>\n",
       "      <td>1.0</td>\n",
       "      <td>0</td>\n",
       "      <td>0</td>\n",
       "      <td>1</td>\n",
       "      <td>True</td>\n",
       "      <td>False</td>\n",
       "      <td>True</td>\n",
       "      <td>False</td>\n",
       "      <td>False</td>\n",
       "      <td>True</td>\n",
       "      <td>False</td>\n",
       "      <td>False</td>\n",
       "    </tr>\n",
       "    <tr>\n",
       "      <th>3</th>\n",
       "      <td>26.0</td>\n",
       "      <td>7.9250</td>\n",
       "      <td>0</td>\n",
       "      <td>0</td>\n",
       "      <td>1.0</td>\n",
       "      <td>1</td>\n",
       "      <td>0</td>\n",
       "      <td>0</td>\n",
       "      <td>True</td>\n",
       "      <td>False</td>\n",
       "      <td>False</td>\n",
       "      <td>False</td>\n",
       "      <td>True</td>\n",
       "      <td>False</td>\n",
       "      <td>False</td>\n",
       "      <td>True</td>\n",
       "    </tr>\n",
       "    <tr>\n",
       "      <th>4</th>\n",
       "      <td>35.0</td>\n",
       "      <td>53.1000</td>\n",
       "      <td>0</td>\n",
       "      <td>1</td>\n",
       "      <td>1.0</td>\n",
       "      <td>0</td>\n",
       "      <td>0</td>\n",
       "      <td>1</td>\n",
       "      <td>True</td>\n",
       "      <td>False</td>\n",
       "      <td>False</td>\n",
       "      <td>False</td>\n",
       "      <td>True</td>\n",
       "      <td>True</td>\n",
       "      <td>False</td>\n",
       "      <td>False</td>\n",
       "    </tr>\n",
       "    <tr>\n",
       "      <th>5</th>\n",
       "      <td>35.0</td>\n",
       "      <td>8.0500</td>\n",
       "      <td>0</td>\n",
       "      <td>0</td>\n",
       "      <td>0.0</td>\n",
       "      <td>0</td>\n",
       "      <td>1</td>\n",
       "      <td>0</td>\n",
       "      <td>False</td>\n",
       "      <td>True</td>\n",
       "      <td>False</td>\n",
       "      <td>False</td>\n",
       "      <td>True</td>\n",
       "      <td>False</td>\n",
       "      <td>False</td>\n",
       "      <td>True</td>\n",
       "    </tr>\n",
       "  </tbody>\n",
       "</table>\n",
       "</div>"
      ],
      "text/plain": [
       "              Age     Fare  Parch  SibSp  Survived  Miss  Mr  Mrs  female  \\\n",
       "PassengerId                                                                 \n",
       "1            22.0   7.2500      0      1       0.0     0   1    0   False   \n",
       "2            38.0  71.2833      0      1       1.0     0   0    1    True   \n",
       "3            26.0   7.9250      0      0       1.0     1   0    0    True   \n",
       "4            35.0  53.1000      0      1       1.0     0   0    1    True   \n",
       "5            35.0   8.0500      0      0       0.0     0   1    0   False   \n",
       "\n",
       "              male      C      Q      S  pclass_1  pclass_2  pclass_3  \n",
       "PassengerId                                                            \n",
       "1             True  False  False   True     False     False      True  \n",
       "2            False   True  False  False      True     False     False  \n",
       "3            False  False  False   True     False     False      True  \n",
       "4            False  False  False   True      True     False     False  \n",
       "5             True  False  False   True     False     False      True  "
      ]
     },
     "execution_count": 21,
     "metadata": {},
     "output_type": "execute_result"
    }
   ],
   "source": [
    "merged_df.head()"
   ]
  },
  {
   "cell_type": "markdown",
   "metadata": {},
   "source": [
    "# Merge Parch and SibSp into family"
   ]
  },
  {
   "cell_type": "code",
   "execution_count": 22,
   "metadata": {},
   "outputs": [
    {
     "data": {
      "text/html": [
       "<div>\n",
       "<style scoped>\n",
       "    .dataframe tbody tr th:only-of-type {\n",
       "        vertical-align: middle;\n",
       "    }\n",
       "\n",
       "    .dataframe tbody tr th {\n",
       "        vertical-align: top;\n",
       "    }\n",
       "\n",
       "    .dataframe thead th {\n",
       "        text-align: right;\n",
       "    }\n",
       "</style>\n",
       "<table border=\"1\" class=\"dataframe\">\n",
       "  <thead>\n",
       "    <tr style=\"text-align: right;\">\n",
       "      <th></th>\n",
       "      <th>Age</th>\n",
       "      <th>Fare</th>\n",
       "      <th>Survived</th>\n",
       "      <th>Miss</th>\n",
       "      <th>Mr</th>\n",
       "      <th>Mrs</th>\n",
       "      <th>female</th>\n",
       "      <th>male</th>\n",
       "      <th>C</th>\n",
       "      <th>Q</th>\n",
       "      <th>S</th>\n",
       "      <th>pclass_1</th>\n",
       "      <th>pclass_2</th>\n",
       "      <th>pclass_3</th>\n",
       "      <th>family</th>\n",
       "    </tr>\n",
       "    <tr>\n",
       "      <th>PassengerId</th>\n",
       "      <th></th>\n",
       "      <th></th>\n",
       "      <th></th>\n",
       "      <th></th>\n",
       "      <th></th>\n",
       "      <th></th>\n",
       "      <th></th>\n",
       "      <th></th>\n",
       "      <th></th>\n",
       "      <th></th>\n",
       "      <th></th>\n",
       "      <th></th>\n",
       "      <th></th>\n",
       "      <th></th>\n",
       "      <th></th>\n",
       "    </tr>\n",
       "  </thead>\n",
       "  <tbody>\n",
       "    <tr>\n",
       "      <th>1</th>\n",
       "      <td>22.0</td>\n",
       "      <td>7.2500</td>\n",
       "      <td>0.0</td>\n",
       "      <td>0</td>\n",
       "      <td>1</td>\n",
       "      <td>0</td>\n",
       "      <td>False</td>\n",
       "      <td>True</td>\n",
       "      <td>False</td>\n",
       "      <td>False</td>\n",
       "      <td>True</td>\n",
       "      <td>False</td>\n",
       "      <td>False</td>\n",
       "      <td>True</td>\n",
       "      <td>1</td>\n",
       "    </tr>\n",
       "    <tr>\n",
       "      <th>2</th>\n",
       "      <td>38.0</td>\n",
       "      <td>71.2833</td>\n",
       "      <td>1.0</td>\n",
       "      <td>0</td>\n",
       "      <td>0</td>\n",
       "      <td>1</td>\n",
       "      <td>True</td>\n",
       "      <td>False</td>\n",
       "      <td>True</td>\n",
       "      <td>False</td>\n",
       "      <td>False</td>\n",
       "      <td>True</td>\n",
       "      <td>False</td>\n",
       "      <td>False</td>\n",
       "      <td>1</td>\n",
       "    </tr>\n",
       "    <tr>\n",
       "      <th>3</th>\n",
       "      <td>26.0</td>\n",
       "      <td>7.9250</td>\n",
       "      <td>1.0</td>\n",
       "      <td>1</td>\n",
       "      <td>0</td>\n",
       "      <td>0</td>\n",
       "      <td>True</td>\n",
       "      <td>False</td>\n",
       "      <td>False</td>\n",
       "      <td>False</td>\n",
       "      <td>True</td>\n",
       "      <td>False</td>\n",
       "      <td>False</td>\n",
       "      <td>True</td>\n",
       "      <td>0</td>\n",
       "    </tr>\n",
       "    <tr>\n",
       "      <th>4</th>\n",
       "      <td>35.0</td>\n",
       "      <td>53.1000</td>\n",
       "      <td>1.0</td>\n",
       "      <td>0</td>\n",
       "      <td>0</td>\n",
       "      <td>1</td>\n",
       "      <td>True</td>\n",
       "      <td>False</td>\n",
       "      <td>False</td>\n",
       "      <td>False</td>\n",
       "      <td>True</td>\n",
       "      <td>True</td>\n",
       "      <td>False</td>\n",
       "      <td>False</td>\n",
       "      <td>1</td>\n",
       "    </tr>\n",
       "    <tr>\n",
       "      <th>5</th>\n",
       "      <td>35.0</td>\n",
       "      <td>8.0500</td>\n",
       "      <td>0.0</td>\n",
       "      <td>0</td>\n",
       "      <td>1</td>\n",
       "      <td>0</td>\n",
       "      <td>False</td>\n",
       "      <td>True</td>\n",
       "      <td>False</td>\n",
       "      <td>False</td>\n",
       "      <td>True</td>\n",
       "      <td>False</td>\n",
       "      <td>False</td>\n",
       "      <td>True</td>\n",
       "      <td>0</td>\n",
       "    </tr>\n",
       "  </tbody>\n",
       "</table>\n",
       "</div>"
      ],
      "text/plain": [
       "              Age     Fare  Survived  Miss  Mr  Mrs  female   male      C  \\\n",
       "PassengerId                                                                 \n",
       "1            22.0   7.2500       0.0     0   1    0   False   True  False   \n",
       "2            38.0  71.2833       1.0     0   0    1    True  False   True   \n",
       "3            26.0   7.9250       1.0     1   0    0    True  False  False   \n",
       "4            35.0  53.1000       1.0     0   0    1    True  False  False   \n",
       "5            35.0   8.0500       0.0     0   1    0   False   True  False   \n",
       "\n",
       "                 Q      S  pclass_1  pclass_2  pclass_3  family  \n",
       "PassengerId                                                      \n",
       "1            False   True     False     False      True       1  \n",
       "2            False  False      True     False     False       1  \n",
       "3            False   True     False     False      True       0  \n",
       "4            False   True      True     False     False       1  \n",
       "5            False   True     False     False      True       0  "
      ]
     },
     "execution_count": 22,
     "metadata": {},
     "output_type": "execute_result"
    }
   ],
   "source": [
    "merged_df['family'] = merged_df['Parch'] + merged_df['SibSp']\n",
    "merged_df = merged_df.drop(columns=['Parch', 'SibSp'])\n",
    "merged_df['family'] = merged_df['family'].astype(int)\n",
    "merged_df.head()"
   ]
  },
  {
   "cell_type": "code",
   "execution_count": 23,
   "metadata": {},
   "outputs": [],
   "source": [
    "new_train_df = merged_df[pd.notnull(merged_df['Survived'])]"
   ]
  },
  {
   "cell_type": "code",
   "execution_count": 24,
   "metadata": {},
   "outputs": [
    {
     "data": {
      "text/plain": [
       "<matplotlib.axes._subplots.AxesSubplot at 0x7f466f88c3c8>"
      ]
     },
     "execution_count": 24,
     "metadata": {},
     "output_type": "execute_result"
    },
    {
     "data": {
      "image/png": "[encoded data removed]",
      "text/plain": [
       "<Figure size 1008x1008 with 2 Axes>"
      ]
     },
     "metadata": {},
     "output_type": "display_data"
    }
   ],
   "source": [
    "plt.figure(figsize=(14, 14))\n",
    "sns.heatmap(merged_df.astype(float).corr(), cmap = 'BrBG',\n",
    "            linewidths=0.1, square=True, linecolor='white',\n",
    "            annot=True)"
   ]
  },
  {
   "cell_type": "markdown",
   "metadata": {},
   "source": [
    "# Final"
   ]
  },
  {
   "cell_type": "code",
   "execution_count": 25,
   "metadata": {},
   "outputs": [],
   "source": [
    "new_train_df = merged_df[merged_df['Survived'].notnull()]\n",
    "new_test_df = merged_df[merged_df['Survived'].isnull()]"
   ]
  },
  {
   "cell_type": "code",
   "execution_count": 26,
   "metadata": {},
   "outputs": [],
   "source": [
    "from sklearn.tree import DecisionTreeClassifier\n",
    "from sklearn.model_selection import cross_val_score"
   ]
  },
  {
   "cell_type": "code",
   "execution_count": 27,
   "metadata": {},
   "outputs": [
    {
     "data": {
      "text/plain": [
       "array([0.8       , 0.83333333, 0.78651685, 0.85393258, 0.84269663,\n",
       "       0.7752809 , 0.79775281, 0.78651685, 0.84269663, 0.80681818])"
      ]
     },
     "execution_count": 27,
     "metadata": {},
     "output_type": "execute_result"
    }
   ],
   "source": [
    "clf = DecisionTreeClassifier(max_depth=3)\n",
    "scores = cross_val_score(clf,\n",
    "                        new_train_df.drop(['Survived'], axis=1), \n",
    "                        new_train_df['Survived'],\n",
    "                        cv=10)\n",
    "scores"
   ]
  },
  {
   "cell_type": "code",
   "execution_count": 28,
   "metadata": {},
   "outputs": [
    {
     "data": {
      "text/plain": [
       "0.8125544773578481"
      ]
     },
     "execution_count": 28,
     "metadata": {},
     "output_type": "execute_result"
    }
   ],
   "source": [
    "scores.mean()"
   ]
  },
  {
   "cell_type": "code",
   "execution_count": 29,
   "metadata": {},
   "outputs": [
    {
     "data": {
      "text/plain": [
       "DecisionTreeClassifier(class_weight=None, criterion='gini', max_depth=3,\n",
       "            max_features=None, max_leaf_nodes=None,\n",
       "            min_impurity_decrease=0.0, min_impurity_split=None,\n",
       "            min_samples_leaf=1, min_samples_split=2,\n",
       "            min_weight_fraction_leaf=0.0, presort=False, random_state=None,\n",
       "            splitter='best')"
      ]
     },
     "execution_count": 29,
     "metadata": {},
     "output_type": "execute_result"
    }
   ],
   "source": [
    "clf.fit(new_train_df.drop(['Survived'], axis=1), new_train_df['Survived'])"
   ]
  },
  {
   "cell_type": "code",
   "execution_count": 30,
   "metadata": {},
   "outputs": [],
   "source": [
    "from sklearn.tree import export_graphviz\n",
    "import graphviz\n",
    "g = export_graphviz(clf,out_file=None,\n",
    "                    feature_names=new_train_df.drop(['Survived'], axis=1).columns,\n",
    "                    class_names=[\"No\", \"Yes\"],\n",
    "                    filled=True, \n",
    "                    rounded=True,\n",
    "                    special_characters=True)"
   ]
  },
  {
   "cell_type": "code",
   "execution_count": 31,
   "metadata": {},
   "outputs": [
    {
     "data": {
      "image/svg+xml": [
       "<?xml version=\"1.0\" encoding=\"UTF-8\" standalone=\"no\"?>\n",
       "<!DOCTYPE svg PUBLIC \"-//W3C//DTD SVG 1.1//EN\"\n",
       " \"http://www.w3.org/Graphics/SVG/1.1/DTD/svg11.dtd\">\n",
       "<!-- Generated by graphviz version 2.38.0 (20140413.2041)\n",
       " -->\n",
       "<!-- Title: Tree Pages: 1 -->\n",
       "<svg width=\"1139pt\" height=\"433pt\"\n",
       " viewBox=\"0.00 0.00 1139.00 433.00\" xmlns=\"http://www.w3.org/2000/svg\" xmlns:xlink=\"http://www.w3.org/1999/xlink\">\n",
       "<g id=\"graph0\" class=\"graph\" transform=\"scale(1 1) rotate(0) translate(4 429)\">\n",
       "<title>Tree</title>\n",
       "<polygon fill=\"white\" stroke=\"none\" points=\"-4,4 -4,-429 1135,-429 1135,4 -4,4\"/>\n",
       "<!-- 0 -->\n",
       "<g id=\"node1\" class=\"node\"><title>0</title>\n",
       "<path fill=\"#e58139\" fill-opacity=\"0.376471\" stroke=\"black\" d=\"M611,-425C611,-425 486,-425 486,-425 480,-425 474,-419 474,-413 474,-413 474,-354 474,-354 474,-348 480,-342 486,-342 486,-342 611,-342 611,-342 617,-342 623,-348 623,-354 623,-354 623,-413 623,-413 623,-419 617,-425 611,-425\"/>\n",
       "<text text-anchor=\"start\" x=\"510\" y=\"-409.8\" font-family=\"Helvetica,sans-Serif\" font-size=\"14.00\">male ≤ 0.5</text>\n",
       "<text text-anchor=\"start\" x=\"505\" y=\"-394.8\" font-family=\"Helvetica,sans-Serif\" font-size=\"14.00\">gini = 0.473</text>\n",
       "<text text-anchor=\"start\" x=\"497\" y=\"-379.8\" font-family=\"Helvetica,sans-Serif\" font-size=\"14.00\">samples = 891</text>\n",
       "<text text-anchor=\"start\" x=\"482\" y=\"-364.8\" font-family=\"Helvetica,sans-Serif\" font-size=\"14.00\">value = [549, 342]</text>\n",
       "<text text-anchor=\"start\" x=\"512\" y=\"-349.8\" font-family=\"Helvetica,sans-Serif\" font-size=\"14.00\">class = No</text>\n",
       "</g>\n",
       "<!-- 1 -->\n",
       "<g id=\"node2\" class=\"node\"><title>1</title>\n",
       "<path fill=\"#399de5\" fill-opacity=\"0.650980\" stroke=\"black\" d=\"M464.5,-306C464.5,-306 348.5,-306 348.5,-306 342.5,-306 336.5,-300 336.5,-294 336.5,-294 336.5,-235 336.5,-235 336.5,-229 342.5,-223 348.5,-223 348.5,-223 464.5,-223 464.5,-223 470.5,-223 476.5,-229 476.5,-235 476.5,-235 476.5,-294 476.5,-294 476.5,-300 470.5,-306 464.5,-306\"/>\n",
       "<text text-anchor=\"start\" x=\"356\" y=\"-290.8\" font-family=\"Helvetica,sans-Serif\" font-size=\"14.00\">pclass_3 ≤ 0.5</text>\n",
       "<text text-anchor=\"start\" x=\"363\" y=\"-275.8\" font-family=\"Helvetica,sans-Serif\" font-size=\"14.00\">gini = 0.383</text>\n",
       "<text text-anchor=\"start\" x=\"355\" y=\"-260.8\" font-family=\"Helvetica,sans-Serif\" font-size=\"14.00\">samples = 314</text>\n",
       "<text text-anchor=\"start\" x=\"344.5\" y=\"-245.8\" font-family=\"Helvetica,sans-Serif\" font-size=\"14.00\">value = [81, 233]</text>\n",
       "<text text-anchor=\"start\" x=\"368.5\" y=\"-230.8\" font-family=\"Helvetica,sans-Serif\" font-size=\"14.00\">class = Yes</text>\n",
       "</g>\n",
       "<!-- 0&#45;&gt;1 -->\n",
       "<g id=\"edge1\" class=\"edge\"><title>0&#45;&gt;1</title>\n",
       "<path fill=\"none\" stroke=\"black\" d=\"M499.234,-341.907C487.779,-332.469 475.489,-322.343 463.724,-312.649\"/>\n",
       "<polygon fill=\"black\" stroke=\"black\" points=\"465.623,-309.679 455.679,-306.021 461.171,-315.081 465.623,-309.679\"/>\n",
       "<text text-anchor=\"middle\" x=\"458.081\" y=\"-327.205\" font-family=\"Helvetica,sans-Serif\" font-size=\"14.00\">True</text>\n",
       "</g>\n",
       "<!-- 8 -->\n",
       "<g id=\"node9\" class=\"node\"><title>8</title>\n",
       "<path fill=\"#e58139\" fill-opacity=\"0.768627\" stroke=\"black\" d=\"M759,-306C759,-306 634,-306 634,-306 628,-306 622,-300 622,-294 622,-294 622,-235 622,-235 622,-229 628,-223 634,-223 634,-223 759,-223 759,-223 765,-223 771,-229 771,-235 771,-235 771,-294 771,-294 771,-300 765,-306 759,-306\"/>\n",
       "<text text-anchor=\"start\" x=\"661.5\" y=\"-290.8\" font-family=\"Helvetica,sans-Serif\" font-size=\"14.00\">Age ≤ 6.5</text>\n",
       "<text text-anchor=\"start\" x=\"653\" y=\"-275.8\" font-family=\"Helvetica,sans-Serif\" font-size=\"14.00\">gini = 0.306</text>\n",
       "<text text-anchor=\"start\" x=\"645\" y=\"-260.8\" font-family=\"Helvetica,sans-Serif\" font-size=\"14.00\">samples = 577</text>\n",
       "<text text-anchor=\"start\" x=\"630\" y=\"-245.8\" font-family=\"Helvetica,sans-Serif\" font-size=\"14.00\">value = [468, 109]</text>\n",
       "<text text-anchor=\"start\" x=\"660\" y=\"-230.8\" font-family=\"Helvetica,sans-Serif\" font-size=\"14.00\">class = No</text>\n",
       "</g>\n",
       "<!-- 0&#45;&gt;8 -->\n",
       "<g id=\"edge8\" class=\"edge\"><title>0&#45;&gt;8</title>\n",
       "<path fill=\"none\" stroke=\"black\" d=\"M599.848,-341.907C611.901,-332.379 624.842,-322.148 637.212,-312.37\"/>\n",
       "<polygon fill=\"black\" stroke=\"black\" points=\"639.569,-314.968 645.243,-306.021 635.228,-309.477 639.569,-314.968\"/>\n",
       "<text text-anchor=\"middle\" x=\"642.338\" y=\"-327.151\" font-family=\"Helvetica,sans-Serif\" font-size=\"14.00\">False</text>\n",
       "</g>\n",
       "<!-- 2 -->\n",
       "<g id=\"node3\" class=\"node\"><title>2</title>\n",
       "<path fill=\"#399de5\" fill-opacity=\"0.945098\" stroke=\"black\" d=\"M250,-187C250,-187 143,-187 143,-187 137,-187 131,-181 131,-175 131,-175 131,-116 131,-116 131,-110 137,-104 143,-104 143,-104 250,-104 250,-104 256,-104 262,-110 262,-116 262,-116 262,-175 262,-175 262,-181 256,-187 250,-187\"/>\n",
       "<text text-anchor=\"start\" x=\"161.5\" y=\"-171.8\" font-family=\"Helvetica,sans-Serif\" font-size=\"14.00\">Age ≤ 2.5</text>\n",
       "<text text-anchor=\"start\" x=\"162\" y=\"-156.8\" font-family=\"Helvetica,sans-Serif\" font-size=\"14.00\">gini = 0.1</text>\n",
       "<text text-anchor=\"start\" x=\"145\" y=\"-141.8\" font-family=\"Helvetica,sans-Serif\" font-size=\"14.00\">samples = 170</text>\n",
       "<text text-anchor=\"start\" x=\"139\" y=\"-126.8\" font-family=\"Helvetica,sans-Serif\" font-size=\"14.00\">value = [9, 161]</text>\n",
       "<text text-anchor=\"start\" x=\"158.5\" y=\"-111.8\" font-family=\"Helvetica,sans-Serif\" font-size=\"14.00\">class = Yes</text>\n",
       "</g>\n",
       "<!-- 1&#45;&gt;2 -->\n",
       "<g id=\"edge2\" class=\"edge\"><title>1&#45;&gt;2</title>\n",
       "<path fill=\"none\" stroke=\"black\" d=\"M336.281,-224.378C315.311,-212.694 292.253,-199.848 271.018,-188.017\"/>\n",
       "<polygon fill=\"black\" stroke=\"black\" points=\"272.479,-184.824 262.039,-183.015 269.072,-190.939 272.479,-184.824\"/>\n",
       "</g>\n",
       "<!-- 5 -->\n",
       "<g id=\"node6\" class=\"node\"><title>5</title>\n",
       "<path fill=\"none\" stroke=\"black\" d=\"M460,-187C460,-187 353,-187 353,-187 347,-187 341,-181 341,-175 341,-175 341,-116 341,-116 341,-110 347,-104 353,-104 353,-104 460,-104 460,-104 466,-104 472,-110 472,-116 472,-116 472,-175 472,-175 472,-181 466,-187 460,-187\"/>\n",
       "<text text-anchor=\"start\" x=\"364\" y=\"-171.8\" font-family=\"Helvetica,sans-Serif\" font-size=\"14.00\">family ≤ 3.5</text>\n",
       "<text text-anchor=\"start\" x=\"372\" y=\"-156.8\" font-family=\"Helvetica,sans-Serif\" font-size=\"14.00\">gini = 0.5</text>\n",
       "<text text-anchor=\"start\" x=\"355\" y=\"-141.8\" font-family=\"Helvetica,sans-Serif\" font-size=\"14.00\">samples = 144</text>\n",
       "<text text-anchor=\"start\" x=\"349\" y=\"-126.8\" font-family=\"Helvetica,sans-Serif\" font-size=\"14.00\">value = [72, 72]</text>\n",
       "<text text-anchor=\"start\" x=\"370\" y=\"-111.8\" font-family=\"Helvetica,sans-Serif\" font-size=\"14.00\">class = No</text>\n",
       "</g>\n",
       "<!-- 1&#45;&gt;5 -->\n",
       "<g id=\"edge5\" class=\"edge\"><title>1&#45;&gt;5</title>\n",
       "<path fill=\"none\" stroke=\"black\" d=\"M406.5,-222.907C406.5,-214.649 406.5,-205.864 406.5,-197.302\"/>\n",
       "<polygon fill=\"black\" stroke=\"black\" points=\"410,-197.021 406.5,-187.021 403,-197.021 410,-197.021\"/>\n",
       "</g>\n",
       "<!-- 3 -->\n",
       "<g id=\"node4\" class=\"node\"><title>3</title>\n",
       "<path fill=\"none\" stroke=\"black\" d=\"M101,-68C101,-68 12,-68 12,-68 6,-68 0,-62 0,-56 0,-56 0,-12 0,-12 0,-6 6,-0 12,-0 12,-0 101,-0 101,-0 107,-0 113,-6 113,-12 113,-12 113,-56 113,-56 113,-62 107,-68 101,-68\"/>\n",
       "<text text-anchor=\"start\" x=\"22\" y=\"-52.8\" font-family=\"Helvetica,sans-Serif\" font-size=\"14.00\">gini = 0.5</text>\n",
       "<text text-anchor=\"start\" x=\"14\" y=\"-37.8\" font-family=\"Helvetica,sans-Serif\" font-size=\"14.00\">samples = 2</text>\n",
       "<text text-anchor=\"start\" x=\"8\" y=\"-22.8\" font-family=\"Helvetica,sans-Serif\" font-size=\"14.00\">value = [1, 1]</text>\n",
       "<text text-anchor=\"start\" x=\"20\" y=\"-7.8\" font-family=\"Helvetica,sans-Serif\" font-size=\"14.00\">class = No</text>\n",
       "</g>\n",
       "<!-- 2&#45;&gt;3 -->\n",
       "<g id=\"edge3\" class=\"edge\"><title>2&#45;&gt;3</title>\n",
       "<path fill=\"none\" stroke=\"black\" d=\"M144.369,-103.726C132.241,-94.2406 119.347,-84.1551 107.278,-74.7159\"/>\n",
       "<polygon fill=\"black\" stroke=\"black\" points=\"109.108,-71.7035 99.0748,-68.2996 104.795,-77.2173 109.108,-71.7035\"/>\n",
       "</g>\n",
       "<!-- 4 -->\n",
       "<g id=\"node5\" class=\"node\"><title>4</title>\n",
       "<path fill=\"#399de5\" fill-opacity=\"0.949020\" stroke=\"black\" d=\"M250,-68C250,-68 143,-68 143,-68 137,-68 131,-62 131,-56 131,-56 131,-12 131,-12 131,-6 137,-0 143,-0 143,-0 250,-0 250,-0 256,-0 262,-6 262,-12 262,-12 262,-56 262,-56 262,-62 256,-68 250,-68\"/>\n",
       "<text text-anchor=\"start\" x=\"153\" y=\"-52.8\" font-family=\"Helvetica,sans-Serif\" font-size=\"14.00\">gini = 0.091</text>\n",
       "<text text-anchor=\"start\" x=\"145\" y=\"-37.8\" font-family=\"Helvetica,sans-Serif\" font-size=\"14.00\">samples = 168</text>\n",
       "<text text-anchor=\"start\" x=\"139\" y=\"-22.8\" font-family=\"Helvetica,sans-Serif\" font-size=\"14.00\">value = [8, 160]</text>\n",
       "<text text-anchor=\"start\" x=\"158.5\" y=\"-7.8\" font-family=\"Helvetica,sans-Serif\" font-size=\"14.00\">class = Yes</text>\n",
       "</g>\n",
       "<!-- 2&#45;&gt;4 -->\n",
       "<g id=\"edge4\" class=\"edge\"><title>2&#45;&gt;4</title>\n",
       "<path fill=\"none\" stroke=\"black\" d=\"M196.5,-103.726C196.5,-95.5175 196.5,-86.8595 196.5,-78.56\"/>\n",
       "<polygon fill=\"black\" stroke=\"black\" points=\"200,-78.2996 196.5,-68.2996 193,-78.2996 200,-78.2996\"/>\n",
       "</g>\n",
       "<!-- 6 -->\n",
       "<g id=\"node7\" class=\"node\"><title>6</title>\n",
       "<path fill=\"#399de5\" fill-opacity=\"0.305882\" stroke=\"black\" d=\"M399,-68C399,-68 292,-68 292,-68 286,-68 280,-62 280,-56 280,-56 280,-12 280,-12 280,-6 286,-0 292,-0 292,-0 399,-0 399,-0 405,-0 411,-6 411,-12 411,-12 411,-56 411,-56 411,-62 405,-68 399,-68\"/>\n",
       "<text text-anchor=\"start\" x=\"302\" y=\"-52.8\" font-family=\"Helvetica,sans-Serif\" font-size=\"14.00\">gini = 0.484</text>\n",
       "<text text-anchor=\"start\" x=\"294\" y=\"-37.8\" font-family=\"Helvetica,sans-Serif\" font-size=\"14.00\">samples = 117</text>\n",
       "<text text-anchor=\"start\" x=\"288\" y=\"-22.8\" font-family=\"Helvetica,sans-Serif\" font-size=\"14.00\">value = [48, 69]</text>\n",
       "<text text-anchor=\"start\" x=\"307.5\" y=\"-7.8\" font-family=\"Helvetica,sans-Serif\" font-size=\"14.00\">class = Yes</text>\n",
       "</g>\n",
       "<!-- 5&#45;&gt;6 -->\n",
       "<g id=\"edge6\" class=\"edge\"><title>5&#45;&gt;6</title>\n",
       "<path fill=\"none\" stroke=\"black\" d=\"M383.786,-103.726C378.959,-95.0615 373.853,-85.8962 368.998,-77.1802\"/>\n",
       "<polygon fill=\"black\" stroke=\"black\" points=\"371.975,-75.3322 364.05,-68.2996 365.86,-78.7389 371.975,-75.3322\"/>\n",
       "</g>\n",
       "<!-- 7 -->\n",
       "<g id=\"node8\" class=\"node\"><title>7</title>\n",
       "<path fill=\"#e58139\" fill-opacity=\"0.874510\" stroke=\"black\" d=\"M539.5,-68C539.5,-68 441.5,-68 441.5,-68 435.5,-68 429.5,-62 429.5,-56 429.5,-56 429.5,-12 429.5,-12 429.5,-6 435.5,-0 441.5,-0 441.5,-0 539.5,-0 539.5,-0 545.5,-0 551.5,-6 551.5,-12 551.5,-12 551.5,-56 551.5,-56 551.5,-62 545.5,-68 539.5,-68\"/>\n",
       "<text text-anchor=\"start\" x=\"447\" y=\"-52.8\" font-family=\"Helvetica,sans-Serif\" font-size=\"14.00\">gini = 0.198</text>\n",
       "<text text-anchor=\"start\" x=\"443.5\" y=\"-37.8\" font-family=\"Helvetica,sans-Serif\" font-size=\"14.00\">samples = 27</text>\n",
       "<text text-anchor=\"start\" x=\"437.5\" y=\"-22.8\" font-family=\"Helvetica,sans-Serif\" font-size=\"14.00\">value = [24, 3]</text>\n",
       "<text text-anchor=\"start\" x=\"454\" y=\"-7.8\" font-family=\"Helvetica,sans-Serif\" font-size=\"14.00\">class = No</text>\n",
       "</g>\n",
       "<!-- 5&#45;&gt;7 -->\n",
       "<g id=\"edge7\" class=\"edge\"><title>5&#45;&gt;7</title>\n",
       "<path fill=\"none\" stroke=\"black\" d=\"M437.778,-103.726C444.635,-94.7878 451.901,-85.3168 458.775,-76.3558\"/>\n",
       "<polygon fill=\"black\" stroke=\"black\" points=\"461.645,-78.3643 464.955,-68.2996 456.091,-74.1036 461.645,-78.3643\"/>\n",
       "</g>\n",
       "<!-- 9 -->\n",
       "<g id=\"node10\" class=\"node\"><title>9</title>\n",
       "<path fill=\"#399de5\" fill-opacity=\"0.498039\" stroke=\"black\" d=\"M745.5,-187C745.5,-187 647.5,-187 647.5,-187 641.5,-187 635.5,-181 635.5,-175 635.5,-175 635.5,-116 635.5,-116 635.5,-110 641.5,-104 647.5,-104 647.5,-104 745.5,-104 745.5,-104 751.5,-104 757.5,-110 757.5,-116 757.5,-116 757.5,-175 757.5,-175 757.5,-181 751.5,-187 745.5,-187\"/>\n",
       "<text text-anchor=\"start\" x=\"654\" y=\"-171.8\" font-family=\"Helvetica,sans-Serif\" font-size=\"14.00\">family ≤ 3.5</text>\n",
       "<text text-anchor=\"start\" x=\"653\" y=\"-156.8\" font-family=\"Helvetica,sans-Serif\" font-size=\"14.00\">gini = 0.444</text>\n",
       "<text text-anchor=\"start\" x=\"649.5\" y=\"-141.8\" font-family=\"Helvetica,sans-Serif\" font-size=\"14.00\">samples = 24</text>\n",
       "<text text-anchor=\"start\" x=\"643.5\" y=\"-126.8\" font-family=\"Helvetica,sans-Serif\" font-size=\"14.00\">value = [8, 16]</text>\n",
       "<text text-anchor=\"start\" x=\"658.5\" y=\"-111.8\" font-family=\"Helvetica,sans-Serif\" font-size=\"14.00\">class = Yes</text>\n",
       "</g>\n",
       "<!-- 8&#45;&gt;9 -->\n",
       "<g id=\"edge9\" class=\"edge\"><title>8&#45;&gt;9</title>\n",
       "<path fill=\"none\" stroke=\"black\" d=\"M696.5,-222.907C696.5,-214.649 696.5,-205.864 696.5,-197.302\"/>\n",
       "<polygon fill=\"black\" stroke=\"black\" points=\"700,-197.021 696.5,-187.021 693,-197.021 700,-197.021\"/>\n",
       "</g>\n",
       "<!-- 12 -->\n",
       "<g id=\"node13\" class=\"node\"><title>12</title>\n",
       "<path fill=\"#e58139\" fill-opacity=\"0.796078\" stroke=\"black\" d=\"M969.5,-187C969.5,-187 853.5,-187 853.5,-187 847.5,-187 841.5,-181 841.5,-175 841.5,-175 841.5,-116 841.5,-116 841.5,-110 847.5,-104 853.5,-104 853.5,-104 969.5,-104 969.5,-104 975.5,-104 981.5,-110 981.5,-116 981.5,-116 981.5,-175 981.5,-175 981.5,-181 975.5,-187 969.5,-187\"/>\n",
       "<text text-anchor=\"start\" x=\"861\" y=\"-171.8\" font-family=\"Helvetica,sans-Serif\" font-size=\"14.00\">pclass_1 ≤ 0.5</text>\n",
       "<text text-anchor=\"start\" x=\"872.5\" y=\"-156.8\" font-family=\"Helvetica,sans-Serif\" font-size=\"14.00\">gini = 0.28</text>\n",
       "<text text-anchor=\"start\" x=\"860\" y=\"-141.8\" font-family=\"Helvetica,sans-Serif\" font-size=\"14.00\">samples = 553</text>\n",
       "<text text-anchor=\"start\" x=\"849.5\" y=\"-126.8\" font-family=\"Helvetica,sans-Serif\" font-size=\"14.00\">value = [460, 93]</text>\n",
       "<text text-anchor=\"start\" x=\"875\" y=\"-111.8\" font-family=\"Helvetica,sans-Serif\" font-size=\"14.00\">class = No</text>\n",
       "</g>\n",
       "<!-- 8&#45;&gt;12 -->\n",
       "<g id=\"edge12\" class=\"edge\"><title>8&#45;&gt;12</title>\n",
       "<path fill=\"none\" stroke=\"black\" d=\"M771.093,-222.907C790.955,-212.099 812.476,-200.388 832.562,-189.457\"/>\n",
       "<polygon fill=\"black\" stroke=\"black\" points=\"834.265,-192.515 841.375,-184.661 830.919,-186.367 834.265,-192.515\"/>\n",
       "</g>\n",
       "<!-- 10 -->\n",
       "<g id=\"node11\" class=\"node\"><title>10</title>\n",
       "<path fill=\"#399de5\" stroke=\"black\" d=\"M679.5,-68C679.5,-68 581.5,-68 581.5,-68 575.5,-68 569.5,-62 569.5,-56 569.5,-56 569.5,-12 569.5,-12 569.5,-6 575.5,-0 581.5,-0 581.5,-0 679.5,-0 679.5,-0 685.5,-0 691.5,-6 691.5,-12 691.5,-12 691.5,-56 691.5,-56 691.5,-62 685.5,-68 679.5,-68\"/>\n",
       "<text text-anchor=\"start\" x=\"596\" y=\"-52.8\" font-family=\"Helvetica,sans-Serif\" font-size=\"14.00\">gini = 0.0</text>\n",
       "<text text-anchor=\"start\" x=\"583.5\" y=\"-37.8\" font-family=\"Helvetica,sans-Serif\" font-size=\"14.00\">samples = 15</text>\n",
       "<text text-anchor=\"start\" x=\"577.5\" y=\"-22.8\" font-family=\"Helvetica,sans-Serif\" font-size=\"14.00\">value = [0, 15]</text>\n",
       "<text text-anchor=\"start\" x=\"592.5\" y=\"-7.8\" font-family=\"Helvetica,sans-Serif\" font-size=\"14.00\">class = Yes</text>\n",
       "</g>\n",
       "<!-- 9&#45;&gt;10 -->\n",
       "<g id=\"edge10\" class=\"edge\"><title>9&#45;&gt;10</title>\n",
       "<path fill=\"none\" stroke=\"black\" d=\"M671.924,-103.726C666.646,-94.9703 661.061,-85.7032 655.758,-76.9051\"/>\n",
       "<polygon fill=\"black\" stroke=\"black\" points=\"658.731,-75.0574 650.571,-68.2996 652.736,-78.671 658.731,-75.0574\"/>\n",
       "</g>\n",
       "<!-- 11 -->\n",
       "<g id=\"node12\" class=\"node\"><title>11</title>\n",
       "<path fill=\"#e58139\" fill-opacity=\"0.874510\" stroke=\"black\" d=\"M811,-68C811,-68 722,-68 722,-68 716,-68 710,-62 710,-56 710,-56 710,-12 710,-12 710,-6 716,-0 722,-0 722,-0 811,-0 811,-0 817,-0 823,-6 823,-12 823,-12 823,-56 823,-56 823,-62 817,-68 811,-68\"/>\n",
       "<text text-anchor=\"start\" x=\"723\" y=\"-52.8\" font-family=\"Helvetica,sans-Serif\" font-size=\"14.00\">gini = 0.198</text>\n",
       "<text text-anchor=\"start\" x=\"724\" y=\"-37.8\" font-family=\"Helvetica,sans-Serif\" font-size=\"14.00\">samples = 9</text>\n",
       "<text text-anchor=\"start\" x=\"718\" y=\"-22.8\" font-family=\"Helvetica,sans-Serif\" font-size=\"14.00\">value = [8, 1]</text>\n",
       "<text text-anchor=\"start\" x=\"730\" y=\"-7.8\" font-family=\"Helvetica,sans-Serif\" font-size=\"14.00\">class = No</text>\n",
       "</g>\n",
       "<!-- 9&#45;&gt;11 -->\n",
       "<g id=\"edge11\" class=\"edge\"><title>9&#45;&gt;11</title>\n",
       "<path fill=\"none\" stroke=\"black\" d=\"M722.565,-103.726C728.163,-94.9703 734.087,-85.7032 739.711,-76.9051\"/>\n",
       "<polygon fill=\"black\" stroke=\"black\" points=\"742.775,-78.6103 745.213,-68.2996 736.877,-74.8399 742.775,-78.6103\"/>\n",
       "</g>\n",
       "<!-- 13 -->\n",
       "<g id=\"node14\" class=\"node\"><title>13</title>\n",
       "<path fill=\"#e58139\" fill-opacity=\"0.870588\" stroke=\"black\" d=\"M969.5,-68C969.5,-68 853.5,-68 853.5,-68 847.5,-68 841.5,-62 841.5,-56 841.5,-56 841.5,-12 841.5,-12 841.5,-6 847.5,-0 853.5,-0 853.5,-0 969.5,-0 969.5,-0 975.5,-0 981.5,-6 981.5,-12 981.5,-12 981.5,-56 981.5,-56 981.5,-62 975.5,-68 969.5,-68\"/>\n",
       "<text text-anchor=\"start\" x=\"868\" y=\"-52.8\" font-family=\"Helvetica,sans-Serif\" font-size=\"14.00\">gini = 0.204</text>\n",
       "<text text-anchor=\"start\" x=\"860\" y=\"-37.8\" font-family=\"Helvetica,sans-Serif\" font-size=\"14.00\">samples = 433</text>\n",
       "<text text-anchor=\"start\" x=\"849.5\" y=\"-22.8\" font-family=\"Helvetica,sans-Serif\" font-size=\"14.00\">value = [383, 50]</text>\n",
       "<text text-anchor=\"start\" x=\"875\" y=\"-7.8\" font-family=\"Helvetica,sans-Serif\" font-size=\"14.00\">class = No</text>\n",
       "</g>\n",
       "<!-- 12&#45;&gt;13 -->\n",
       "<g id=\"edge13\" class=\"edge\"><title>12&#45;&gt;13</title>\n",
       "<path fill=\"none\" stroke=\"black\" d=\"M911.5,-103.726C911.5,-95.5175 911.5,-86.8595 911.5,-78.56\"/>\n",
       "<polygon fill=\"black\" stroke=\"black\" points=\"915,-78.2996 911.5,-68.2996 908,-78.2996 915,-78.2996\"/>\n",
       "</g>\n",
       "<!-- 14 -->\n",
       "<g id=\"node15\" class=\"node\"><title>14</title>\n",
       "<path fill=\"#e58139\" fill-opacity=\"0.443137\" stroke=\"black\" d=\"M1119,-68C1119,-68 1012,-68 1012,-68 1006,-68 1000,-62 1000,-56 1000,-56 1000,-12 1000,-12 1000,-6 1006,-0 1012,-0 1012,-0 1119,-0 1119,-0 1125,-0 1131,-6 1131,-12 1131,-12 1131,-56 1131,-56 1131,-62 1125,-68 1119,-68\"/>\n",
       "<text text-anchor=\"start\" x=\"1026.5\" y=\"-52.8\" font-family=\"Helvetica,sans-Serif\" font-size=\"14.00\">gini = 0.46</text>\n",
       "<text text-anchor=\"start\" x=\"1014\" y=\"-37.8\" font-family=\"Helvetica,sans-Serif\" font-size=\"14.00\">samples = 120</text>\n",
       "<text text-anchor=\"start\" x=\"1008\" y=\"-22.8\" font-family=\"Helvetica,sans-Serif\" font-size=\"14.00\">value = [77, 43]</text>\n",
       "<text text-anchor=\"start\" x=\"1029\" y=\"-7.8\" font-family=\"Helvetica,sans-Serif\" font-size=\"14.00\">class = No</text>\n",
       "</g>\n",
       "<!-- 12&#45;&gt;14 -->\n",
       "<g id=\"edge14\" class=\"edge\"><title>12&#45;&gt;14</title>\n",
       "<path fill=\"none\" stroke=\"black\" d=\"M968.844,-103.726C982.441,-94.0582 996.914,-83.767 1010.41,-74.172\"/>\n",
       "<polygon fill=\"black\" stroke=\"black\" points=\"1012.55,-76.9469 1018.67,-68.2996 1008.49,-71.242 1012.55,-76.9469\"/>\n",
       "</g>\n",
       "</g>\n",
       "</svg>\n"
      ],
      "text/plain": [
       "<graphviz.files.Source at 0x7f466d75d4a8>"
      ]
     },
     "execution_count": 31,
     "metadata": {},
     "output_type": "execute_result"
    }
   ],
   "source": [
    "graphviz.Source(g)"
   ]
  },
  {
   "cell_type": "code",
   "execution_count": 32,
   "metadata": {},
   "outputs": [
    {
     "name": "stdout",
     "output_type": "stream",
     "text": [
      "{'Age': 0.061866895093931874,\n",
      " 'C': 0.0,\n",
      " 'Fare': 0.0,\n",
      " 'Miss': 0.0,\n",
      " 'Mr': 0.0,\n",
      " 'Mrs': 0.0,\n",
      " 'Q': 0.0,\n",
      " 'S': 0.0,\n",
      " 'family': 0.09572803312062018,\n",
      " 'female': 0.0,\n",
      " 'male': 0.6288796382731139,\n",
      " 'pclass_1': 0.056019708433010074,\n",
      " 'pclass_2': 0.0,\n",
      " 'pclass_3': 0.1575057250793241}\n"
     ]
    }
   ],
   "source": [
    "pprint(dict(zip(new_train_df.drop(['Survived'], axis=1).columns.tolist(), clf.feature_importances_)))"
   ]
  },
  {
   "cell_type": "code",
   "execution_count": 33,
   "metadata": {},
   "outputs": [],
   "source": [
    "from sklearn.ensemble import RandomForestClassifier"
   ]
  },
  {
   "cell_type": "code",
   "execution_count": 34,
   "metadata": {},
   "outputs": [],
   "source": [
    "from sklearn.model_selection import cross_val_score"
   ]
  },
  {
   "cell_type": "code",
   "execution_count": 35,
   "metadata": {},
   "outputs": [],
   "source": [
    "x_train = new_train_df.drop(['Survived'], axis=1)\n",
    "x_test = new_train_df['Survived']"
   ]
  },
  {
   "cell_type": "code",
   "execution_count": 52,
   "metadata": {},
   "outputs": [],
   "source": [
    "scores = []\n",
    "for n_estimators in range(10, 110, 5):\n",
    "    clf = RandomForestClassifier(n_estimators=n_estimators)\n",
    "    clf = clf.fit(x_train, x_test)\n",
    "    score = clf.score(x_train, x_test)\n",
    "    scores.append(score)"
   ]
  },
  {
   "cell_type": "code",
   "execution_count": 54,
   "metadata": {},
   "outputs": [
    {
     "data": {
      "image/png": "[encoded data removed]",
      "text/plain": [
       "<Figure size 432x288 with 1 Axes>"
      ]
     },
     "metadata": {},
     "output_type": "display_data"
    }
   ],
   "source": [
    "plt.plot(range(10, 110, 5), scores)\n",
    "plt.xlabel('n_estimators')\n",
    "plt.ylabel('score')\n",
    "plt.show()"
   ]
  },
  {
   "cell_type": "code",
   "execution_count": 60,
   "metadata": {},
   "outputs": [
    {
     "name": "stdout",
     "output_type": "stream",
     "text": [
      "{10: 0.9629629629629629,\n",
      " 15: 0.9719416386083053,\n",
      " 20: 0.9764309764309764,\n",
      " 25: 0.9764309764309764,\n",
      " 30: 0.978675645342312,\n",
      " 35: 0.9753086419753086,\n",
      " 40: 0.9797979797979798,\n",
      " 45: 0.978675645342312,\n",
      " 50: 0.978675645342312,\n",
      " 55: 0.9797979797979798,\n",
      " 60: 0.9797979797979798,\n",
      " 65: 0.9797979797979798,\n",
      " 70: 0.978675645342312,\n",
      " 75: 0.9797979797979798,\n",
      " 80: 0.9797979797979798,\n",
      " 85: 0.9797979797979798,\n",
      " 90: 0.978675645342312,\n",
      " 95: 0.9797979797979798,\n",
      " 100: 0.9797979797979798,\n",
      " 105: 0.9797979797979798}\n"
     ]
    }
   ],
   "source": [
    "pprint(dict(zip(range(10, 110, 5), scores)))"
   ]
  },
  {
   "cell_type": "code",
   "execution_count": 84,
   "metadata": {},
   "outputs": [],
   "source": [
    "scores = []\n",
    "for n_estimators in range(25, 36):\n",
    "    clf = RandomForestClassifier(n_estimators=n_estimators)\n",
    "    clf = clf.fit(x_train, x_test)\n",
    "    score = clf.score(x_train, x_test)\n",
    "    scores.append(score)"
   ]
  },
  {
   "cell_type": "code",
   "execution_count": 85,
   "metadata": {},
   "outputs": [
    {
     "data": {
      "image/png": "[encoded data removed]",
      "text/plain": [
       "<Figure size 432x288 with 1 Axes>"
      ]
     },
     "metadata": {},
     "output_type": "display_data"
    }
   ],
   "source": [
    "plt.plot(range(25, 36), scores)\n",
    "plt.xlabel('n_estimators')\n",
    "plt.ylabel('score')\n",
    "plt.show()"
   ]
  },
  {
   "cell_type": "code",
   "execution_count": 86,
   "metadata": {},
   "outputs": [
    {
     "name": "stdout",
     "output_type": "stream",
     "text": [
      "{25: 0.978675645342312,\n",
      " 26: 0.9797979797979798,\n",
      " 27: 0.9753086419753086,\n",
      " 28: 0.9775533108866442,\n",
      " 29: 0.9753086419753086,\n",
      " 30: 0.9775533108866442,\n",
      " 31: 0.9775533108866442,\n",
      " 32: 0.978675645342312,\n",
      " 33: 0.978675645342312,\n",
      " 34: 0.9775533108866442,\n",
      " 35: 0.9764309764309764}\n"
     ]
    }
   ],
   "source": [
    "pprint(dict(zip(range(25, 36), scores)))"
   ]
  },
  {
   "cell_type": "code",
   "execution_count": 87,
   "metadata": {},
   "outputs": [],
   "source": [
    "scores = []\n",
    "for max_depth in range(3, 21):\n",
    "    clf = RandomForestClassifier(n_estimators=26, max_depth=max_depth)\n",
    "    clf = clf.fit(x_train, x_test)\n",
    "    score = clf.score(x_train, x_test)\n",
    "    scores.append(score)"
   ]
  },
  {
   "cell_type": "code",
   "execution_count": 88,
   "metadata": {},
   "outputs": [
    {
     "data": {
      "image/png": "[encoded data removed]",
      "text/plain": [
       "<Figure size 432x288 with 1 Axes>"
      ]
     },
     "metadata": {},
     "output_type": "display_data"
    }
   ],
   "source": [
    "plt.plot(range(3, 21), scores)\n",
    "plt.xlabel('max_depth')\n",
    "plt.ylabel('score')\n",
    "plt.show()"
   ]
  },
  {
   "cell_type": "code",
   "execution_count": 89,
   "metadata": {},
   "outputs": [
    {
     "name": "stdout",
     "output_type": "stream",
     "text": [
      "{3: 0.8125701459034792,\n",
      " 4: 0.8372615039281706,\n",
      " 5: 0.8395061728395061,\n",
      " 6: 0.8540965207631874,\n",
      " 7: 0.8888888888888888,\n",
      " 8: 0.9102132435465768,\n",
      " 9: 0.9292929292929293,\n",
      " 10: 0.9304152637485971,\n",
      " 11: 0.9427609427609428,\n",
      " 12: 0.9562289562289562,\n",
      " 13: 0.9663299663299664,\n",
      " 14: 0.9674523007856342,\n",
      " 15: 0.9753086419753086,\n",
      " 16: 0.9719416386083053,\n",
      " 17: 0.9764309764309764,\n",
      " 18: 0.9764309764309764,\n",
      " 19: 0.9741863075196409,\n",
      " 20: 0.9753086419753086}\n"
     ]
    }
   ],
   "source": [
    "pprint(dict(zip(range(3, 21), scores)))"
   ]
  },
  {
   "cell_type": "code",
   "execution_count": 79,
   "metadata": {},
   "outputs": [],
   "source": [
    "clf = RandomForestClassifier(n_estimators=26, max_depth=15)\n",
    "clf = clf.fit(x_train, x_test)"
   ]
  },
  {
   "cell_type": "code",
   "execution_count": 80,
   "metadata": {},
   "outputs": [],
   "source": [
    "predict_result = clf.predict(new_test_df.drop(['Survived'], axis=1))"
   ]
  },
  {
   "cell_type": "code",
   "execution_count": 81,
   "metadata": {},
   "outputs": [
    {
     "name": "stderr",
     "output_type": "stream",
     "text": [
      "/app/.venv/lib/python3.6/site-packages/ipykernel_launcher.py:1: SettingWithCopyWarning: \n",
      "A value is trying to be set on a copy of a slice from a DataFrame.\n",
      "Try using .loc[row_indexer,col_indexer] = value instead\n",
      "\n",
      "See the caveats in the documentation: http://pandas.pydata.org/pandas-docs/stable/indexing.html#indexing-view-versus-copy\n",
      "  \"\"\"Entry point for launching an IPython kernel.\n"
     ]
    }
   ],
   "source": [
    "new_test_df['Survived'] = predict_result"
   ]
  },
  {
   "cell_type": "code",
   "execution_count": 82,
   "metadata": {},
   "outputs": [],
   "source": [
    "survived = new_test_df.loc[:,['Survived']]\n",
    "survived['Survived'] = survived['Survived'].astype(int) \n",
    "#survived = new_test_df['Survived']"
   ]
  },
  {
   "cell_type": "code",
   "execution_count": 83,
   "metadata": {},
   "outputs": [],
   "source": [
    "survived.to_csv('submission.csv')"
   ]
  },
  {
   "cell_type": "code",
   "execution_count": null,
   "metadata": {},
   "outputs": [],
   "source": []
  }
 ],
 "metadata": {
  "kernelspec": {
   "display_name": "Python 3",
   "language": "python",
   "name": "python3"
  },
  "language_info": {
   "codemirror_mode": {
    "name": "ipython",
    "version": 3
   },
   "file_extension": ".py",
   "mimetype": "text/x-python",
   "name": "python",
   "nbconvert_exporter": "python",
   "pygments_lexer": "ipython3",
   "version": "3.6.5"
  }
 },
 "nbformat": 4,
 "nbformat_minor": 2
}
