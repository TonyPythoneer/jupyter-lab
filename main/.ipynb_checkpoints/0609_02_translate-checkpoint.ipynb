{
 "cells": [
  {
   "cell_type": "code",
   "execution_count": 3,
   "metadata": {},
   "outputs": [],
   "source": [
    "import os\n",
    "import jieba\n",
    "import pandas"
   ]
  },
  {
   "cell_type": "code",
   "execution_count": 13,
   "metadata": {},
   "outputs": [],
   "source": [
    "train_data_dirpath = 'nlp_news_datasets/chinese_news_trans'\n",
    "test_data_dirpath = 'nlp_news_datasets/chinese_news_test'"
   ]
  },
  {
   "cell_type": "code",
   "execution_count": 10,
   "metadata": {},
   "outputs": [],
   "source": [
    "def readfile_flow(target_dirpath):\n",
    "    rows = []\n",
    "    for dirpath, dirnames, filenames in os.walk(target_dirpath):\n",
    "        # print(dirpath, dirnames, filenames)\n",
    "        for filename in filenames:\n",
    "            if filename == '_DS_Store':\n",
    "                continue\n",
    "            category = dirpath.split('/')[-1]\n",
    "            fp = os.path.join(dirpath, filename)\n",
    "            with open(fp, 'r', encoding='utf-8') as f:\n",
    "                content = f.read()\n",
    "            content = ' '.join(jieba.cut(content))\n",
    "            content = content.replace('\\r', '').replace('\\n', '')\n",
    "            rows.append([category, result])\n",
    "    return pandas.DataFrame(rows, columns=['category', 'content'])"
   ]
  },
  {
   "cell_type": "code",
   "execution_count": 14,
   "metadata": {},
   "outputs": [],
   "source": [
    "train_df = readfile_flow(train_data_dirpath)"
   ]
  },
  {
   "cell_type": "code",
   "execution_count": 21,
   "metadata": {},
   "outputs": [
    {
     "data": {
      "text/plain": [
       "{'交通': 0,\n",
       " '政治': 1,\n",
       " '教育': 2,\n",
       " '環境': 3,\n",
       " '經濟': 4,\n",
       " '藝術': 5,\n",
       " '計算機': 6,\n",
       " '軍事': 7,\n",
       " '醫藥': 8,\n",
       " '體育': 9}"
      ]
     },
     "execution_count": 21,
     "metadata": {},
     "output_type": "execute_result"
    }
   ],
   "source": [
    "category_list = train_df['category'].astype('category').cat.categories.tolist()\n",
    "category_map = {data: i for i, data in enumerate(category_list)}\n",
    "print(category_map)"
   ]
  },
  {
   "cell_type": "code",
   "execution_count": 16,
   "metadata": {},
   "outputs": [
    {
     "name": "stdout",
     "output_type": "stream",
     "text": [
      "Index(['交通', '政治', '教育', '環境', '經濟', '藝術', '計算機', '軍事', '醫藥', '體育'], dtype='object')\n",
      "0    5\n",
      "1    5\n",
      "2    5\n",
      "3    5\n",
      "4    5\n",
      "dtype: int8\n"
     ]
    }
   ],
   "source": [
    "category_series = train_df['category'].astype('category')\n",
    "print(category_series.cat.categories)\n",
    "print(category_series.cat.codes.head())"
   ]
  },
  {
   "cell_type": "code",
   "execution_count": 17,
   "metadata": {},
   "outputs": [],
   "source": [
    "test_df = readfile_flow(test_data_dirpath)"
   ]
  },
  {
   "cell_type": "code",
   "execution_count": 112,
   "metadata": {},
   "outputs": [],
   "source": [
    "df2['category'] = df2['category'].astype('category')\n",
    "df2['category'] = df2['category'].replace(category_map)"
   ]
  },
  {
   "cell_type": "code",
   "execution_count": 113,
   "metadata": {},
   "outputs": [
    {
     "data": {
      "text/html": [
       "<div>\n",
       "<style scoped>\n",
       "    .dataframe tbody tr th:only-of-type {\n",
       "        vertical-align: middle;\n",
       "    }\n",
       "\n",
       "    .dataframe tbody tr th {\n",
       "        vertical-align: top;\n",
       "    }\n",
       "\n",
       "    .dataframe thead th {\n",
       "        text-align: right;\n",
       "    }\n",
       "</style>\n",
       "<table border=\"1\" class=\"dataframe\">\n",
       "  <thead>\n",
       "    <tr style=\"text-align: right;\">\n",
       "      <th></th>\n",
       "      <th>category</th>\n",
       "      <th>content</th>\n",
       "    </tr>\n",
       "  </thead>\n",
       "  <tbody>\n",
       "    <tr>\n",
       "      <th>0</th>\n",
       "      <td>5</td>\n",
       "      <td>2000 - 02 - 20       大型 綜藝 晚會 浪費 現象 透視    　 　...</td>\n",
       "    </tr>\n",
       "    <tr>\n",
       "      <th>1</th>\n",
       "      <td>5</td>\n",
       "      <td>文化 事業 健康 繁榮                  　 　 “ 九五 ” 期間 ， 我...</td>\n",
       "    </tr>\n",
       "    <tr>\n",
       "      <th>2</th>\n",
       "      <td>5</td>\n",
       "      <td>臧天朔       （ 相關 作品 ）    姓名 ： 臧天朔     1964 年 3 月...</td>\n",
       "    </tr>\n",
       "    <tr>\n",
       "      <th>3</th>\n",
       "      <td>5</td>\n",
       "      <td>- - - - - - - - - - - - - - - - - - - - - - - ...</td>\n",
       "    </tr>\n",
       "    <tr>\n",
       "      <th>4</th>\n",
       "      <td>5</td>\n",
       "      <td>宣武 區 “ 十五 ” 期間 文化 事業 發展 計劃       一 、 “ 九五 ” 時期...</td>\n",
       "    </tr>\n",
       "  </tbody>\n",
       "</table>\n",
       "</div>"
      ],
      "text/plain": [
       "   category                                            content\n",
       "0         5   2000 - 02 - 20       大型 綜藝 晚會 浪費 現象 透視    　 　...\n",
       "1         5  文化 事業 健康 繁榮                  　 　 “ 九五 ” 期間 ， 我...\n",
       "2         5  臧天朔       （ 相關 作品 ）    姓名 ： 臧天朔     1964 年 3 月...\n",
       "3         5  - - - - - - - - - - - - - - - - - - - - - - - ...\n",
       "4         5  宣武 區 “ 十五 ” 期間 文化 事業 發展 計劃       一 、 “ 九五 ” 時期..."
      ]
     },
     "execution_count": 113,
     "metadata": {},
     "output_type": "execute_result"
    }
   ],
   "source": []
  },
  {
   "cell_type": "code",
   "execution_count": null,
   "metadata": {},
   "outputs": [],
   "source": []
  },
  {
   "cell_type": "code",
   "execution_count": null,
   "metadata": {},
   "outputs": [],
   "source": []
  }
 ],
 "metadata": {
  "kernelspec": {
   "display_name": "Python 3",
   "language": "python",
   "name": "python3"
  },
  "language_info": {
   "codemirror_mode": {
    "name": "ipython",
    "version": 3
   },
   "file_extension": ".py",
   "mimetype": "text/x-python",
   "name": "python",
   "nbconvert_exporter": "python",
   "pygments_lexer": "ipython3",
   "version": "3.6.5"
  }
 },
 "nbformat": 4,
 "nbformat_minor": 2
}
