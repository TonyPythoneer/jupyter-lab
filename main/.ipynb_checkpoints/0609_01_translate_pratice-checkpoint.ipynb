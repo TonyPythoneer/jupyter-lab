{
 "cells": [
  {
   "cell_type": "code",
   "execution_count": 4,
   "metadata": {},
   "outputs": [],
   "source": [
    "from opencc import OpenCC \n",
    "\n",
    "openCC = OpenCC('s2t')  # convert from Simplified Chinese to Traditional Chinese\n",
    "# can also set conversion by calling set_conversion\n",
    "# openCC.set_conversion('s2tw')\n",
    "to_convert = '开放中文转换'\n",
    "converted = openCC.convert(to_convert)"
   ]
  },
  {
   "cell_type": "code",
   "execution_count": 5,
   "metadata": {},
   "outputs": [
    {
     "name": "stdout",
     "output_type": "stream",
     "text": [
      "開放中文轉換\n"
     ]
    }
   ],
   "source": [
    "print(converted)"
   ]
  },
  {
   "cell_type": "code",
   "execution_count": 1,
   "metadata": {},
   "outputs": [],
   "source": [
    "import chardet"
   ]
  },
  {
   "cell_type": "code",
   "execution_count": 18,
   "metadata": {},
   "outputs": [
    {
     "name": "stdout",
     "output_type": "stream",
     "text": [
      "{'encoding': 'GB2312', 'confidence': 0.99, 'language': 'Chinese'}\n"
     ]
    }
   ],
   "source": [
    "f =  open('./nlp_news_datasets/chinese_news/交通214/41.TXT', 'rb')\n",
    "context = f.read()\n",
    "f.close()\n",
    "#print(context)\n",
    "result = chardet.detect(context)\n",
    "print(result)"
   ]
  },
  {
   "cell_type": "code",
   "execution_count": 26,
   "metadata": {},
   "outputs": [
    {
     "data": {
      "text/plain": [
       "'【 日  期 】19960104\\r\\n【 版  号 】1\\r\\n【 标  题 】合巢芜高速公路巢芜段竣工\\r\\n【 作  者 】彭建中\\r\\n【 正  文 】\\r\\n    安徽合（肥）巢（湖）芜（湖）高速公路巢芜段日前竣工通车并投入营运。合巢芜\\r\\n高速公路是国家规划的京福综合运输网的重要干线路段，是交通部确定１９９５年建成\\r\\n的全国１０条重点公路之一。该条高速公路正线长８８公里。（彭建中）\\r\\n    \\r\\n    \\r\\n    \\r\\n    \\r\\n'"
      ]
     },
     "execution_count": 26,
     "metadata": {},
     "output_type": "execute_result"
    }
   ],
   "source": [
    "c = context.decode(result['encoding'])\n",
    "c"
   ]
  },
  {
   "cell_type": "code",
   "execution_count": null,
   "metadata": {},
   "outputs": [],
   "source": []
  }
 ],
 "metadata": {
  "kernelspec": {
   "display_name": "Python 3",
   "language": "python",
   "name": "python3"
  },
  "language_info": {
   "codemirror_mode": {
    "name": "ipython",
    "version": 3
   },
   "file_extension": ".py",
   "mimetype": "text/x-python",
   "name": "python",
   "nbconvert_exporter": "python",
   "pygments_lexer": "ipython3",
   "version": "3.6.5"
  }
 },
 "nbformat": 4,
 "nbformat_minor": 2
}
